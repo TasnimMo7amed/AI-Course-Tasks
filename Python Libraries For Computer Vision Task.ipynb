{
 "cells": [
  {
   "cell_type": "markdown",
   "id": "33c5f953",
   "metadata": {},
   "source": [
    "## Python Libraries For Computer Vision"
   ]
  },
  {
   "cell_type": "markdown",
   "id": "74657f02",
   "metadata": {},
   "source": [
    "### OpenCV\n",
    "\n",
    "OpenCV is a popular and open-source computer vision library that is focussed on real-time applications. The library has a modular structure and includes several hundreds of computer vision algorithms. OpenCV includes a number of modules including image processing, video analysis, 2D feature framework, object detection, camera calibration, 3D reconstruction and more.  "
   ]
  },
  {
   "cell_type": "markdown",
   "id": "6630724b",
   "metadata": {},
   "source": [
    "### Matplotlib\n",
    "\n",
    "Matplotlib is a comprehensive visualisation library for creating static, animated and interactive visualisations in Python. The library can perform various functions like developing publication-quality plots, export and embed to a number of file formats and interactive environments, and more. "
   ]
  },
  {
   "cell_type": "markdown",
   "id": "d32ca810",
   "metadata": {},
   "source": [
    "### fastai\n",
    "\n",
    "fastai is a deep learning library that provides high-level components which can quickly and easily provide state-of-the-art results in standard deep learning domains. It also provides researchers with low-level components that can be mixed and matched to build new approaches. \n",
    "\n",
    "fastai includes various features, such as a GPU-optimised computer vision library which can be extended in pure Python, a new type dispatch system for Python along with a semantic type hierarchy for tensors and more.\n"
   ]
  },
  {
   "cell_type": "markdown",
   "id": "f22b111e",
   "metadata": {},
   "source": [
    "### Pytessarct\n",
    "\n",
    "Pytessarct or Python-tesseract is an optical character recognition (OCR) tool for the Python language. This tool is a wrapper for Google’s Tesseract-OCR Engine and helps in recognising and reading the text embedded in an image.\n",
    "\n",
    "The tool is also useful as a stand-alone invocation script to tesseract, as it can read all image types supported by the Pillow and Leptonica imaging libraries, including jpeg, png, gif, bmp, tiff, and others.\n"
   ]
  },
  {
   "cell_type": "markdown",
   "id": "523ec1b7",
   "metadata": {},
   "source": [
    "### IPSDK\n",
    "\n",
    "IPSDK is an image processing library in C++ and Python. The library offers a complete range of image processing features to process datasets as well as a comprehensive and optimised range of functionalities for 2D and 3D image processing. \n",
    "\n",
    "IPSDK automatically adjusts itself to the architecture and capabilities of the processor. The features of this library include full PC cluster support, high performance and high availability computing, etc.      \n"
   ]
  },
  {
   "cell_type": "markdown",
   "id": "724ad27e",
   "metadata": {},
   "source": [
    "### Imutils\n",
    "\n",
    "Imutils is a computer vision package that includes a series of OpenCV + convenience functions to make basic image processing functions such as translation, rotation, resizing, skeletonisation, displaying Matplotlib images, sorting contours, detecting edges, among others quite easy."
   ]
  },
  {
   "cell_type": "markdown",
   "id": "11044ecc",
   "metadata": {},
   "source": [
    "### Keras\n",
    "\n",
    "Written in Python, Keras is a high-level neural networks library that is capable of running on top of either TensorFlow or Theano. The library was developed with a focus on enabling fast experimentation.\n",
    "\n",
    "This deep learning library provides several features, including support for both convolutional networks and recurrent networks, allowing easy and fast prototyping, among others.\n"
   ]
  },
  {
   "cell_type": "markdown",
   "id": "7d6bc478",
   "metadata": {},
   "source": [
    "### PyTorchCV \n",
    "\n",
    "PyTorchCV is a PyTorch-based framework for computer vision tasks. The framework is a  collection of image classification, segmentation, detection, and pose estimation models. There are a number of implemented models in this framework, including AlexNet, ResNet, ResNeXt, PyramidNet, SparseNet, DRN-C/DRN-D and more.  "
   ]
  },
  {
   "cell_type": "markdown",
   "id": "1be5c477",
   "metadata": {},
   "source": [
    "### Scikit-Image \n",
    "\n",
    "Scikit-Image is a popular and open-source Python library that includes a collection of algorithms for image processing. It is basically an image processing toolbox for SciPy. The library is built on scipy.It is created to provide a versatile set of image processing routines in Python language. This image processing library provides a well-documented API in the Python programming language and implements algorithms and utilities for use in research, education and industry applications. \n"
   ]
  },
  {
   "cell_type": "markdown",
   "id": "ead0e3db",
   "metadata": {},
   "source": [
    "### SimpleCV \n",
    "\n",
    "SimpleCV is one of the popular machine vision frameworks for building computer vision applications. Written in Python, this library helps in getting access to several high-powered computer vision libraries such as OpenCV.\n",
    "\n",
    "The framework is a collection of libraries and software that can be used to develop vision applications. It provides a concise, readable interface for cameras, image manipulation, feature extraction and format conversion. It also allows user to work with the images or video streams that come from webcams, Kinects, FireWire and IP cameras, or mobile phones. "
   ]
  }
 ],
 "metadata": {
  "hide_input": false,
  "kernelspec": {
   "display_name": "Python 3 (ipykernel)",
   "language": "python",
   "name": "python3"
  },
  "language_info": {
   "codemirror_mode": {
    "name": "ipython",
    "version": 3
   },
   "file_extension": ".py",
   "mimetype": "text/x-python",
   "name": "python",
   "nbconvert_exporter": "python",
   "pygments_lexer": "ipython3",
   "version": "3.9.7"
  },
  "latex_envs": {
   "LaTeX_envs_menu_present": true,
   "autoclose": false,
   "autocomplete": true,
   "bibliofile": "biblio.bib",
   "cite_by": "apalike",
   "current_citInitial": 1,
   "eqLabelWithNumbers": true,
   "eqNumInitial": 1,
   "hotkeys": {
    "equation": "Ctrl-E",
    "itemize": "Ctrl-I"
   },
   "labels_anchors": false,
   "latex_user_defs": false,
   "report_style_numbering": false,
   "user_envs_cfg": false
  },
  "nbTranslate": {
   "displayLangs": [
    "*"
   ],
   "hotkey": "alt-t",
   "langInMainMenu": true,
   "sourceLang": "en",
   "targetLang": "fr",
   "useGoogleTranslate": true
  },
  "toc": {
   "base_numbering": 1,
   "nav_menu": {},
   "number_sections": true,
   "sideBar": true,
   "skip_h1_title": false,
   "title_cell": "Table of Contents",
   "title_sidebar": "Contents",
   "toc_cell": false,
   "toc_position": {},
   "toc_section_display": true,
   "toc_window_display": false
  },
  "varInspector": {
   "cols": {
    "lenName": 16,
    "lenType": 16,
    "lenVar": 40
   },
   "kernels_config": {
    "python": {
     "delete_cmd_postfix": "",
     "delete_cmd_prefix": "del ",
     "library": "var_list.py",
     "varRefreshCmd": "print(var_dic_list())"
    },
    "r": {
     "delete_cmd_postfix": ") ",
     "delete_cmd_prefix": "rm(",
     "library": "var_list.r",
     "varRefreshCmd": "cat(var_dic_list()) "
    }
   },
   "types_to_exclude": [
    "module",
    "function",
    "builtin_function_or_method",
    "instance",
    "_Feature"
   ],
   "window_display": false
  }
 },
 "nbformat": 4,
 "nbformat_minor": 5
}
