{
 "cells": [
  {
   "cell_type": "code",
   "execution_count": 459,
   "id": "f6b09f94",
   "metadata": {
    "ExecuteTime": {
     "end_time": "2022-08-25T09:06:20.382640Z",
     "start_time": "2022-08-25T09:06:20.372640Z"
    }
   },
   "outputs": [],
   "source": [
    "import  numpy as np\n",
    "import  pandas as pd\n",
    "import warnings\n",
    "warnings.filterwarnings('ignore')"
   ]
  },
  {
   "cell_type": "markdown",
   "id": "b4000bb6",
   "metadata": {},
   "source": [
    "# Importing data"
   ]
  },
  {
   "cell_type": "code",
   "execution_count": 460,
   "id": "188aa483",
   "metadata": {
    "ExecuteTime": {
     "end_time": "2022-08-25T09:06:21.682757Z",
     "start_time": "2022-08-25T09:06:21.641270Z"
    }
   },
   "outputs": [],
   "source": [
    "train = pd.read_csv('D:/AI-Course/Py.Prac/archive/train_u6lujuX_CVtuZ9i.csv')\n",
    "test = pd.read_csv('D:/AI-Course/Py.Prac/archive/test_Y3wMUE5_7gLdaTN.csv')"
   ]
  },
  {
   "cell_type": "markdown",
   "id": "4e93d9e4",
   "metadata": {
    "ExecuteTime": {
     "end_time": "2022-08-23T10:12:47.321753Z",
     "start_time": "2022-08-23T10:12:47.304236Z"
    }
   },
   "source": [
    "# Data Cleaning"
   ]
  },
  {
   "cell_type": "code",
   "execution_count": 461,
   "id": "4d133830",
   "metadata": {
    "ExecuteTime": {
     "end_time": "2022-08-25T09:06:23.335819Z",
     "start_time": "2022-08-25T09:06:23.309365Z"
    }
   },
   "outputs": [
    {
     "data": {
      "text/html": [
       "<div>\n",
       "<style scoped>\n",
       "    .dataframe tbody tr th:only-of-type {\n",
       "        vertical-align: middle;\n",
       "    }\n",
       "\n",
       "    .dataframe tbody tr th {\n",
       "        vertical-align: top;\n",
       "    }\n",
       "\n",
       "    .dataframe thead th {\n",
       "        text-align: right;\n",
       "    }\n",
       "</style>\n",
       "<table border=\"1\" class=\"dataframe\">\n",
       "  <thead>\n",
       "    <tr style=\"text-align: right;\">\n",
       "      <th></th>\n",
       "      <th>Loan_ID</th>\n",
       "      <th>Gender</th>\n",
       "      <th>Married</th>\n",
       "      <th>Dependents</th>\n",
       "      <th>Education</th>\n",
       "      <th>Self_Employed</th>\n",
       "      <th>ApplicantIncome</th>\n",
       "      <th>CoapplicantIncome</th>\n",
       "      <th>LoanAmount</th>\n",
       "      <th>Loan_Amount_Term</th>\n",
       "      <th>Credit_History</th>\n",
       "      <th>Property_Area</th>\n",
       "      <th>Loan_Status</th>\n",
       "    </tr>\n",
       "  </thead>\n",
       "  <tbody>\n",
       "    <tr>\n",
       "      <th>0</th>\n",
       "      <td>LP001002</td>\n",
       "      <td>Male</td>\n",
       "      <td>No</td>\n",
       "      <td>0</td>\n",
       "      <td>Graduate</td>\n",
       "      <td>No</td>\n",
       "      <td>5849</td>\n",
       "      <td>0.0</td>\n",
       "      <td>NaN</td>\n",
       "      <td>360.0</td>\n",
       "      <td>1.0</td>\n",
       "      <td>Urban</td>\n",
       "      <td>Y</td>\n",
       "    </tr>\n",
       "    <tr>\n",
       "      <th>1</th>\n",
       "      <td>LP001003</td>\n",
       "      <td>Male</td>\n",
       "      <td>Yes</td>\n",
       "      <td>1</td>\n",
       "      <td>Graduate</td>\n",
       "      <td>No</td>\n",
       "      <td>4583</td>\n",
       "      <td>1508.0</td>\n",
       "      <td>128.0</td>\n",
       "      <td>360.0</td>\n",
       "      <td>1.0</td>\n",
       "      <td>Rural</td>\n",
       "      <td>N</td>\n",
       "    </tr>\n",
       "    <tr>\n",
       "      <th>2</th>\n",
       "      <td>LP001005</td>\n",
       "      <td>Male</td>\n",
       "      <td>Yes</td>\n",
       "      <td>0</td>\n",
       "      <td>Graduate</td>\n",
       "      <td>Yes</td>\n",
       "      <td>3000</td>\n",
       "      <td>0.0</td>\n",
       "      <td>66.0</td>\n",
       "      <td>360.0</td>\n",
       "      <td>1.0</td>\n",
       "      <td>Urban</td>\n",
       "      <td>Y</td>\n",
       "    </tr>\n",
       "    <tr>\n",
       "      <th>3</th>\n",
       "      <td>LP001006</td>\n",
       "      <td>Male</td>\n",
       "      <td>Yes</td>\n",
       "      <td>0</td>\n",
       "      <td>Not Graduate</td>\n",
       "      <td>No</td>\n",
       "      <td>2583</td>\n",
       "      <td>2358.0</td>\n",
       "      <td>120.0</td>\n",
       "      <td>360.0</td>\n",
       "      <td>1.0</td>\n",
       "      <td>Urban</td>\n",
       "      <td>Y</td>\n",
       "    </tr>\n",
       "    <tr>\n",
       "      <th>4</th>\n",
       "      <td>LP001008</td>\n",
       "      <td>Male</td>\n",
       "      <td>No</td>\n",
       "      <td>0</td>\n",
       "      <td>Graduate</td>\n",
       "      <td>No</td>\n",
       "      <td>6000</td>\n",
       "      <td>0.0</td>\n",
       "      <td>141.0</td>\n",
       "      <td>360.0</td>\n",
       "      <td>1.0</td>\n",
       "      <td>Urban</td>\n",
       "      <td>Y</td>\n",
       "    </tr>\n",
       "    <tr>\n",
       "      <th>...</th>\n",
       "      <td>...</td>\n",
       "      <td>...</td>\n",
       "      <td>...</td>\n",
       "      <td>...</td>\n",
       "      <td>...</td>\n",
       "      <td>...</td>\n",
       "      <td>...</td>\n",
       "      <td>...</td>\n",
       "      <td>...</td>\n",
       "      <td>...</td>\n",
       "      <td>...</td>\n",
       "      <td>...</td>\n",
       "      <td>...</td>\n",
       "    </tr>\n",
       "    <tr>\n",
       "      <th>609</th>\n",
       "      <td>LP002978</td>\n",
       "      <td>Female</td>\n",
       "      <td>No</td>\n",
       "      <td>0</td>\n",
       "      <td>Graduate</td>\n",
       "      <td>No</td>\n",
       "      <td>2900</td>\n",
       "      <td>0.0</td>\n",
       "      <td>71.0</td>\n",
       "      <td>360.0</td>\n",
       "      <td>1.0</td>\n",
       "      <td>Rural</td>\n",
       "      <td>Y</td>\n",
       "    </tr>\n",
       "    <tr>\n",
       "      <th>610</th>\n",
       "      <td>LP002979</td>\n",
       "      <td>Male</td>\n",
       "      <td>Yes</td>\n",
       "      <td>3+</td>\n",
       "      <td>Graduate</td>\n",
       "      <td>No</td>\n",
       "      <td>4106</td>\n",
       "      <td>0.0</td>\n",
       "      <td>40.0</td>\n",
       "      <td>180.0</td>\n",
       "      <td>1.0</td>\n",
       "      <td>Rural</td>\n",
       "      <td>Y</td>\n",
       "    </tr>\n",
       "    <tr>\n",
       "      <th>611</th>\n",
       "      <td>LP002983</td>\n",
       "      <td>Male</td>\n",
       "      <td>Yes</td>\n",
       "      <td>1</td>\n",
       "      <td>Graduate</td>\n",
       "      <td>No</td>\n",
       "      <td>8072</td>\n",
       "      <td>240.0</td>\n",
       "      <td>253.0</td>\n",
       "      <td>360.0</td>\n",
       "      <td>1.0</td>\n",
       "      <td>Urban</td>\n",
       "      <td>Y</td>\n",
       "    </tr>\n",
       "    <tr>\n",
       "      <th>612</th>\n",
       "      <td>LP002984</td>\n",
       "      <td>Male</td>\n",
       "      <td>Yes</td>\n",
       "      <td>2</td>\n",
       "      <td>Graduate</td>\n",
       "      <td>No</td>\n",
       "      <td>7583</td>\n",
       "      <td>0.0</td>\n",
       "      <td>187.0</td>\n",
       "      <td>360.0</td>\n",
       "      <td>1.0</td>\n",
       "      <td>Urban</td>\n",
       "      <td>Y</td>\n",
       "    </tr>\n",
       "    <tr>\n",
       "      <th>613</th>\n",
       "      <td>LP002990</td>\n",
       "      <td>Female</td>\n",
       "      <td>No</td>\n",
       "      <td>0</td>\n",
       "      <td>Graduate</td>\n",
       "      <td>Yes</td>\n",
       "      <td>4583</td>\n",
       "      <td>0.0</td>\n",
       "      <td>133.0</td>\n",
       "      <td>360.0</td>\n",
       "      <td>0.0</td>\n",
       "      <td>Semiurban</td>\n",
       "      <td>N</td>\n",
       "    </tr>\n",
       "  </tbody>\n",
       "</table>\n",
       "<p>614 rows × 13 columns</p>\n",
       "</div>"
      ],
      "text/plain": [
       "      Loan_ID  Gender Married Dependents     Education Self_Employed  \\\n",
       "0    LP001002    Male      No          0      Graduate            No   \n",
       "1    LP001003    Male     Yes          1      Graduate            No   \n",
       "2    LP001005    Male     Yes          0      Graduate           Yes   \n",
       "3    LP001006    Male     Yes          0  Not Graduate            No   \n",
       "4    LP001008    Male      No          0      Graduate            No   \n",
       "..        ...     ...     ...        ...           ...           ...   \n",
       "609  LP002978  Female      No          0      Graduate            No   \n",
       "610  LP002979    Male     Yes         3+      Graduate            No   \n",
       "611  LP002983    Male     Yes          1      Graduate            No   \n",
       "612  LP002984    Male     Yes          2      Graduate            No   \n",
       "613  LP002990  Female      No          0      Graduate           Yes   \n",
       "\n",
       "     ApplicantIncome  CoapplicantIncome  LoanAmount  Loan_Amount_Term  \\\n",
       "0               5849                0.0         NaN             360.0   \n",
       "1               4583             1508.0       128.0             360.0   \n",
       "2               3000                0.0        66.0             360.0   \n",
       "3               2583             2358.0       120.0             360.0   \n",
       "4               6000                0.0       141.0             360.0   \n",
       "..               ...                ...         ...               ...   \n",
       "609             2900                0.0        71.0             360.0   \n",
       "610             4106                0.0        40.0             180.0   \n",
       "611             8072              240.0       253.0             360.0   \n",
       "612             7583                0.0       187.0             360.0   \n",
       "613             4583                0.0       133.0             360.0   \n",
       "\n",
       "     Credit_History Property_Area Loan_Status  \n",
       "0               1.0         Urban           Y  \n",
       "1               1.0         Rural           N  \n",
       "2               1.0         Urban           Y  \n",
       "3               1.0         Urban           Y  \n",
       "4               1.0         Urban           Y  \n",
       "..              ...           ...         ...  \n",
       "609             1.0         Rural           Y  \n",
       "610             1.0         Rural           Y  \n",
       "611             1.0         Urban           Y  \n",
       "612             1.0         Urban           Y  \n",
       "613             0.0     Semiurban           N  \n",
       "\n",
       "[614 rows x 13 columns]"
      ]
     },
     "execution_count": 461,
     "metadata": {},
     "output_type": "execute_result"
    }
   ],
   "source": [
    "train"
   ]
  },
  {
   "cell_type": "code",
   "execution_count": 462,
   "id": "ee9e5a6e",
   "metadata": {
    "ExecuteTime": {
     "end_time": "2022-08-25T09:06:24.128417Z",
     "start_time": "2022-08-25T09:06:24.105479Z"
    }
   },
   "outputs": [
    {
     "name": "stdout",
     "output_type": "stream",
     "text": [
      "<class 'pandas.core.frame.DataFrame'>\n",
      "RangeIndex: 614 entries, 0 to 613\n",
      "Data columns (total 13 columns):\n",
      " #   Column             Non-Null Count  Dtype  \n",
      "---  ------             --------------  -----  \n",
      " 0   Loan_ID            614 non-null    object \n",
      " 1   Gender             601 non-null    object \n",
      " 2   Married            611 non-null    object \n",
      " 3   Dependents         599 non-null    object \n",
      " 4   Education          614 non-null    object \n",
      " 5   Self_Employed      582 non-null    object \n",
      " 6   ApplicantIncome    614 non-null    int64  \n",
      " 7   CoapplicantIncome  614 non-null    float64\n",
      " 8   LoanAmount         592 non-null    float64\n",
      " 9   Loan_Amount_Term   600 non-null    float64\n",
      " 10  Credit_History     564 non-null    float64\n",
      " 11  Property_Area      614 non-null    object \n",
      " 12  Loan_Status        614 non-null    object \n",
      "dtypes: float64(4), int64(1), object(8)\n",
      "memory usage: 62.5+ KB\n"
     ]
    }
   ],
   "source": [
    "train.info() "
   ]
  },
  {
   "cell_type": "code",
   "execution_count": 463,
   "id": "a7598c84",
   "metadata": {
    "ExecuteTime": {
     "end_time": "2022-08-25T09:06:24.940477Z",
     "start_time": "2022-08-25T09:06:24.931496Z"
    }
   },
   "outputs": [
    {
     "data": {
      "text/plain": [
       "Loan_ID               0\n",
       "Gender               13\n",
       "Married               3\n",
       "Dependents           15\n",
       "Education             0\n",
       "Self_Employed        32\n",
       "ApplicantIncome       0\n",
       "CoapplicantIncome     0\n",
       "LoanAmount           22\n",
       "Loan_Amount_Term     14\n",
       "Credit_History       50\n",
       "Property_Area         0\n",
       "Loan_Status           0\n",
       "dtype: int64"
      ]
     },
     "execution_count": 463,
     "metadata": {},
     "output_type": "execute_result"
    }
   ],
   "source": [
    "train.isnull().sum()"
   ]
  },
  {
   "cell_type": "code",
   "execution_count": 464,
   "id": "3b9a7326",
   "metadata": {
    "ExecuteTime": {
     "end_time": "2022-08-25T09:06:25.528331Z",
     "start_time": "2022-08-25T09:06:25.510145Z"
    }
   },
   "outputs": [
    {
     "data": {
      "text/html": [
       "<div>\n",
       "<style scoped>\n",
       "    .dataframe tbody tr th:only-of-type {\n",
       "        vertical-align: middle;\n",
       "    }\n",
       "\n",
       "    .dataframe tbody tr th {\n",
       "        vertical-align: top;\n",
       "    }\n",
       "\n",
       "    .dataframe thead th {\n",
       "        text-align: right;\n",
       "    }\n",
       "</style>\n",
       "<table border=\"1\" class=\"dataframe\">\n",
       "  <thead>\n",
       "    <tr style=\"text-align: right;\">\n",
       "      <th></th>\n",
       "      <th>Loan_ID</th>\n",
       "      <th>Gender</th>\n",
       "      <th>Married</th>\n",
       "      <th>Dependents</th>\n",
       "      <th>Education</th>\n",
       "      <th>Self_Employed</th>\n",
       "      <th>ApplicantIncome</th>\n",
       "      <th>CoapplicantIncome</th>\n",
       "      <th>LoanAmount</th>\n",
       "      <th>Loan_Amount_Term</th>\n",
       "      <th>Credit_History</th>\n",
       "      <th>Property_Area</th>\n",
       "    </tr>\n",
       "  </thead>\n",
       "  <tbody>\n",
       "    <tr>\n",
       "      <th>0</th>\n",
       "      <td>LP001015</td>\n",
       "      <td>Male</td>\n",
       "      <td>Yes</td>\n",
       "      <td>0</td>\n",
       "      <td>Graduate</td>\n",
       "      <td>No</td>\n",
       "      <td>5720</td>\n",
       "      <td>0</td>\n",
       "      <td>110.0</td>\n",
       "      <td>360.0</td>\n",
       "      <td>1.0</td>\n",
       "      <td>Urban</td>\n",
       "    </tr>\n",
       "    <tr>\n",
       "      <th>1</th>\n",
       "      <td>LP001022</td>\n",
       "      <td>Male</td>\n",
       "      <td>Yes</td>\n",
       "      <td>1</td>\n",
       "      <td>Graduate</td>\n",
       "      <td>No</td>\n",
       "      <td>3076</td>\n",
       "      <td>1500</td>\n",
       "      <td>126.0</td>\n",
       "      <td>360.0</td>\n",
       "      <td>1.0</td>\n",
       "      <td>Urban</td>\n",
       "    </tr>\n",
       "    <tr>\n",
       "      <th>2</th>\n",
       "      <td>LP001031</td>\n",
       "      <td>Male</td>\n",
       "      <td>Yes</td>\n",
       "      <td>2</td>\n",
       "      <td>Graduate</td>\n",
       "      <td>No</td>\n",
       "      <td>5000</td>\n",
       "      <td>1800</td>\n",
       "      <td>208.0</td>\n",
       "      <td>360.0</td>\n",
       "      <td>1.0</td>\n",
       "      <td>Urban</td>\n",
       "    </tr>\n",
       "    <tr>\n",
       "      <th>3</th>\n",
       "      <td>LP001035</td>\n",
       "      <td>Male</td>\n",
       "      <td>Yes</td>\n",
       "      <td>2</td>\n",
       "      <td>Graduate</td>\n",
       "      <td>No</td>\n",
       "      <td>2340</td>\n",
       "      <td>2546</td>\n",
       "      <td>100.0</td>\n",
       "      <td>360.0</td>\n",
       "      <td>NaN</td>\n",
       "      <td>Urban</td>\n",
       "    </tr>\n",
       "    <tr>\n",
       "      <th>4</th>\n",
       "      <td>LP001051</td>\n",
       "      <td>Male</td>\n",
       "      <td>No</td>\n",
       "      <td>0</td>\n",
       "      <td>Not Graduate</td>\n",
       "      <td>No</td>\n",
       "      <td>3276</td>\n",
       "      <td>0</td>\n",
       "      <td>78.0</td>\n",
       "      <td>360.0</td>\n",
       "      <td>1.0</td>\n",
       "      <td>Urban</td>\n",
       "    </tr>\n",
       "    <tr>\n",
       "      <th>...</th>\n",
       "      <td>...</td>\n",
       "      <td>...</td>\n",
       "      <td>...</td>\n",
       "      <td>...</td>\n",
       "      <td>...</td>\n",
       "      <td>...</td>\n",
       "      <td>...</td>\n",
       "      <td>...</td>\n",
       "      <td>...</td>\n",
       "      <td>...</td>\n",
       "      <td>...</td>\n",
       "      <td>...</td>\n",
       "    </tr>\n",
       "    <tr>\n",
       "      <th>362</th>\n",
       "      <td>LP002971</td>\n",
       "      <td>Male</td>\n",
       "      <td>Yes</td>\n",
       "      <td>3+</td>\n",
       "      <td>Not Graduate</td>\n",
       "      <td>Yes</td>\n",
       "      <td>4009</td>\n",
       "      <td>1777</td>\n",
       "      <td>113.0</td>\n",
       "      <td>360.0</td>\n",
       "      <td>1.0</td>\n",
       "      <td>Urban</td>\n",
       "    </tr>\n",
       "    <tr>\n",
       "      <th>363</th>\n",
       "      <td>LP002975</td>\n",
       "      <td>Male</td>\n",
       "      <td>Yes</td>\n",
       "      <td>0</td>\n",
       "      <td>Graduate</td>\n",
       "      <td>No</td>\n",
       "      <td>4158</td>\n",
       "      <td>709</td>\n",
       "      <td>115.0</td>\n",
       "      <td>360.0</td>\n",
       "      <td>1.0</td>\n",
       "      <td>Urban</td>\n",
       "    </tr>\n",
       "    <tr>\n",
       "      <th>364</th>\n",
       "      <td>LP002980</td>\n",
       "      <td>Male</td>\n",
       "      <td>No</td>\n",
       "      <td>0</td>\n",
       "      <td>Graduate</td>\n",
       "      <td>No</td>\n",
       "      <td>3250</td>\n",
       "      <td>1993</td>\n",
       "      <td>126.0</td>\n",
       "      <td>360.0</td>\n",
       "      <td>NaN</td>\n",
       "      <td>Semiurban</td>\n",
       "    </tr>\n",
       "    <tr>\n",
       "      <th>365</th>\n",
       "      <td>LP002986</td>\n",
       "      <td>Male</td>\n",
       "      <td>Yes</td>\n",
       "      <td>0</td>\n",
       "      <td>Graduate</td>\n",
       "      <td>No</td>\n",
       "      <td>5000</td>\n",
       "      <td>2393</td>\n",
       "      <td>158.0</td>\n",
       "      <td>360.0</td>\n",
       "      <td>1.0</td>\n",
       "      <td>Rural</td>\n",
       "    </tr>\n",
       "    <tr>\n",
       "      <th>366</th>\n",
       "      <td>LP002989</td>\n",
       "      <td>Male</td>\n",
       "      <td>No</td>\n",
       "      <td>0</td>\n",
       "      <td>Graduate</td>\n",
       "      <td>Yes</td>\n",
       "      <td>9200</td>\n",
       "      <td>0</td>\n",
       "      <td>98.0</td>\n",
       "      <td>180.0</td>\n",
       "      <td>1.0</td>\n",
       "      <td>Rural</td>\n",
       "    </tr>\n",
       "  </tbody>\n",
       "</table>\n",
       "<p>367 rows × 12 columns</p>\n",
       "</div>"
      ],
      "text/plain": [
       "      Loan_ID Gender Married Dependents     Education Self_Employed  \\\n",
       "0    LP001015   Male     Yes          0      Graduate            No   \n",
       "1    LP001022   Male     Yes          1      Graduate            No   \n",
       "2    LP001031   Male     Yes          2      Graduate            No   \n",
       "3    LP001035   Male     Yes          2      Graduate            No   \n",
       "4    LP001051   Male      No          0  Not Graduate            No   \n",
       "..        ...    ...     ...        ...           ...           ...   \n",
       "362  LP002971   Male     Yes         3+  Not Graduate           Yes   \n",
       "363  LP002975   Male     Yes          0      Graduate            No   \n",
       "364  LP002980   Male      No          0      Graduate            No   \n",
       "365  LP002986   Male     Yes          0      Graduate            No   \n",
       "366  LP002989   Male      No          0      Graduate           Yes   \n",
       "\n",
       "     ApplicantIncome  CoapplicantIncome  LoanAmount  Loan_Amount_Term  \\\n",
       "0               5720                  0       110.0             360.0   \n",
       "1               3076               1500       126.0             360.0   \n",
       "2               5000               1800       208.0             360.0   \n",
       "3               2340               2546       100.0             360.0   \n",
       "4               3276                  0        78.0             360.0   \n",
       "..               ...                ...         ...               ...   \n",
       "362             4009               1777       113.0             360.0   \n",
       "363             4158                709       115.0             360.0   \n",
       "364             3250               1993       126.0             360.0   \n",
       "365             5000               2393       158.0             360.0   \n",
       "366             9200                  0        98.0             180.0   \n",
       "\n",
       "     Credit_History Property_Area  \n",
       "0               1.0         Urban  \n",
       "1               1.0         Urban  \n",
       "2               1.0         Urban  \n",
       "3               NaN         Urban  \n",
       "4               1.0         Urban  \n",
       "..              ...           ...  \n",
       "362             1.0         Urban  \n",
       "363             1.0         Urban  \n",
       "364             NaN     Semiurban  \n",
       "365             1.0         Rural  \n",
       "366             1.0         Rural  \n",
       "\n",
       "[367 rows x 12 columns]"
      ]
     },
     "execution_count": 464,
     "metadata": {},
     "output_type": "execute_result"
    }
   ],
   "source": [
    "test"
   ]
  },
  {
   "cell_type": "code",
   "execution_count": 465,
   "id": "0b87b0fd",
   "metadata": {
    "ExecuteTime": {
     "end_time": "2022-08-25T09:06:26.260717Z",
     "start_time": "2022-08-25T09:06:26.241740Z"
    }
   },
   "outputs": [
    {
     "name": "stdout",
     "output_type": "stream",
     "text": [
      "<class 'pandas.core.frame.DataFrame'>\n",
      "RangeIndex: 367 entries, 0 to 366\n",
      "Data columns (total 12 columns):\n",
      " #   Column             Non-Null Count  Dtype  \n",
      "---  ------             --------------  -----  \n",
      " 0   Loan_ID            367 non-null    object \n",
      " 1   Gender             356 non-null    object \n",
      " 2   Married            367 non-null    object \n",
      " 3   Dependents         357 non-null    object \n",
      " 4   Education          367 non-null    object \n",
      " 5   Self_Employed      344 non-null    object \n",
      " 6   ApplicantIncome    367 non-null    int64  \n",
      " 7   CoapplicantIncome  367 non-null    int64  \n",
      " 8   LoanAmount         362 non-null    float64\n",
      " 9   Loan_Amount_Term   361 non-null    float64\n",
      " 10  Credit_History     338 non-null    float64\n",
      " 11  Property_Area      367 non-null    object \n",
      "dtypes: float64(3), int64(2), object(7)\n",
      "memory usage: 34.5+ KB\n"
     ]
    }
   ],
   "source": [
    "test.info()"
   ]
  },
  {
   "cell_type": "code",
   "execution_count": 466,
   "id": "0a33b783",
   "metadata": {
    "ExecuteTime": {
     "end_time": "2022-08-25T09:06:26.806717Z",
     "start_time": "2022-08-25T09:06:26.782471Z"
    }
   },
   "outputs": [
    {
     "data": {
      "text/plain": [
       "Loan_ID               0\n",
       "Gender               11\n",
       "Married               0\n",
       "Dependents           10\n",
       "Education             0\n",
       "Self_Employed        23\n",
       "ApplicantIncome       0\n",
       "CoapplicantIncome     0\n",
       "LoanAmount            5\n",
       "Loan_Amount_Term      6\n",
       "Credit_History       29\n",
       "Property_Area         0\n",
       "dtype: int64"
      ]
     },
     "execution_count": 466,
     "metadata": {},
     "output_type": "execute_result"
    }
   ],
   "source": [
    "test.isnull().sum()"
   ]
  },
  {
   "cell_type": "markdown",
   "id": "c997a0c0",
   "metadata": {},
   "source": [
    "**Approval of loans between Males & Females**"
   ]
  },
  {
   "cell_type": "code",
   "execution_count": 467,
   "id": "929645e3",
   "metadata": {
    "ExecuteTime": {
     "end_time": "2022-08-25T09:06:28.301246Z",
     "start_time": "2022-08-25T09:06:28.265343Z"
    }
   },
   "outputs": [
    {
     "data": {
      "text/html": [
       "<div>\n",
       "<style scoped>\n",
       "    .dataframe tbody tr th:only-of-type {\n",
       "        vertical-align: middle;\n",
       "    }\n",
       "\n",
       "    .dataframe tbody tr th {\n",
       "        vertical-align: top;\n",
       "    }\n",
       "\n",
       "    .dataframe thead th {\n",
       "        text-align: right;\n",
       "    }\n",
       "</style>\n",
       "<table border=\"1\" class=\"dataframe\">\n",
       "  <thead>\n",
       "    <tr style=\"text-align: right;\">\n",
       "      <th>Loan_Status</th>\n",
       "      <th>N</th>\n",
       "      <th>Y</th>\n",
       "      <th>All</th>\n",
       "    </tr>\n",
       "    <tr>\n",
       "      <th>Gender</th>\n",
       "      <th></th>\n",
       "      <th></th>\n",
       "      <th></th>\n",
       "    </tr>\n",
       "  </thead>\n",
       "  <tbody>\n",
       "    <tr>\n",
       "      <th>Female</th>\n",
       "      <td>37</td>\n",
       "      <td>75</td>\n",
       "      <td>112</td>\n",
       "    </tr>\n",
       "    <tr>\n",
       "      <th>Male</th>\n",
       "      <td>150</td>\n",
       "      <td>339</td>\n",
       "      <td>489</td>\n",
       "    </tr>\n",
       "    <tr>\n",
       "      <th>All</th>\n",
       "      <td>187</td>\n",
       "      <td>414</td>\n",
       "      <td>601</td>\n",
       "    </tr>\n",
       "  </tbody>\n",
       "</table>\n",
       "</div>"
      ],
      "text/plain": [
       "Loan_Status    N    Y  All\n",
       "Gender                    \n",
       "Female        37   75  112\n",
       "Male         150  339  489\n",
       "All          187  414  601"
      ]
     },
     "execution_count": 467,
     "metadata": {},
     "output_type": "execute_result"
    }
   ],
   "source": [
    "pd.crosstab(train.Gender, train.Loan_Status, margins = True)"
   ]
  },
  {
   "cell_type": "markdown",
   "id": "e0d8c2e5",
   "metadata": {},
   "source": [
    "**Filling up NAN values of Gender and Converting categorial variables(Female,Male) to numerical variables(0,1)**"
   ]
  },
  {
   "cell_type": "code",
   "execution_count": 468,
   "id": "90a285f8",
   "metadata": {
    "ExecuteTime": {
     "end_time": "2022-08-25T09:06:29.903235Z",
     "start_time": "2022-08-25T09:06:29.878971Z"
    }
   },
   "outputs": [],
   "source": [
    "train.Gender = train.Gender.fillna(train.Gender.mode())\n",
    "test.Gender = test.Gender.fillna(test.Gender.mode())"
   ]
  },
  {
   "cell_type": "code",
   "execution_count": 469,
   "id": "37015cf4",
   "metadata": {
    "ExecuteTime": {
     "end_time": "2022-08-25T09:06:30.510391Z",
     "start_time": "2022-08-25T09:06:30.500419Z"
    }
   },
   "outputs": [],
   "source": [
    "sex = pd.get_dummies(train['Gender'] , drop_first = True )"
   ]
  },
  {
   "cell_type": "code",
   "execution_count": 470,
   "id": "98264c63",
   "metadata": {
    "ExecuteTime": {
     "end_time": "2022-08-25T09:06:31.273047Z",
     "start_time": "2022-08-25T09:06:31.259073Z"
    }
   },
   "outputs": [],
   "source": [
    "train.drop(['Gender'], axis = 1 , inplace =True)\n",
    "train = pd.concat([train , sex ] , axis = 1)"
   ]
  },
  {
   "cell_type": "code",
   "execution_count": 471,
   "id": "5b8ff3ed",
   "metadata": {
    "ExecuteTime": {
     "end_time": "2022-08-25T09:06:31.785513Z",
     "start_time": "2022-08-25T09:06:31.765540Z"
    }
   },
   "outputs": [],
   "source": [
    "sex = pd.get_dummies(test['Gender'] , drop_first = True )"
   ]
  },
  {
   "cell_type": "code",
   "execution_count": 472,
   "id": "c0203c0a",
   "metadata": {
    "ExecuteTime": {
     "end_time": "2022-08-25T09:06:32.236827Z",
     "start_time": "2022-08-25T09:06:32.219872Z"
    }
   },
   "outputs": [],
   "source": [
    "test.drop(['Gender'], axis = 1 , inplace =True)\n",
    "test = pd.concat([test , sex ] , axis = 1)"
   ]
  },
  {
   "cell_type": "code",
   "execution_count": 473,
   "id": "6625e835",
   "metadata": {
    "ExecuteTime": {
     "end_time": "2022-08-25T09:06:32.667855Z",
     "start_time": "2022-08-25T09:06:32.659877Z"
    }
   },
   "outputs": [],
   "source": [
    "train.rename(columns = {'Male':'gender'}, inplace = True)"
   ]
  },
  {
   "cell_type": "code",
   "execution_count": 474,
   "id": "2f98048b",
   "metadata": {
    "ExecuteTime": {
     "end_time": "2022-08-25T09:06:33.056229Z",
     "start_time": "2022-08-25T09:06:33.045224Z"
    }
   },
   "outputs": [],
   "source": [
    "test.rename(columns = {'Male':'gender'}, inplace = True)"
   ]
  },
  {
   "cell_type": "markdown",
   "id": "1036bbd6",
   "metadata": {},
   "source": [
    "**Approval of loans between different sizes of families**"
   ]
  },
  {
   "cell_type": "code",
   "execution_count": 475,
   "id": "d7059ba0",
   "metadata": {
    "ExecuteTime": {
     "end_time": "2022-08-25T09:06:33.928405Z",
     "start_time": "2022-08-25T09:06:33.895499Z"
    }
   },
   "outputs": [
    {
     "data": {
      "text/html": [
       "<div>\n",
       "<style scoped>\n",
       "    .dataframe tbody tr th:only-of-type {\n",
       "        vertical-align: middle;\n",
       "    }\n",
       "\n",
       "    .dataframe tbody tr th {\n",
       "        vertical-align: top;\n",
       "    }\n",
       "\n",
       "    .dataframe thead th {\n",
       "        text-align: right;\n",
       "    }\n",
       "</style>\n",
       "<table border=\"1\" class=\"dataframe\">\n",
       "  <thead>\n",
       "    <tr style=\"text-align: right;\">\n",
       "      <th>Loan_Status</th>\n",
       "      <th>N</th>\n",
       "      <th>Y</th>\n",
       "      <th>All</th>\n",
       "    </tr>\n",
       "    <tr>\n",
       "      <th>Dependents</th>\n",
       "      <th></th>\n",
       "      <th></th>\n",
       "      <th></th>\n",
       "    </tr>\n",
       "  </thead>\n",
       "  <tbody>\n",
       "    <tr>\n",
       "      <th>0</th>\n",
       "      <td>107</td>\n",
       "      <td>238</td>\n",
       "      <td>345</td>\n",
       "    </tr>\n",
       "    <tr>\n",
       "      <th>1</th>\n",
       "      <td>36</td>\n",
       "      <td>66</td>\n",
       "      <td>102</td>\n",
       "    </tr>\n",
       "    <tr>\n",
       "      <th>2</th>\n",
       "      <td>25</td>\n",
       "      <td>76</td>\n",
       "      <td>101</td>\n",
       "    </tr>\n",
       "    <tr>\n",
       "      <th>3+</th>\n",
       "      <td>18</td>\n",
       "      <td>33</td>\n",
       "      <td>51</td>\n",
       "    </tr>\n",
       "    <tr>\n",
       "      <th>All</th>\n",
       "      <td>186</td>\n",
       "      <td>413</td>\n",
       "      <td>599</td>\n",
       "    </tr>\n",
       "  </tbody>\n",
       "</table>\n",
       "</div>"
      ],
      "text/plain": [
       "Loan_Status    N    Y  All\n",
       "Dependents                \n",
       "0            107  238  345\n",
       "1             36   66  102\n",
       "2             25   76  101\n",
       "3+            18   33   51\n",
       "All          186  413  599"
      ]
     },
     "execution_count": 475,
     "metadata": {},
     "output_type": "execute_result"
    }
   ],
   "source": [
    "pd.crosstab(train.Dependents , train.Loan_Status, margins = True)"
   ]
  },
  {
   "cell_type": "markdown",
   "id": "f4f0d7cf",
   "metadata": {},
   "source": [
    "**Filling up NAN values of Dependents and Converting categorial variables(1,2,3+) to numerical variables(1,2,3)**"
   ]
  },
  {
   "cell_type": "code",
   "execution_count": 476,
   "id": "4d8e8e3b",
   "metadata": {
    "ExecuteTime": {
     "end_time": "2022-08-25T09:06:34.705765Z",
     "start_time": "2022-08-25T09:06:34.694796Z"
    }
   },
   "outputs": [
    {
     "data": {
      "text/plain": [
       "array(['0', '1', '2', '3+', nan], dtype=object)"
      ]
     },
     "execution_count": 476,
     "metadata": {},
     "output_type": "execute_result"
    }
   ],
   "source": [
    "train.Dependents.unique()"
   ]
  },
  {
   "cell_type": "code",
   "execution_count": 477,
   "id": "f2840cce",
   "metadata": {
    "ExecuteTime": {
     "end_time": "2022-08-25T09:06:35.174657Z",
     "start_time": "2022-08-25T09:06:35.152706Z"
    }
   },
   "outputs": [],
   "source": [
    "train.Dependents = train.Dependents.fillna(\"0\")\n",
    "test.Dependents = test.Dependents.fillna(\"0\")\n",
    "\n",
    "rplc = {'0':'0', '1':'1', '2':'2', '3+':'3'}\n",
    "\n",
    "train.Dependents = train.Dependents.replace(rplc).astype(int)\n",
    "test.Dependents = test.Dependents.replace(rplc).astype(int)"
   ]
  },
  {
   "cell_type": "markdown",
   "id": "8d72ca44",
   "metadata": {},
   "source": [
    "**Approval of loans people those who have Credit History and those who don't**"
   ]
  },
  {
   "cell_type": "code",
   "execution_count": 478,
   "id": "9f4439bf",
   "metadata": {
    "ExecuteTime": {
     "end_time": "2022-08-25T09:06:35.934901Z",
     "start_time": "2022-08-25T09:06:35.893805Z"
    }
   },
   "outputs": [
    {
     "data": {
      "text/html": [
       "<div>\n",
       "<style scoped>\n",
       "    .dataframe tbody tr th:only-of-type {\n",
       "        vertical-align: middle;\n",
       "    }\n",
       "\n",
       "    .dataframe tbody tr th {\n",
       "        vertical-align: top;\n",
       "    }\n",
       "\n",
       "    .dataframe thead th {\n",
       "        text-align: right;\n",
       "    }\n",
       "</style>\n",
       "<table border=\"1\" class=\"dataframe\">\n",
       "  <thead>\n",
       "    <tr style=\"text-align: right;\">\n",
       "      <th>Loan_Status</th>\n",
       "      <th>N</th>\n",
       "      <th>Y</th>\n",
       "      <th>All</th>\n",
       "    </tr>\n",
       "    <tr>\n",
       "      <th>Credit_History</th>\n",
       "      <th></th>\n",
       "      <th></th>\n",
       "      <th></th>\n",
       "    </tr>\n",
       "  </thead>\n",
       "  <tbody>\n",
       "    <tr>\n",
       "      <th>0.0</th>\n",
       "      <td>82</td>\n",
       "      <td>7</td>\n",
       "      <td>89</td>\n",
       "    </tr>\n",
       "    <tr>\n",
       "      <th>1.0</th>\n",
       "      <td>97</td>\n",
       "      <td>378</td>\n",
       "      <td>475</td>\n",
       "    </tr>\n",
       "    <tr>\n",
       "      <th>All</th>\n",
       "      <td>179</td>\n",
       "      <td>385</td>\n",
       "      <td>564</td>\n",
       "    </tr>\n",
       "  </tbody>\n",
       "</table>\n",
       "</div>"
      ],
      "text/plain": [
       "Loan_Status       N    Y  All\n",
       "Credit_History               \n",
       "0.0              82    7   89\n",
       "1.0              97  378  475\n",
       "All             179  385  564"
      ]
     },
     "execution_count": 478,
     "metadata": {},
     "output_type": "execute_result"
    }
   ],
   "source": [
    "pd.crosstab(train.Credit_History , train.Loan_Status, margins = True)"
   ]
  },
  {
   "cell_type": "markdown",
   "id": "392b4228",
   "metadata": {},
   "source": [
    "**Filling up NAN values of Credit history by taking the mode**"
   ]
  },
  {
   "cell_type": "code",
   "execution_count": 479,
   "id": "5333ee18",
   "metadata": {
    "ExecuteTime": {
     "end_time": "2022-08-25T09:06:37.034323Z",
     "start_time": "2022-08-25T09:06:37.026357Z"
    }
   },
   "outputs": [],
   "source": [
    "train.Credit_History = train.Credit_History.fillna(train.Credit_History.mode()[0])\n",
    "test.Credit_History  = test.Credit_History.fillna(test.Credit_History.mode()[0])"
   ]
  },
  {
   "cell_type": "markdown",
   "id": "f7807cdf",
   "metadata": {},
   "source": [
    "**Approval of loans between people who are Self-employed & who aren't**"
   ]
  },
  {
   "cell_type": "code",
   "execution_count": 480,
   "id": "9a7ab217",
   "metadata": {
    "ExecuteTime": {
     "end_time": "2022-08-25T09:06:37.923785Z",
     "start_time": "2022-08-25T09:06:37.894661Z"
    }
   },
   "outputs": [
    {
     "data": {
      "text/html": [
       "<div>\n",
       "<style scoped>\n",
       "    .dataframe tbody tr th:only-of-type {\n",
       "        vertical-align: middle;\n",
       "    }\n",
       "\n",
       "    .dataframe tbody tr th {\n",
       "        vertical-align: top;\n",
       "    }\n",
       "\n",
       "    .dataframe thead th {\n",
       "        text-align: right;\n",
       "    }\n",
       "</style>\n",
       "<table border=\"1\" class=\"dataframe\">\n",
       "  <thead>\n",
       "    <tr style=\"text-align: right;\">\n",
       "      <th>Loan_Status</th>\n",
       "      <th>N</th>\n",
       "      <th>Y</th>\n",
       "      <th>All</th>\n",
       "    </tr>\n",
       "    <tr>\n",
       "      <th>Self_Employed</th>\n",
       "      <th></th>\n",
       "      <th></th>\n",
       "      <th></th>\n",
       "    </tr>\n",
       "  </thead>\n",
       "  <tbody>\n",
       "    <tr>\n",
       "      <th>No</th>\n",
       "      <td>157</td>\n",
       "      <td>343</td>\n",
       "      <td>500</td>\n",
       "    </tr>\n",
       "    <tr>\n",
       "      <th>Yes</th>\n",
       "      <td>26</td>\n",
       "      <td>56</td>\n",
       "      <td>82</td>\n",
       "    </tr>\n",
       "    <tr>\n",
       "      <th>All</th>\n",
       "      <td>183</td>\n",
       "      <td>399</td>\n",
       "      <td>582</td>\n",
       "    </tr>\n",
       "  </tbody>\n",
       "</table>\n",
       "</div>"
      ],
      "text/plain": [
       "Loan_Status      N    Y  All\n",
       "Self_Employed               \n",
       "No             157  343  500\n",
       "Yes             26   56   82\n",
       "All            183  399  582"
      ]
     },
     "execution_count": 480,
     "metadata": {},
     "output_type": "execute_result"
    }
   ],
   "source": [
    "pd.crosstab(train.Self_Employed , train.Loan_Status,margins = True)"
   ]
  },
  {
   "cell_type": "markdown",
   "id": "26b47415",
   "metadata": {},
   "source": [
    "**Approval of loans between people who are Self-employed & who aren't**"
   ]
  },
  {
   "cell_type": "code",
   "execution_count": 481,
   "id": "8c21aafd",
   "metadata": {
    "ExecuteTime": {
     "end_time": "2022-08-25T09:06:39.073537Z",
     "start_time": "2022-08-25T09:06:39.047674Z"
    }
   },
   "outputs": [],
   "source": [
    "train.Self_Employed = train.Self_Employed.fillna(train.Self_Employed.mode())\n",
    "test.Self_Employed = test.Self_Employed.fillna(test.Self_Employed.mode())\n",
    "\n",
    "self_Employed = pd.get_dummies(train['Self_Employed'] ,prefix = 'employed' ,drop_first = True )\n",
    "train.drop(['Self_Employed'], axis = 1 , inplace =True)\n",
    "train = pd.concat([train , self_Employed ] , axis = 1)\n"
   ]
  },
  {
   "cell_type": "code",
   "execution_count": 482,
   "id": "f9c25f7a",
   "metadata": {
    "ExecuteTime": {
     "end_time": "2022-08-25T09:06:39.463544Z",
     "start_time": "2022-08-25T09:06:39.447082Z"
    }
   },
   "outputs": [],
   "source": [
    "self_Employed = pd.get_dummies(test['Self_Employed'] , prefix = 'employed' ,drop_first = True )\n",
    "test.drop(['Self_Employed'], axis = 1 , inplace =True)\n",
    "test = pd.concat([test , self_Employed ] , axis = 1)"
   ]
  },
  {
   "cell_type": "markdown",
   "id": "c68657e9",
   "metadata": {},
   "source": [
    "**Approval of loans between Married and Unmarried people**"
   ]
  },
  {
   "cell_type": "code",
   "execution_count": 483,
   "id": "8108299b",
   "metadata": {
    "ExecuteTime": {
     "end_time": "2022-08-25T09:06:40.750107Z",
     "start_time": "2022-08-25T09:06:40.715188Z"
    }
   },
   "outputs": [
    {
     "data": {
      "text/html": [
       "<div>\n",
       "<style scoped>\n",
       "    .dataframe tbody tr th:only-of-type {\n",
       "        vertical-align: middle;\n",
       "    }\n",
       "\n",
       "    .dataframe tbody tr th {\n",
       "        vertical-align: top;\n",
       "    }\n",
       "\n",
       "    .dataframe thead th {\n",
       "        text-align: right;\n",
       "    }\n",
       "</style>\n",
       "<table border=\"1\" class=\"dataframe\">\n",
       "  <thead>\n",
       "    <tr style=\"text-align: right;\">\n",
       "      <th>Loan_Status</th>\n",
       "      <th>N</th>\n",
       "      <th>Y</th>\n",
       "      <th>All</th>\n",
       "    </tr>\n",
       "    <tr>\n",
       "      <th>Married</th>\n",
       "      <th></th>\n",
       "      <th></th>\n",
       "      <th></th>\n",
       "    </tr>\n",
       "  </thead>\n",
       "  <tbody>\n",
       "    <tr>\n",
       "      <th>No</th>\n",
       "      <td>79</td>\n",
       "      <td>134</td>\n",
       "      <td>213</td>\n",
       "    </tr>\n",
       "    <tr>\n",
       "      <th>Yes</th>\n",
       "      <td>113</td>\n",
       "      <td>285</td>\n",
       "      <td>398</td>\n",
       "    </tr>\n",
       "    <tr>\n",
       "      <th>All</th>\n",
       "      <td>192</td>\n",
       "      <td>419</td>\n",
       "      <td>611</td>\n",
       "    </tr>\n",
       "  </tbody>\n",
       "</table>\n",
       "</div>"
      ],
      "text/plain": [
       "Loan_Status    N    Y  All\n",
       "Married                   \n",
       "No            79  134  213\n",
       "Yes          113  285  398\n",
       "All          192  419  611"
      ]
     },
     "execution_count": 483,
     "metadata": {},
     "output_type": "execute_result"
    }
   ],
   "source": [
    "pd.crosstab(train.Married , train.Loan_Status,margins = True)"
   ]
  },
  {
   "cell_type": "markdown",
   "id": "143b2d64",
   "metadata": {},
   "source": [
    "**Filling NAN values and Converting categorial variables(Yes,No) to numerical variables(1,0)**"
   ]
  },
  {
   "cell_type": "code",
   "execution_count": 484,
   "id": "7764b348",
   "metadata": {
    "ExecuteTime": {
     "end_time": "2022-08-25T09:06:42.096190Z",
     "start_time": "2022-08-25T09:06:42.071213Z"
    }
   },
   "outputs": [],
   "source": [
    "train.Married = train.Married.fillna(train.Married.mode())\n",
    "test.Married = test.Married.fillna(test.Married.mode())\n",
    "\n",
    "married = pd.get_dummies(train['Married'] , prefix = 'married',drop_first = True )\n",
    "train.drop(['Married'], axis = 1 , inplace =True)\n",
    "train = pd.concat([train , married ] , axis = 1)\n",
    "\n",
    "married = pd.get_dummies(test['Married'] , prefix = 'married', drop_first = True )\n",
    "test.drop(['Married'], axis = 1 , inplace =True)\n",
    "test = pd.concat([test , married ] , axis = 1)"
   ]
  },
  {
   "cell_type": "markdown",
   "id": "2fd347a9",
   "metadata": {},
   "source": [
    "**Filling up NAN values of Loan Amount Term**"
   ]
  },
  {
   "cell_type": "code",
   "execution_count": 485,
   "id": "25cc08e5",
   "metadata": {
    "ExecuteTime": {
     "end_time": "2022-08-25T09:06:43.243790Z",
     "start_time": "2022-08-25T09:06:43.215537Z"
    }
   },
   "outputs": [],
   "source": [
    "train.drop(['Loan_Amount_Term'], axis = 1 , inplace =True)\n",
    "test.drop(['Loan_Amount_Term'], axis = 1 , inplace =True)\n",
    "\n",
    "train.LoanAmount = train.LoanAmount.fillna(train.LoanAmount.mean()).astype(int)\n",
    "test.LoanAmount = test.LoanAmount.fillna(test.LoanAmount.mean()).astype(int)"
   ]
  },
  {
   "cell_type": "markdown",
   "id": "34f57b11",
   "metadata": {},
   "source": [
    "**Converting categorial variables to numerical variables**"
   ]
  },
  {
   "cell_type": "code",
   "execution_count": 486,
   "id": "7aafda2d",
   "metadata": {
    "ExecuteTime": {
     "end_time": "2022-08-25T09:06:46.778697Z",
     "start_time": "2022-08-25T09:06:46.761525Z"
    }
   },
   "outputs": [
    {
     "data": {
      "text/plain": [
       "array(['Graduate', 'Not Graduate'], dtype=object)"
      ]
     },
     "execution_count": 486,
     "metadata": {},
     "output_type": "execute_result"
    }
   ],
   "source": [
    "train.Education.unique()"
   ]
  },
  {
   "cell_type": "code",
   "execution_count": 487,
   "id": "14d3a58b",
   "metadata": {
    "ExecuteTime": {
     "end_time": "2022-08-25T09:06:47.181989Z",
     "start_time": "2022-08-25T09:06:47.173504Z"
    }
   },
   "outputs": [
    {
     "data": {
      "text/plain": [
       "array(['Graduate', 'Not Graduate'], dtype=object)"
      ]
     },
     "execution_count": 487,
     "metadata": {},
     "output_type": "execute_result"
    }
   ],
   "source": [
    "test.Education.unique()"
   ]
  },
  {
   "cell_type": "code",
   "execution_count": 488,
   "id": "bd6183cc",
   "metadata": {
    "ExecuteTime": {
     "end_time": "2022-08-25T09:06:47.634969Z",
     "start_time": "2022-08-25T09:06:47.619981Z"
    }
   },
   "outputs": [],
   "source": [
    "train['Education'] = train['Education'].map( {'Graduate': 0, 'Not Graduate': 1} ).astype(int)\n",
    "test['Education'] = test['Education'].map( {'Graduate': 0, 'Not Graduate': 1} ).astype(int)"
   ]
  },
  {
   "cell_type": "code",
   "execution_count": 489,
   "id": "be0682fc",
   "metadata": {
    "ExecuteTime": {
     "end_time": "2022-08-25T09:06:48.075704Z",
     "start_time": "2022-08-25T09:06:48.056565Z"
    }
   },
   "outputs": [
    {
     "data": {
      "text/plain": [
       "array(['Urban', 'Rural', 'Semiurban'], dtype=object)"
      ]
     },
     "execution_count": 489,
     "metadata": {},
     "output_type": "execute_result"
    }
   ],
   "source": [
    "train.Property_Area.unique()"
   ]
  },
  {
   "cell_type": "code",
   "execution_count": 490,
   "id": "3e90b8a5",
   "metadata": {
    "ExecuteTime": {
     "end_time": "2022-08-25T09:06:48.499962Z",
     "start_time": "2022-08-25T09:06:48.491984Z"
    }
   },
   "outputs": [
    {
     "data": {
      "text/plain": [
       "array(['Urban', 'Semiurban', 'Rural'], dtype=object)"
      ]
     },
     "execution_count": 490,
     "metadata": {},
     "output_type": "execute_result"
    }
   ],
   "source": [
    "test.Property_Area.unique()"
   ]
  },
  {
   "cell_type": "code",
   "execution_count": 491,
   "id": "905937cc",
   "metadata": {
    "ExecuteTime": {
     "end_time": "2022-08-25T09:06:48.957939Z",
     "start_time": "2022-08-25T09:06:48.946972Z"
    }
   },
   "outputs": [],
   "source": [
    "train['Property_Area'] = train['Property_Area'].map( {'Urban': 0, 'Semiurban': 1 ,'Rural': 2  } ).astype(int)\n",
    "\n",
    "test.Property_Area = test.Property_Area.fillna(test.Property_Area.mode())\n",
    "test['Property_Area'] = test['Property_Area'].map( {'Urban': 0, 'Semiurban': 1 ,'Rural': 2  } ).astype(int)"
   ]
  },
  {
   "cell_type": "code",
   "execution_count": 492,
   "id": "6e1583fb",
   "metadata": {
    "ExecuteTime": {
     "end_time": "2022-08-25T09:06:49.406746Z",
     "start_time": "2022-08-25T09:06:49.400756Z"
    }
   },
   "outputs": [
    {
     "data": {
      "text/plain": [
       "array(['Y', 'N'], dtype=object)"
      ]
     },
     "execution_count": 492,
     "metadata": {},
     "output_type": "execute_result"
    }
   ],
   "source": [
    "train.Loan_Status.unique()"
   ]
  },
  {
   "cell_type": "code",
   "execution_count": 493,
   "id": "e0a6245b",
   "metadata": {
    "ExecuteTime": {
     "end_time": "2022-08-25T09:06:49.913167Z",
     "start_time": "2022-08-25T09:06:49.898831Z"
    }
   },
   "outputs": [],
   "source": [
    "train['Loan_Status'] = train['Loan_Status'].map( {'N': 0, 'Y': 1 } ).astype(int)"
   ]
  },
  {
   "cell_type": "code",
   "execution_count": 494,
   "id": "6c5e7691",
   "metadata": {
    "ExecuteTime": {
     "end_time": "2022-08-25T09:06:50.402286Z",
     "start_time": "2022-08-25T09:06:50.391315Z"
    }
   },
   "outputs": [],
   "source": [
    "train.drop(['Loan_ID'], axis = 1 , inplace =True)"
   ]
  },
  {
   "cell_type": "code",
   "execution_count": 495,
   "id": "53aa795f",
   "metadata": {
    "ExecuteTime": {
     "end_time": "2022-08-25T09:06:50.975923Z",
     "start_time": "2022-08-25T09:06:50.962957Z"
    }
   },
   "outputs": [],
   "source": [
    "X = train.drop('Loan_Status' , axis = 1 )\n",
    "y = train['Loan_Status']"
   ]
  },
  {
   "cell_type": "markdown",
   "id": "08a21261",
   "metadata": {},
   "source": [
    "# ML Models Creating"
   ]
  },
  {
   "cell_type": "markdown",
   "id": "4286d7f7",
   "metadata": {},
   "source": [
    "## Split data"
   ]
  },
  {
   "cell_type": "code",
   "execution_count": 496,
   "id": "d3a52c61",
   "metadata": {
    "ExecuteTime": {
     "end_time": "2022-08-25T09:06:53.291647Z",
     "start_time": "2022-08-25T09:06:53.282291Z"
    }
   },
   "outputs": [],
   "source": [
    "from sklearn.model_selection import train_test_split"
   ]
  },
  {
   "cell_type": "code",
   "execution_count": 497,
   "id": "969e45a6",
   "metadata": {
    "ExecuteTime": {
     "end_time": "2022-08-25T09:06:54.526662Z",
     "start_time": "2022-08-25T09:06:54.501002Z"
    }
   },
   "outputs": [
    {
     "data": {
      "text/plain": [
       "((491, 10), (123, 10), (491,), (123,))"
      ]
     },
     "execution_count": 497,
     "metadata": {},
     "output_type": "execute_result"
    }
   ],
   "source": [
    "X_train,X_test,y_train,y_test=train_test_split(X,y,test_size=0.2,random_state=42)\n",
    "X_train.shape,X_test.shape,y_train.shape,y_test.shape"
   ]
  },
  {
   "cell_type": "markdown",
   "id": "8306d8f3",
   "metadata": {},
   "source": [
    "## LinearRegression"
   ]
  },
  {
   "cell_type": "code",
   "execution_count": 498,
   "id": "8fd83eec",
   "metadata": {
    "ExecuteTime": {
     "end_time": "2022-08-25T09:06:55.807111Z",
     "start_time": "2022-08-25T09:06:55.791598Z"
    }
   },
   "outputs": [],
   "source": [
    "from sklearn.linear_model import LinearRegression\n",
    "model = LinearRegression()"
   ]
  },
  {
   "cell_type": "code",
   "execution_count": 499,
   "id": "bee934f5",
   "metadata": {
    "ExecuteTime": {
     "end_time": "2022-08-25T09:06:57.188089Z",
     "start_time": "2022-08-25T09:06:57.119024Z"
    }
   },
   "outputs": [
    {
     "data": {
      "text/plain": [
       "LinearRegression()"
      ]
     },
     "execution_count": 499,
     "metadata": {},
     "output_type": "execute_result"
    }
   ],
   "source": [
    "model.fit(X,y)"
   ]
  },
  {
   "cell_type": "code",
   "execution_count": 500,
   "id": "6e544d99",
   "metadata": {
    "ExecuteTime": {
     "end_time": "2022-08-25T09:06:57.686387Z",
     "start_time": "2022-08-25T09:06:57.664448Z"
    }
   },
   "outputs": [
    {
     "name": "stdout",
     "output_type": "stream",
     "text": [
      "Training score: 0.31372218515198924\n",
      "Testing score: 0.2893978614548428\n"
     ]
    }
   ],
   "source": [
    "print(\"Training score:\",model.score(X_train,y_train))\n",
    "print(\"Testing score:\",model.score(X_test,y_test))"
   ]
  },
  {
   "cell_type": "code",
   "execution_count": 501,
   "id": "ec88cf02",
   "metadata": {
    "ExecuteTime": {
     "end_time": "2022-08-25T09:06:58.353871Z",
     "start_time": "2022-08-25T09:06:58.324927Z"
    }
   },
   "outputs": [
    {
     "data": {
      "text/plain": [
       "array([0.88067143])"
      ]
     },
     "execution_count": 501,
     "metadata": {},
     "output_type": "execute_result"
    }
   ],
   "source": [
    "model.predict([[0,0,3000,0.0,66,1.0,0,1,1,1]]) "
   ]
  },
  {
   "cell_type": "code",
   "execution_count": 502,
   "id": "a97dfefa",
   "metadata": {
    "ExecuteTime": {
     "end_time": "2022-08-25T09:06:58.899114Z",
     "start_time": "2022-08-25T09:06:58.893131Z"
    }
   },
   "outputs": [
    {
     "data": {
      "text/plain": [
       "array([0.68823417])"
      ]
     },
     "execution_count": 502,
     "metadata": {},
     "output_type": "execute_result"
    }
   ],
   "source": [
    "model.predict([[1,0,4583,15080.0,128,1.0,2,1,0,1]])"
   ]
  },
  {
   "cell_type": "markdown",
   "id": "3f31fab2",
   "metadata": {},
   "source": [
    "## Logistic Regression"
   ]
  },
  {
   "cell_type": "code",
   "execution_count": 503,
   "id": "6028bac5",
   "metadata": {
    "ExecuteTime": {
     "end_time": "2022-08-25T09:07:00.067507Z",
     "start_time": "2022-08-25T09:07:00.061538Z"
    }
   },
   "outputs": [],
   "source": [
    "from sklearn.linear_model import LogisticRegression\n",
    "model1 = LogisticRegression()"
   ]
  },
  {
   "cell_type": "code",
   "execution_count": 504,
   "id": "a0b90638",
   "metadata": {
    "ExecuteTime": {
     "end_time": "2022-08-25T09:07:00.828947Z",
     "start_time": "2022-08-25T09:07:00.763853Z"
    }
   },
   "outputs": [
    {
     "data": {
      "text/plain": [
       "LogisticRegression()"
      ]
     },
     "execution_count": 504,
     "metadata": {},
     "output_type": "execute_result"
    }
   ],
   "source": [
    "model1.fit(X_train, y_train)"
   ]
  },
  {
   "cell_type": "code",
   "execution_count": 505,
   "id": "d2255357",
   "metadata": {
    "ExecuteTime": {
     "end_time": "2022-08-25T09:07:01.561995Z",
     "start_time": "2022-08-25T09:07:01.545131Z"
    }
   },
   "outputs": [
    {
     "name": "stdout",
     "output_type": "stream",
     "text": [
      "Training score: 0.8228105906313645\n",
      "Testing score: 0.7886178861788617\n"
     ]
    }
   ],
   "source": [
    "print(\"Training score:\",model1.score(X_train,y_train))\n",
    "print(\"Testing score:\",model1.score(X_test,y_test))"
   ]
  },
  {
   "cell_type": "code",
   "execution_count": 506,
   "id": "dca60f23",
   "metadata": {
    "ExecuteTime": {
     "end_time": "2022-08-25T09:07:02.306174Z",
     "start_time": "2022-08-25T09:07:02.298684Z"
    }
   },
   "outputs": [
    {
     "data": {
      "text/plain": [
       "array([1])"
      ]
     },
     "execution_count": 506,
     "metadata": {},
     "output_type": "execute_result"
    }
   ],
   "source": [
    "model1.predict([[0,0,3000,0.0,66,1.0,0,1,1,1]]) "
   ]
  },
  {
   "cell_type": "code",
   "execution_count": 507,
   "id": "78e968c6",
   "metadata": {
    "ExecuteTime": {
     "end_time": "2022-08-25T09:07:02.851000Z",
     "start_time": "2022-08-25T09:07:02.830537Z"
    }
   },
   "outputs": [
    {
     "data": {
      "text/plain": [
       "array([1])"
      ]
     },
     "execution_count": 507,
     "metadata": {},
     "output_type": "execute_result"
    }
   ],
   "source": [
    "model1.predict([[1,0,4583,15080.0,128,1.0,2,1,0,1]])"
   ]
  },
  {
   "cell_type": "markdown",
   "id": "64d9590b",
   "metadata": {},
   "source": [
    "## Random Forest Algorithm"
   ]
  },
  {
   "cell_type": "code",
   "execution_count": 559,
   "id": "79132014",
   "metadata": {
    "ExecuteTime": {
     "end_time": "2022-08-25T09:21:21.237809Z",
     "start_time": "2022-08-25T09:21:21.231825Z"
    }
   },
   "outputs": [],
   "source": [
    "from sklearn.ensemble import RandomForestRegressor\n",
    "RF=RandomForestRegressor(n_estimators=100)"
   ]
  },
  {
   "cell_type": "code",
   "execution_count": 560,
   "id": "9b5093b2",
   "metadata": {
    "ExecuteTime": {
     "end_time": "2022-08-25T09:21:22.088895Z",
     "start_time": "2022-08-25T09:21:21.929162Z"
    }
   },
   "outputs": [
    {
     "data": {
      "text/plain": [
       "RandomForestRegressor()"
      ]
     },
     "execution_count": 560,
     "metadata": {},
     "output_type": "execute_result"
    }
   ],
   "source": [
    "RF.fit(X_train,y_train)"
   ]
  },
  {
   "cell_type": "code",
   "execution_count": 561,
   "id": "0f9b5710",
   "metadata": {
    "ExecuteTime": {
     "end_time": "2022-08-25T09:21:23.645069Z",
     "start_time": "2022-08-25T09:21:23.607487Z"
    }
   },
   "outputs": [
    {
     "name": "stdout",
     "output_type": "stream",
     "text": [
      "Training Score: 0.8938498430079673\n",
      "Testing Score: 0.22106316860465125\n"
     ]
    }
   ],
   "source": [
    "print(\"Training Score:\",RF.score(X_train,y_train))\n",
    "print(\"Testing Score:\",RF.score(X_test,y_test))"
   ]
  },
  {
   "cell_type": "code",
   "execution_count": 562,
   "id": "d696933f",
   "metadata": {
    "ExecuteTime": {
     "end_time": "2022-08-25T09:21:24.915874Z",
     "start_time": "2022-08-25T09:21:24.899917Z"
    }
   },
   "outputs": [
    {
     "data": {
      "text/plain": [
       "array([0.67])"
      ]
     },
     "execution_count": 562,
     "metadata": {},
     "output_type": "execute_result"
    }
   ],
   "source": [
    "RF.predict([[0,0,3000,0.0,66,1.0,0,1,1,1]])"
   ]
  },
  {
   "cell_type": "code",
   "execution_count": 563,
   "id": "3c5e9e8e",
   "metadata": {
    "ExecuteTime": {
     "end_time": "2022-08-25T09:21:26.159109Z",
     "start_time": "2022-08-25T09:21:26.134780Z"
    }
   },
   "outputs": [
    {
     "data": {
      "text/plain": [
       "array([0.39])"
      ]
     },
     "execution_count": 563,
     "metadata": {},
     "output_type": "execute_result"
    }
   ],
   "source": [
    "RF.predict([[1,0,4583,15080.0,128,1.0,2,1,0,1]])"
   ]
  },
  {
   "cell_type": "markdown",
   "id": "8c0eaeb4",
   "metadata": {},
   "source": [
    "## SVC Algorithm"
   ]
  },
  {
   "cell_type": "code",
   "execution_count": 564,
   "id": "311d4646",
   "metadata": {
    "ExecuteTime": {
     "end_time": "2022-08-25T09:21:29.655807Z",
     "start_time": "2022-08-25T09:21:29.638817Z"
    }
   },
   "outputs": [
    {
     "ename": "TypeError",
     "evalue": "__init__() got an unexpected keyword argument 'epsilon'",
     "output_type": "error",
     "traceback": [
      "\u001b[1;31m---------------------------------------------------------------------------\u001b[0m",
      "\u001b[1;31mTypeError\u001b[0m                                 Traceback (most recent call last)",
      "\u001b[1;32m~\\AppData\\Local\\Temp/ipykernel_7960/3412629831.py\u001b[0m in \u001b[0;36m<module>\u001b[1;34m\u001b[0m\n\u001b[0;32m      1\u001b[0m \u001b[1;32mfrom\u001b[0m \u001b[0msklearn\u001b[0m\u001b[1;33m.\u001b[0m\u001b[0msvm\u001b[0m \u001b[1;32mimport\u001b[0m \u001b[0mSVC\u001b[0m\u001b[1;33m\u001b[0m\u001b[1;33m\u001b[0m\u001b[0m\n\u001b[1;32m----> 2\u001b[1;33m \u001b[0mSV\u001b[0m \u001b[1;33m=\u001b[0m \u001b[0mSVC\u001b[0m\u001b[1;33m(\u001b[0m\u001b[0mC\u001b[0m\u001b[1;33m=\u001b[0m\u001b[1;36m15\u001b[0m\u001b[1;33m,\u001b[0m\u001b[0mepsilon\u001b[0m\u001b[1;33m=\u001b[0m\u001b[1;36m.05\u001b[0m\u001b[1;33m,\u001b[0m\u001b[0mkernel\u001b[0m\u001b[1;33m=\u001b[0m\u001b[1;34m\"rbf\"\u001b[0m\u001b[1;33m)\u001b[0m\u001b[1;33m\u001b[0m\u001b[1;33m\u001b[0m\u001b[0m\n\u001b[0m",
      "\u001b[1;32m~\\anaconda3\\lib\\site-packages\\sklearn\\utils\\validation.py\u001b[0m in \u001b[0;36minner_f\u001b[1;34m(*args, **kwargs)\u001b[0m\n\u001b[0;32m     61\u001b[0m             \u001b[0mextra_args\u001b[0m \u001b[1;33m=\u001b[0m \u001b[0mlen\u001b[0m\u001b[1;33m(\u001b[0m\u001b[0margs\u001b[0m\u001b[1;33m)\u001b[0m \u001b[1;33m-\u001b[0m \u001b[0mlen\u001b[0m\u001b[1;33m(\u001b[0m\u001b[0mall_args\u001b[0m\u001b[1;33m)\u001b[0m\u001b[1;33m\u001b[0m\u001b[1;33m\u001b[0m\u001b[0m\n\u001b[0;32m     62\u001b[0m             \u001b[1;32mif\u001b[0m \u001b[0mextra_args\u001b[0m \u001b[1;33m<=\u001b[0m \u001b[1;36m0\u001b[0m\u001b[1;33m:\u001b[0m\u001b[1;33m\u001b[0m\u001b[1;33m\u001b[0m\u001b[0m\n\u001b[1;32m---> 63\u001b[1;33m                 \u001b[1;32mreturn\u001b[0m \u001b[0mf\u001b[0m\u001b[1;33m(\u001b[0m\u001b[1;33m*\u001b[0m\u001b[0margs\u001b[0m\u001b[1;33m,\u001b[0m \u001b[1;33m**\u001b[0m\u001b[0mkwargs\u001b[0m\u001b[1;33m)\u001b[0m\u001b[1;33m\u001b[0m\u001b[1;33m\u001b[0m\u001b[0m\n\u001b[0m\u001b[0;32m     64\u001b[0m \u001b[1;33m\u001b[0m\u001b[0m\n\u001b[0;32m     65\u001b[0m             \u001b[1;31m# extra_args > 0\u001b[0m\u001b[1;33m\u001b[0m\u001b[1;33m\u001b[0m\u001b[0m\n",
      "\u001b[1;31mTypeError\u001b[0m: __init__() got an unexpected keyword argument 'epsilon'"
     ]
    }
   ],
   "source": [
    "from sklearn.svm import SVC\n",
    "SV = SVC(C=15,epsilon=.05,kernel=\"rbf\")"
   ]
  },
  {
   "cell_type": "code",
   "execution_count": 565,
   "id": "d1e28510",
   "metadata": {
    "ExecuteTime": {
     "end_time": "2022-08-25T09:21:40.005870Z",
     "start_time": "2022-08-25T09:21:39.953488Z"
    }
   },
   "outputs": [
    {
     "data": {
      "text/plain": [
       "SVR(C=15, epsilon=0.05)"
      ]
     },
     "execution_count": 565,
     "metadata": {},
     "output_type": "execute_result"
    }
   ],
   "source": [
    "SV.fit(X_train, y_train)"
   ]
  },
  {
   "cell_type": "code",
   "execution_count": 566,
   "id": "82658f09",
   "metadata": {
    "ExecuteTime": {
     "end_time": "2022-08-25T09:21:40.745202Z",
     "start_time": "2022-08-25T09:21:40.711293Z"
    }
   },
   "outputs": [
    {
     "name": "stdout",
     "output_type": "stream",
     "text": [
      "Training score: -0.2189757877658105\n",
      "Testing score: -0.43667025009816607\n"
     ]
    }
   ],
   "source": [
    "print(\"Training score:\",SV.score(X_train,y_train))\n",
    "print(\"Testing score:\",SV.score(X_test,y_test))"
   ]
  },
  {
   "cell_type": "code",
   "execution_count": 567,
   "id": "d16db3cb",
   "metadata": {
    "ExecuteTime": {
     "end_time": "2022-08-25T09:21:41.307383Z",
     "start_time": "2022-08-25T09:21:41.293550Z"
    }
   },
   "outputs": [
    {
     "data": {
      "text/plain": [
       "array([0.94891637])"
      ]
     },
     "execution_count": 567,
     "metadata": {},
     "output_type": "execute_result"
    }
   ],
   "source": [
    "SV.predict([[0,0,3000,0.0,66,1.0,0,1,1,1]])"
   ]
  },
  {
   "cell_type": "code",
   "execution_count": 568,
   "id": "f6de3045",
   "metadata": {
    "ExecuteTime": {
     "end_time": "2022-08-25T09:21:41.833430Z",
     "start_time": "2022-08-25T09:21:41.822877Z"
    }
   },
   "outputs": [
    {
     "data": {
      "text/plain": [
       "array([0.14415837])"
      ]
     },
     "execution_count": 568,
     "metadata": {},
     "output_type": "execute_result"
    }
   ],
   "source": [
    "SV.predict([[1,0,4583,15080.0,128,1.0,2,1,0,1]])"
   ]
  },
  {
   "cell_type": "markdown",
   "id": "b6d9e246",
   "metadata": {},
   "source": [
    "## Gradient Boosting Algorithm"
   ]
  },
  {
   "cell_type": "code",
   "execution_count": 569,
   "id": "c48c6b47",
   "metadata": {
    "ExecuteTime": {
     "end_time": "2022-08-25T09:21:42.777733Z",
     "start_time": "2022-08-25T09:21:42.766705Z"
    }
   },
   "outputs": [],
   "source": [
    "from sklearn.ensemble import GradientBoostingRegressor"
   ]
  },
  {
   "cell_type": "code",
   "execution_count": 570,
   "id": "6c1cb30a",
   "metadata": {
    "ExecuteTime": {
     "end_time": "2022-08-25T09:21:43.481359Z",
     "start_time": "2022-08-25T09:21:43.417532Z"
    }
   },
   "outputs": [
    {
     "data": {
      "text/plain": [
       "GradientBoostingRegressor()"
      ]
     },
     "execution_count": 570,
     "metadata": {},
     "output_type": "execute_result"
    }
   ],
   "source": [
    "GB=GradientBoostingRegressor()\n",
    "GB.fit(X_train,y_train)"
   ]
  },
  {
   "cell_type": "code",
   "execution_count": 571,
   "id": "31dede85",
   "metadata": {
    "ExecuteTime": {
     "end_time": "2022-08-25T09:21:44.336071Z",
     "start_time": "2022-08-25T09:21:44.321502Z"
    }
   },
   "outputs": [
    {
     "name": "stdout",
     "output_type": "stream",
     "text": [
      "Training score: 0.6485958813561308\n",
      "Testing score: 0.1985027669934507\n"
     ]
    }
   ],
   "source": [
    "print(\"Training score:\",GB.score(X_train,y_train))\n",
    "print(\"Testing score:\",GB.score(X_test,y_test))"
   ]
  },
  {
   "cell_type": "code",
   "execution_count": 572,
   "id": "3cbbccae",
   "metadata": {
    "ExecuteTime": {
     "end_time": "2022-08-25T09:21:44.867328Z",
     "start_time": "2022-08-25T09:21:44.847382Z"
    }
   },
   "outputs": [
    {
     "data": {
      "text/plain": [
       "array([0.62705919])"
      ]
     },
     "execution_count": 572,
     "metadata": {},
     "output_type": "execute_result"
    }
   ],
   "source": [
    "GB.predict([[0,0,3000,0.0,66,1.0,0,1,1,1]])"
   ]
  },
  {
   "cell_type": "code",
   "execution_count": 573,
   "id": "c7beb679",
   "metadata": {
    "ExecuteTime": {
     "end_time": "2022-08-25T09:21:45.320519Z",
     "start_time": "2022-08-25T09:21:45.308499Z"
    }
   },
   "outputs": [
    {
     "data": {
      "text/plain": [
       "array([0.44032476])"
      ]
     },
     "execution_count": 573,
     "metadata": {},
     "output_type": "execute_result"
    }
   ],
   "source": [
    "GB.predict([[1,0,4583,15080.0,128,1.0,2,1,0,1]])"
   ]
  },
  {
   "cell_type": "markdown",
   "id": "eb9dc79a",
   "metadata": {},
   "source": [
    "## Extreme Gradient Boosting"
   ]
  },
  {
   "cell_type": "code",
   "execution_count": 574,
   "id": "f25d52a9",
   "metadata": {
    "ExecuteTime": {
     "end_time": "2022-08-25T09:21:48.031166Z",
     "start_time": "2022-08-25T09:21:48.014433Z"
    }
   },
   "outputs": [],
   "source": [
    "import xgboost\n",
    "from xgboost import XGBRegressor"
   ]
  },
  {
   "cell_type": "code",
   "execution_count": 575,
   "id": "283ae13c",
   "metadata": {
    "ExecuteTime": {
     "end_time": "2022-08-25T09:21:49.416398Z",
     "start_time": "2022-08-25T09:21:49.312708Z"
    }
   },
   "outputs": [
    {
     "data": {
      "text/plain": [
       "XGBRegressor(base_score=0.5, booster='gbtree', callbacks=None,\n",
       "             colsample_bylevel=1, colsample_bynode=1, colsample_bytree=1,\n",
       "             early_stopping_rounds=None, enable_categorical=False,\n",
       "             eval_metric=None, gamma=0, gpu_id=-1, grow_policy='depthwise',\n",
       "             importance_type=None, interaction_constraints='',\n",
       "             learning_rate=0.300000012, max_bin=256, max_cat_to_onehot=4,\n",
       "             max_delta_step=0, max_depth=6, max_leaves=0, min_child_weight=1,\n",
       "             missing=nan, monotone_constraints='()', n_estimators=100, n_jobs=0,\n",
       "             num_parallel_tree=1, predictor='auto', random_state=0, reg_alpha=0,\n",
       "             reg_lambda=1, ...)"
      ]
     },
     "execution_count": 575,
     "metadata": {},
     "output_type": "execute_result"
    }
   ],
   "source": [
    "XGB=XGBRegressor()\n",
    "XGB.fit(X_train,y_train)"
   ]
  },
  {
   "cell_type": "code",
   "execution_count": 576,
   "id": "782971c0",
   "metadata": {
    "ExecuteTime": {
     "end_time": "2022-08-25T09:21:50.787519Z",
     "start_time": "2022-08-25T09:21:50.774539Z"
    }
   },
   "outputs": [
    {
     "name": "stdout",
     "output_type": "stream",
     "text": [
      "Training test: 0.9981697255447913\n",
      "Testing Test: 0.05699997990675065\n"
     ]
    }
   ],
   "source": [
    "print(\"Training test:\",XGB.score(X_train,y_train))\n",
    "print(\"Testing Test:\",XGB.score(X_test,y_test))"
   ]
  },
  {
   "cell_type": "markdown",
   "id": "06bc82f0",
   "metadata": {},
   "source": [
    "## Naive Bayes"
   ]
  },
  {
   "cell_type": "code",
   "execution_count": 577,
   "id": "a437c9e5",
   "metadata": {
    "ExecuteTime": {
     "end_time": "2022-08-25T09:21:52.752442Z",
     "start_time": "2022-08-25T09:21:52.736487Z"
    }
   },
   "outputs": [],
   "source": [
    "from sklearn.naive_bayes import GaussianNB"
   ]
  },
  {
   "cell_type": "code",
   "execution_count": 578,
   "id": "f9e9c88a",
   "metadata": {
    "ExecuteTime": {
     "end_time": "2022-08-25T09:21:54.203811Z",
     "start_time": "2022-08-25T09:21:54.187843Z"
    }
   },
   "outputs": [
    {
     "data": {
      "text/plain": [
       "GaussianNB()"
      ]
     },
     "execution_count": 578,
     "metadata": {},
     "output_type": "execute_result"
    }
   ],
   "source": [
    "GNB = GaussianNB()\n",
    "GNB.fit(X_train, y_train)"
   ]
  },
  {
   "cell_type": "code",
   "execution_count": 579,
   "id": "5d95922b",
   "metadata": {
    "ExecuteTime": {
     "end_time": "2022-08-25T09:21:55.352327Z",
     "start_time": "2022-08-25T09:21:55.332930Z"
    }
   },
   "outputs": [
    {
     "name": "stdout",
     "output_type": "stream",
     "text": [
      "Training test: 0.8004073319755601\n",
      "Testing Test: 0.7886178861788617\n"
     ]
    }
   ],
   "source": [
    "print(\"Training test:\",GNB.score(X_train,y_train))\n",
    "print(\"Testing Test:\",GNB.score(X_test,y_test))"
   ]
  },
  {
   "cell_type": "code",
   "execution_count": 580,
   "id": "14e6c187",
   "metadata": {
    "ExecuteTime": {
     "end_time": "2022-08-25T09:21:55.943506Z",
     "start_time": "2022-08-25T09:21:55.936525Z"
    }
   },
   "outputs": [
    {
     "data": {
      "text/plain": [
       "array([1])"
      ]
     },
     "execution_count": 580,
     "metadata": {},
     "output_type": "execute_result"
    }
   ],
   "source": [
    "GNB.predict([[0,0,3000,0.0,66,1.0,0,1,1,1]])"
   ]
  },
  {
   "cell_type": "code",
   "execution_count": 581,
   "id": "96ad9db2",
   "metadata": {
    "ExecuteTime": {
     "end_time": "2022-08-25T09:21:56.563472Z",
     "start_time": "2022-08-25T09:21:56.553924Z"
    }
   },
   "outputs": [
    {
     "data": {
      "text/plain": [
       "array([0])"
      ]
     },
     "execution_count": 581,
     "metadata": {},
     "output_type": "execute_result"
    }
   ],
   "source": [
    "GNB.predict([[1,0,4583,15080.0,128,1.0,2,1,0,1]])"
   ]
  },
  {
   "cell_type": "markdown",
   "id": "a592826c",
   "metadata": {},
   "source": [
    "## K-Nearest Neighbors"
   ]
  },
  {
   "cell_type": "code",
   "execution_count": 582,
   "id": "9aa5bfc8",
   "metadata": {
    "ExecuteTime": {
     "end_time": "2022-08-25T09:21:58.044556Z",
     "start_time": "2022-08-25T09:21:58.036995Z"
    }
   },
   "outputs": [],
   "source": [
    "from sklearn.neighbors import KNeighborsClassifier"
   ]
  },
  {
   "cell_type": "code",
   "execution_count": 583,
   "id": "ae47d0d3",
   "metadata": {
    "ExecuteTime": {
     "end_time": "2022-08-25T09:21:59.414366Z",
     "start_time": "2022-08-25T09:21:59.390615Z"
    }
   },
   "outputs": [
    {
     "data": {
      "text/plain": [
       "KNeighborsClassifier(n_neighbors=3)"
      ]
     },
     "execution_count": 583,
     "metadata": {},
     "output_type": "execute_result"
    }
   ],
   "source": [
    "KN= KNeighborsClassifier(n_neighbors = 3)\n",
    "KN.fit(X_train, y_train)"
   ]
  },
  {
   "cell_type": "code",
   "execution_count": 584,
   "id": "c3ac29c2",
   "metadata": {
    "ExecuteTime": {
     "end_time": "2022-08-25T09:22:01.097631Z",
     "start_time": "2022-08-25T09:22:01.071596Z"
    }
   },
   "outputs": [
    {
     "name": "stdout",
     "output_type": "stream",
     "text": [
      "Training test: 0.7718940936863544\n",
      "Testing Test: 0.6341463414634146\n"
     ]
    }
   ],
   "source": [
    "print(\"Training test:\",KN.score(X_train,y_train))\n",
    "print(\"Testing Test:\",KN.score(X_test,y_test))"
   ]
  },
  {
   "cell_type": "code",
   "execution_count": 585,
   "id": "7e80e38f",
   "metadata": {
    "ExecuteTime": {
     "end_time": "2022-08-25T09:22:02.793093Z",
     "start_time": "2022-08-25T09:22:02.776139Z"
    }
   },
   "outputs": [
    {
     "data": {
      "text/plain": [
       "array([1])"
      ]
     },
     "execution_count": 585,
     "metadata": {},
     "output_type": "execute_result"
    }
   ],
   "source": [
    "KN.predict([[0,0,3000,0.0,66,1.0,0,1,1,1]])"
   ]
  },
  {
   "cell_type": "code",
   "execution_count": 586,
   "id": "dd0d1436",
   "metadata": {
    "ExecuteTime": {
     "end_time": "2022-08-25T09:22:03.399325Z",
     "start_time": "2022-08-25T09:22:03.381761Z"
    }
   },
   "outputs": [
    {
     "data": {
      "text/plain": [
       "array([0])"
      ]
     },
     "execution_count": 586,
     "metadata": {},
     "output_type": "execute_result"
    }
   ],
   "source": [
    "KN.predict([[1,0,4583,15080.0,128,1.0,2,1,0,1]])"
   ]
  },
  {
   "cell_type": "markdown",
   "id": "3afb773e",
   "metadata": {},
   "source": [
    "## Decision Tree"
   ]
  },
  {
   "cell_type": "code",
   "execution_count": 552,
   "id": "b1501559",
   "metadata": {
    "ExecuteTime": {
     "end_time": "2022-08-25T09:18:32.017163Z",
     "start_time": "2022-08-25T09:18:32.006103Z"
    }
   },
   "outputs": [],
   "source": [
    "from sklearn import tree"
   ]
  },
  {
   "cell_type": "code",
   "execution_count": 587,
   "id": "5c8f16e5",
   "metadata": {
    "ExecuteTime": {
     "end_time": "2022-08-25T09:22:24.902681Z",
     "start_time": "2022-08-25T09:22:24.887686Z"
    }
   },
   "outputs": [
    {
     "data": {
      "text/plain": [
       "DecisionTreeClassifier()"
      ]
     },
     "execution_count": 587,
     "metadata": {},
     "output_type": "execute_result"
    }
   ],
   "source": [
    "DT=tree.DecisionTreeClassifier()\n",
    "DT.fit(X_train, y_train)"
   ]
  },
  {
   "cell_type": "code",
   "execution_count": 588,
   "id": "f2239de0",
   "metadata": {
    "ExecuteTime": {
     "end_time": "2022-08-25T09:22:26.009820Z",
     "start_time": "2022-08-25T09:22:25.999843Z"
    }
   },
   "outputs": [
    {
     "name": "stdout",
     "output_type": "stream",
     "text": [
      "Training score: 1.0\n",
      "Testing score: 0.6422764227642277\n"
     ]
    }
   ],
   "source": [
    "print(\"Training score:\",DT.score(X_train,y_train))\n",
    "print(\"Testing score:\",DT.score(X_test,y_test))"
   ]
  },
  {
   "cell_type": "code",
   "execution_count": 589,
   "id": "90ef14a6",
   "metadata": {
    "ExecuteTime": {
     "end_time": "2022-08-25T09:22:28.689319Z",
     "start_time": "2022-08-25T09:22:28.672384Z"
    }
   },
   "outputs": [
    {
     "data": {
      "text/plain": [
       "array([0])"
      ]
     },
     "execution_count": 589,
     "metadata": {},
     "output_type": "execute_result"
    }
   ],
   "source": [
    "DT.predict([[0,0,3000,0.0,66,1.0,0,1,1,1]])"
   ]
  },
  {
   "cell_type": "code",
   "execution_count": 590,
   "id": "4472828d",
   "metadata": {
    "ExecuteTime": {
     "end_time": "2022-08-25T09:22:30.478085Z",
     "start_time": "2022-08-25T09:22:30.466131Z"
    }
   },
   "outputs": [
    {
     "data": {
      "text/plain": [
       "array([0])"
      ]
     },
     "execution_count": 590,
     "metadata": {},
     "output_type": "execute_result"
    }
   ],
   "source": [
    "DT.predict([[1,0,4583,15080.0,128,1.0,2,1,0,1]])"
   ]
  },
  {
   "cell_type": "code",
   "execution_count": null,
   "id": "a68075ef",
   "metadata": {},
   "outputs": [],
   "source": []
  }
 ],
 "metadata": {
  "hide_input": false,
  "kernelspec": {
   "display_name": "Python 3 (ipykernel)",
   "language": "python",
   "name": "python3"
  },
  "language_info": {
   "codemirror_mode": {
    "name": "ipython",
    "version": 3
   },
   "file_extension": ".py",
   "mimetype": "text/x-python",
   "name": "python",
   "nbconvert_exporter": "python",
   "pygments_lexer": "ipython3",
   "version": "3.9.7"
  },
  "latex_envs": {
   "LaTeX_envs_menu_present": true,
   "autoclose": false,
   "autocomplete": true,
   "bibliofile": "biblio.bib",
   "cite_by": "apalike",
   "current_citInitial": 1,
   "eqLabelWithNumbers": true,
   "eqNumInitial": 1,
   "hotkeys": {
    "equation": "Ctrl-E",
    "itemize": "Ctrl-I"
   },
   "labels_anchors": false,
   "latex_user_defs": false,
   "report_style_numbering": false,
   "user_envs_cfg": false
  },
  "nbTranslate": {
   "displayLangs": [
    "*"
   ],
   "hotkey": "alt-t",
   "langInMainMenu": true,
   "sourceLang": "en",
   "targetLang": "fr",
   "useGoogleTranslate": true
  },
  "toc": {
   "base_numbering": 1,
   "nav_menu": {},
   "number_sections": true,
   "sideBar": true,
   "skip_h1_title": false,
   "title_cell": "Table of Contents",
   "title_sidebar": "Contents",
   "toc_cell": false,
   "toc_position": {},
   "toc_section_display": true,
   "toc_window_display": false
  },
  "varInspector": {
   "cols": {
    "lenName": 16,
    "lenType": 16,
    "lenVar": 40
   },
   "kernels_config": {
    "python": {
     "delete_cmd_postfix": "",
     "delete_cmd_prefix": "del ",
     "library": "var_list.py",
     "varRefreshCmd": "print(var_dic_list())"
    },
    "r": {
     "delete_cmd_postfix": ") ",
     "delete_cmd_prefix": "rm(",
     "library": "var_list.r",
     "varRefreshCmd": "cat(var_dic_list()) "
    }
   },
   "types_to_exclude": [
    "module",
    "function",
    "builtin_function_or_method",
    "instance",
    "_Feature"
   ],
   "window_display": false
  }
 },
 "nbformat": 4,
 "nbformat_minor": 5
}
