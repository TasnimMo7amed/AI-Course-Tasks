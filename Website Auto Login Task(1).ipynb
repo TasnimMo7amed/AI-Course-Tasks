{
 "cells": [
  {
   "cell_type": "code",
   "execution_count": 1,
   "id": "99159593",
   "metadata": {
    "ExecuteTime": {
     "end_time": "2022-05-25T12:29:02.640197Z",
     "start_time": "2022-05-25T12:29:02.525946Z"
    },
    "run_control": {
     "marked": true
    }
   },
   "outputs": [],
   "source": [
    "from selenium import webdriver\n",
    "import time"
   ]
  },
  {
   "cell_type": "code",
   "execution_count": null,
   "id": "eab2bf41",
   "metadata": {},
   "outputs": [],
   "source": [
    "URL=\"https://www.github.com/login\"\n",
    "Name_XPath='//*[@id=\"login_feild\"]'\n",
    "Pass_XPath='//*[@id=\"PassWord\"]'\n",
    "\n",
    "def Auto_LogIn(username,password,url):\n",
    "    username = input(\"Enter your username: \")\n",
    "    password = input(\"Enter your password: \")\n",
    "\n",
    "    driver = webdriver.Chrome(\"D:\\AI-Course\\Py.Prac\\\\chromedriver.exe\")\n",
    "    driver.get(URL)\n",
    "\n",
    "    User_Name=driver.find_element_by_xpath(Name_XPath)\n",
    "    User_Name.send_keys(username)\n",
    "\n",
    "    User_Password = driver.find_element_by_xpath(Pass_XPath)\n",
    "    User_Password.send_keys(password)\n",
    "\n",
    "    button=driver.find_elements_by_xpath('/html/body/div[3]/main/div/from/div[4]/input[12]')\n",
    "    button.click()\n",
    "    time.sleep(3)\n",
    "Auto_LogIn(username,password,URL)"
   ]
  }
 ],
 "metadata": {
  "hide_input": false,
  "kernelspec": {
   "display_name": "Python 3 (ipykernel)",
   "language": "python",
   "name": "python3"
  },
  "language_info": {
   "codemirror_mode": {
    "name": "ipython",
    "version": 3
   },
   "file_extension": ".py",
   "mimetype": "text/x-python",
   "name": "python",
   "nbconvert_exporter": "python",
   "pygments_lexer": "ipython3",
   "version": "3.9.7"
  },
  "latex_envs": {
   "LaTeX_envs_menu_present": true,
   "autoclose": false,
   "autocomplete": true,
   "bibliofile": "biblio.bib",
   "cite_by": "apalike",
   "current_citInitial": 1,
   "eqLabelWithNumbers": true,
   "eqNumInitial": 1,
   "hotkeys": {
    "equation": "Ctrl-E",
    "itemize": "Ctrl-I"
   },
   "labels_anchors": false,
   "latex_user_defs": false,
   "report_style_numbering": false,
   "user_envs_cfg": false
  },
  "nbTranslate": {
   "displayLangs": [
    "*"
   ],
   "hotkey": "alt-t",
   "langInMainMenu": true,
   "sourceLang": "en",
   "targetLang": "fr",
   "useGoogleTranslate": true
  },
  "toc": {
   "base_numbering": 1,
   "nav_menu": {},
   "number_sections": true,
   "sideBar": true,
   "skip_h1_title": false,
   "title_cell": "Table of Contents",
   "title_sidebar": "Contents",
   "toc_cell": false,
   "toc_position": {},
   "toc_section_display": true,
   "toc_window_display": false
  },
  "varInspector": {
   "cols": {
    "lenName": 16,
    "lenType": 16,
    "lenVar": 40
   },
   "kernels_config": {
    "python": {
     "delete_cmd_postfix": "",
     "delete_cmd_prefix": "del ",
     "library": "var_list.py",
     "varRefreshCmd": "print(var_dic_list())"
    },
    "r": {
     "delete_cmd_postfix": ") ",
     "delete_cmd_prefix": "rm(",
     "library": "var_list.r",
     "varRefreshCmd": "cat(var_dic_list()) "
    }
   },
   "types_to_exclude": [
    "module",
    "function",
    "builtin_function_or_method",
    "instance",
    "_Feature"
   ],
   "window_display": false
  }
 },
 "nbformat": 4,
 "nbformat_minor": 5
}
