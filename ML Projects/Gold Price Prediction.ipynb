{
 "cells": [
  {
   "cell_type": "code",
   "execution_count": 122,
   "id": "655ac5b1",
   "metadata": {
    "ExecuteTime": {
     "end_time": "2022-08-25T10:18:56.000709Z",
     "start_time": "2022-08-25T10:18:55.991221Z"
    }
   },
   "outputs": [],
   "source": [
    "import pandas as pd\n",
    "import numpy as np\n",
    "import matplotlib.pyplot as plt\n",
    "import seaborn as sns\n",
    "import warnings\n",
    "warnings.filterwarnings('ignore')"
   ]
  },
  {
   "cell_type": "code",
   "execution_count": 123,
   "id": "23504493",
   "metadata": {
    "ExecuteTime": {
     "end_time": "2022-08-25T10:18:56.549025Z",
     "start_time": "2022-08-25T10:18:56.479131Z"
    }
   },
   "outputs": [
    {
     "data": {
      "text/html": [
       "<div>\n",
       "<style scoped>\n",
       "    .dataframe tbody tr th:only-of-type {\n",
       "        vertical-align: middle;\n",
       "    }\n",
       "\n",
       "    .dataframe tbody tr th {\n",
       "        vertical-align: top;\n",
       "    }\n",
       "\n",
       "    .dataframe thead th {\n",
       "        text-align: right;\n",
       "    }\n",
       "</style>\n",
       "<table border=\"1\" class=\"dataframe\">\n",
       "  <thead>\n",
       "    <tr style=\"text-align: right;\">\n",
       "      <th></th>\n",
       "      <th>Date</th>\n",
       "      <th>US dollar (USD)</th>\n",
       "      <th>Euro (EUR)</th>\n",
       "      <th>Japanese yen (JPY)</th>\n",
       "      <th>Pound sterling (GBP)</th>\n",
       "      <th>Canadian dollar (CAD)</th>\n",
       "      <th>Swiss franc (CHF)</th>\n",
       "      <th>Indian rupee (INR)</th>\n",
       "      <th>Chinese renmimbi (CNY)</th>\n",
       "      <th>Turkish lira (TRY)</th>\n",
       "      <th>Saudi riyal (SAR)</th>\n",
       "      <th>Indonesian rupiah (IDR)</th>\n",
       "      <th>UAE dirham (AED)</th>\n",
       "      <th>Thai baht THB)</th>\n",
       "      <th>Vietnamese dong (VND)</th>\n",
       "      <th>Egyptian pound (EGP)</th>\n",
       "      <th>Korean won (KRW)</th>\n",
       "      <th>Russian ruble (RUB)</th>\n",
       "      <th>South African rand (ZAR)</th>\n",
       "      <th>Australian dollar (AUD)</th>\n",
       "    </tr>\n",
       "  </thead>\n",
       "  <tbody>\n",
       "    <tr>\n",
       "      <th>0</th>\n",
       "      <td>1979-01-01</td>\n",
       "      <td>226.00</td>\n",
       "      <td>137.06</td>\n",
       "      <td>0.00</td>\n",
       "      <td>110.70</td>\n",
       "      <td>0.00</td>\n",
       "      <td>0.00</td>\n",
       "      <td>0.00</td>\n",
       "      <td>0.00</td>\n",
       "      <td>0.00</td>\n",
       "      <td>0.00</td>\n",
       "      <td>0.00</td>\n",
       "      <td>0.00</td>\n",
       "      <td>0.00</td>\n",
       "      <td>0.00</td>\n",
       "      <td>0.00</td>\n",
       "      <td>0.00</td>\n",
       "      <td>0.00</td>\n",
       "      <td>0.00</td>\n",
       "      <td>0.00</td>\n",
       "    </tr>\n",
       "    <tr>\n",
       "      <th>1</th>\n",
       "      <td>1979-01-02</td>\n",
       "      <td>226.80</td>\n",
       "      <td>137.29</td>\n",
       "      <td>43164.91</td>\n",
       "      <td>111.45</td>\n",
       "      <td>263.74</td>\n",
       "      <td>359.62</td>\n",
       "      <td>1792.85</td>\n",
       "      <td>0.00</td>\n",
       "      <td>0.00</td>\n",
       "      <td>735.60</td>\n",
       "      <td>138160.45</td>\n",
       "      <td>851.29</td>\n",
       "      <td>4454.55</td>\n",
       "      <td>0.00</td>\n",
       "      <td>0.00</td>\n",
       "      <td>107470.04</td>\n",
       "      <td>0.00</td>\n",
       "      <td>194.56</td>\n",
       "      <td>193.61</td>\n",
       "    </tr>\n",
       "    <tr>\n",
       "      <th>2</th>\n",
       "      <td>1979-01-03</td>\n",
       "      <td>218.60</td>\n",
       "      <td>134.01</td>\n",
       "      <td>43717.90</td>\n",
       "      <td>107.98</td>\n",
       "      <td>264.39</td>\n",
       "      <td>365.87</td>\n",
       "      <td>1802.15</td>\n",
       "      <td>0.00</td>\n",
       "      <td>0.00</td>\n",
       "      <td>739.42</td>\n",
       "      <td>138877.01</td>\n",
       "      <td>855.71</td>\n",
       "      <td>4477.66</td>\n",
       "      <td>0.00</td>\n",
       "      <td>0.00</td>\n",
       "      <td>108027.43</td>\n",
       "      <td>0.00</td>\n",
       "      <td>192.23</td>\n",
       "      <td>192.97</td>\n",
       "    </tr>\n",
       "    <tr>\n",
       "      <th>3</th>\n",
       "      <td>1979-01-04</td>\n",
       "      <td>223.15</td>\n",
       "      <td>136.79</td>\n",
       "      <td>43674.89</td>\n",
       "      <td>110.66</td>\n",
       "      <td>264.14</td>\n",
       "      <td>366.38</td>\n",
       "      <td>1811.74</td>\n",
       "      <td>0.00</td>\n",
       "      <td>0.00</td>\n",
       "      <td>743.36</td>\n",
       "      <td>139616.26</td>\n",
       "      <td>860.26</td>\n",
       "      <td>4501.49</td>\n",
       "      <td>0.00</td>\n",
       "      <td>0.00</td>\n",
       "      <td>108602.47</td>\n",
       "      <td>0.00</td>\n",
       "      <td>193.01</td>\n",
       "      <td>194.55</td>\n",
       "    </tr>\n",
       "    <tr>\n",
       "      <th>4</th>\n",
       "      <td>1979-01-05</td>\n",
       "      <td>225.50</td>\n",
       "      <td>138.35</td>\n",
       "      <td>44582.47</td>\n",
       "      <td>111.63</td>\n",
       "      <td>268.39</td>\n",
       "      <td>373.72</td>\n",
       "      <td>1843.57</td>\n",
       "      <td>0.00</td>\n",
       "      <td>0.00</td>\n",
       "      <td>756.42</td>\n",
       "      <td>142069.10</td>\n",
       "      <td>875.38</td>\n",
       "      <td>4580.57</td>\n",
       "      <td>0.00</td>\n",
       "      <td>0.00</td>\n",
       "      <td>110510.44</td>\n",
       "      <td>0.00</td>\n",
       "      <td>196.40</td>\n",
       "      <td>197.94</td>\n",
       "    </tr>\n",
       "    <tr>\n",
       "      <th>...</th>\n",
       "      <td>...</td>\n",
       "      <td>...</td>\n",
       "      <td>...</td>\n",
       "      <td>...</td>\n",
       "      <td>...</td>\n",
       "      <td>...</td>\n",
       "      <td>...</td>\n",
       "      <td>...</td>\n",
       "      <td>...</td>\n",
       "      <td>...</td>\n",
       "      <td>...</td>\n",
       "      <td>...</td>\n",
       "      <td>...</td>\n",
       "      <td>...</td>\n",
       "      <td>...</td>\n",
       "      <td>...</td>\n",
       "      <td>...</td>\n",
       "      <td>...</td>\n",
       "      <td>...</td>\n",
       "      <td>...</td>\n",
       "    </tr>\n",
       "    <tr>\n",
       "      <th>11285</th>\n",
       "      <td>2022-04-04</td>\n",
       "      <td>1930.30</td>\n",
       "      <td>1755.38</td>\n",
       "      <td>236896.07</td>\n",
       "      <td>1471.77</td>\n",
       "      <td>2406.99</td>\n",
       "      <td>1784.85</td>\n",
       "      <td>145834.17</td>\n",
       "      <td>12275.16</td>\n",
       "      <td>28386.99</td>\n",
       "      <td>7241.33</td>\n",
       "      <td>27708492.05</td>\n",
       "      <td>7090.09</td>\n",
       "      <td>64694.01</td>\n",
       "      <td>44102530.37</td>\n",
       "      <td>35208.67</td>\n",
       "      <td>2344349.41</td>\n",
       "      <td>162869.07</td>\n",
       "      <td>28141.36</td>\n",
       "      <td>2558.38</td>\n",
       "    </tr>\n",
       "    <tr>\n",
       "      <th>11286</th>\n",
       "      <td>2022-04-05</td>\n",
       "      <td>1944.05</td>\n",
       "      <td>1777.25</td>\n",
       "      <td>239691.65</td>\n",
       "      <td>1480.56</td>\n",
       "      <td>2418.11</td>\n",
       "      <td>1804.56</td>\n",
       "      <td>146459.87</td>\n",
       "      <td>12362.60</td>\n",
       "      <td>28616.42</td>\n",
       "      <td>7292.71</td>\n",
       "      <td>27892258.08</td>\n",
       "      <td>7140.59</td>\n",
       "      <td>64955.57</td>\n",
       "      <td>44470144.87</td>\n",
       "      <td>35459.47</td>\n",
       "      <td>2357743.90</td>\n",
       "      <td>162328.18</td>\n",
       "      <td>28373.41</td>\n",
       "      <td>2549.74</td>\n",
       "    </tr>\n",
       "    <tr>\n",
       "      <th>11287</th>\n",
       "      <td>2022-04-06</td>\n",
       "      <td>1930.15</td>\n",
       "      <td>1767.62</td>\n",
       "      <td>238846.40</td>\n",
       "      <td>1474.58</td>\n",
       "      <td>2412.88</td>\n",
       "      <td>1800.15</td>\n",
       "      <td>146223.33</td>\n",
       "      <td>12283.96</td>\n",
       "      <td>28452.34</td>\n",
       "      <td>7239.99</td>\n",
       "      <td>27711162.15</td>\n",
       "      <td>7089.54</td>\n",
       "      <td>64491.13</td>\n",
       "      <td>44137702.89</td>\n",
       "      <td>35341.04</td>\n",
       "      <td>2351598.13</td>\n",
       "      <td>160684.98</td>\n",
       "      <td>28274.28</td>\n",
       "      <td>2561.24</td>\n",
       "    </tr>\n",
       "    <tr>\n",
       "      <th>11288</th>\n",
       "      <td>2022-04-07</td>\n",
       "      <td>1932.40</td>\n",
       "      <td>1770.98</td>\n",
       "      <td>239472.66</td>\n",
       "      <td>1478.90</td>\n",
       "      <td>2431.83</td>\n",
       "      <td>1803.41</td>\n",
       "      <td>146780.27</td>\n",
       "      <td>12297.02</td>\n",
       "      <td>28489.85</td>\n",
       "      <td>7247.85</td>\n",
       "      <td>27747330.20</td>\n",
       "      <td>7097.80</td>\n",
       "      <td>64745.06</td>\n",
       "      <td>44176594.17</td>\n",
       "      <td>35440.21</td>\n",
       "      <td>2356851.54</td>\n",
       "      <td>152321.42</td>\n",
       "      <td>28536.72</td>\n",
       "      <td>2585.32</td>\n",
       "    </tr>\n",
       "    <tr>\n",
       "      <th>11289</th>\n",
       "      <td>2022-04-08</td>\n",
       "      <td>1941.40</td>\n",
       "      <td>1785.44</td>\n",
       "      <td>241519.85</td>\n",
       "      <td>1492.41</td>\n",
       "      <td>2445.87</td>\n",
       "      <td>1814.14</td>\n",
       "      <td>147381.37</td>\n",
       "      <td>12354.00</td>\n",
       "      <td>28646.13</td>\n",
       "      <td>7280.83</td>\n",
       "      <td>27879473.30</td>\n",
       "      <td>7130.86</td>\n",
       "      <td>65255.30</td>\n",
       "      <td>44384284.57</td>\n",
       "      <td>35605.27</td>\n",
       "      <td>2378311.95</td>\n",
       "      <td>151914.54</td>\n",
       "      <td>28431.80</td>\n",
       "      <td>2605.21</td>\n",
       "    </tr>\n",
       "  </tbody>\n",
       "</table>\n",
       "<p>11290 rows × 20 columns</p>\n",
       "</div>"
      ],
      "text/plain": [
       "             Date  US dollar (USD)  Euro (EUR)  Japanese yen (JPY)  \\\n",
       "0      1979-01-01           226.00      137.06                0.00   \n",
       "1      1979-01-02           226.80      137.29            43164.91   \n",
       "2      1979-01-03           218.60      134.01            43717.90   \n",
       "3      1979-01-04           223.15      136.79            43674.89   \n",
       "4      1979-01-05           225.50      138.35            44582.47   \n",
       "...           ...              ...         ...                 ...   \n",
       "11285  2022-04-04          1930.30     1755.38           236896.07   \n",
       "11286  2022-04-05          1944.05     1777.25           239691.65   \n",
       "11287  2022-04-06          1930.15     1767.62           238846.40   \n",
       "11288  2022-04-07          1932.40     1770.98           239472.66   \n",
       "11289  2022-04-08          1941.40     1785.44           241519.85   \n",
       "\n",
       "       Pound sterling (GBP)  Canadian dollar (CAD)  Swiss franc (CHF)  \\\n",
       "0                    110.70                   0.00               0.00   \n",
       "1                    111.45                 263.74             359.62   \n",
       "2                    107.98                 264.39             365.87   \n",
       "3                    110.66                 264.14             366.38   \n",
       "4                    111.63                 268.39             373.72   \n",
       "...                     ...                    ...                ...   \n",
       "11285               1471.77                2406.99            1784.85   \n",
       "11286               1480.56                2418.11            1804.56   \n",
       "11287               1474.58                2412.88            1800.15   \n",
       "11288               1478.90                2431.83            1803.41   \n",
       "11289               1492.41                2445.87            1814.14   \n",
       "\n",
       "       Indian rupee (INR)  Chinese renmimbi (CNY)  Turkish lira (TRY)  \\\n",
       "0                    0.00                    0.00                0.00   \n",
       "1                 1792.85                    0.00                0.00   \n",
       "2                 1802.15                    0.00                0.00   \n",
       "3                 1811.74                    0.00                0.00   \n",
       "4                 1843.57                    0.00                0.00   \n",
       "...                   ...                     ...                 ...   \n",
       "11285           145834.17                12275.16            28386.99   \n",
       "11286           146459.87                12362.60            28616.42   \n",
       "11287           146223.33                12283.96            28452.34   \n",
       "11288           146780.27                12297.02            28489.85   \n",
       "11289           147381.37                12354.00            28646.13   \n",
       "\n",
       "       Saudi riyal (SAR)  Indonesian rupiah (IDR)  UAE dirham (AED)  \\\n",
       "0                   0.00                     0.00              0.00   \n",
       "1                 735.60                138160.45            851.29   \n",
       "2                 739.42                138877.01            855.71   \n",
       "3                 743.36                139616.26            860.26   \n",
       "4                 756.42                142069.10            875.38   \n",
       "...                  ...                      ...               ...   \n",
       "11285            7241.33              27708492.05           7090.09   \n",
       "11286            7292.71              27892258.08           7140.59   \n",
       "11287            7239.99              27711162.15           7089.54   \n",
       "11288            7247.85              27747330.20           7097.80   \n",
       "11289            7280.83              27879473.30           7130.86   \n",
       "\n",
       "       Thai baht THB)  Vietnamese dong (VND)  Egyptian pound (EGP)  \\\n",
       "0                0.00                   0.00                  0.00   \n",
       "1             4454.55                   0.00                  0.00   \n",
       "2             4477.66                   0.00                  0.00   \n",
       "3             4501.49                   0.00                  0.00   \n",
       "4             4580.57                   0.00                  0.00   \n",
       "...               ...                    ...                   ...   \n",
       "11285        64694.01            44102530.37              35208.67   \n",
       "11286        64955.57            44470144.87              35459.47   \n",
       "11287        64491.13            44137702.89              35341.04   \n",
       "11288        64745.06            44176594.17              35440.21   \n",
       "11289        65255.30            44384284.57              35605.27   \n",
       "\n",
       "       Korean won (KRW)  Russian ruble (RUB)  South African rand (ZAR)  \\\n",
       "0                  0.00                 0.00                      0.00   \n",
       "1             107470.04                 0.00                    194.56   \n",
       "2             108027.43                 0.00                    192.23   \n",
       "3             108602.47                 0.00                    193.01   \n",
       "4             110510.44                 0.00                    196.40   \n",
       "...                 ...                  ...                       ...   \n",
       "11285        2344349.41            162869.07                  28141.36   \n",
       "11286        2357743.90            162328.18                  28373.41   \n",
       "11287        2351598.13            160684.98                  28274.28   \n",
       "11288        2356851.54            152321.42                  28536.72   \n",
       "11289        2378311.95            151914.54                  28431.80   \n",
       "\n",
       "       Australian dollar (AUD)  \n",
       "0                         0.00  \n",
       "1                       193.61  \n",
       "2                       192.97  \n",
       "3                       194.55  \n",
       "4                       197.94  \n",
       "...                        ...  \n",
       "11285                  2558.38  \n",
       "11286                  2549.74  \n",
       "11287                  2561.24  \n",
       "11288                  2585.32  \n",
       "11289                  2605.21  \n",
       "\n",
       "[11290 rows x 20 columns]"
      ]
     },
     "execution_count": 123,
     "metadata": {},
     "output_type": "execute_result"
    }
   ],
   "source": [
    "data = pd.read_csv('Daily_Gold_Price_on_World.csv')\n",
    "data"
   ]
  },
  {
   "cell_type": "code",
   "execution_count": 124,
   "id": "da78fdaf",
   "metadata": {
    "ExecuteTime": {
     "end_time": "2022-08-25T10:18:57.027986Z",
     "start_time": "2022-08-25T10:18:57.016428Z"
    }
   },
   "outputs": [
    {
     "data": {
      "text/html": [
       "<div>\n",
       "<style scoped>\n",
       "    .dataframe tbody tr th:only-of-type {\n",
       "        vertical-align: middle;\n",
       "    }\n",
       "\n",
       "    .dataframe tbody tr th {\n",
       "        vertical-align: top;\n",
       "    }\n",
       "\n",
       "    .dataframe thead th {\n",
       "        text-align: right;\n",
       "    }\n",
       "</style>\n",
       "<table border=\"1\" class=\"dataframe\">\n",
       "  <thead>\n",
       "    <tr style=\"text-align: right;\">\n",
       "      <th></th>\n",
       "      <th>US dollar (USD)</th>\n",
       "      <th>Euro (EUR)</th>\n",
       "    </tr>\n",
       "  </thead>\n",
       "  <tbody>\n",
       "    <tr>\n",
       "      <th>0</th>\n",
       "      <td>226.00</td>\n",
       "      <td>137.06</td>\n",
       "    </tr>\n",
       "    <tr>\n",
       "      <th>1</th>\n",
       "      <td>226.80</td>\n",
       "      <td>137.29</td>\n",
       "    </tr>\n",
       "    <tr>\n",
       "      <th>2</th>\n",
       "      <td>218.60</td>\n",
       "      <td>134.01</td>\n",
       "    </tr>\n",
       "    <tr>\n",
       "      <th>3</th>\n",
       "      <td>223.15</td>\n",
       "      <td>136.79</td>\n",
       "    </tr>\n",
       "    <tr>\n",
       "      <th>4</th>\n",
       "      <td>225.50</td>\n",
       "      <td>138.35</td>\n",
       "    </tr>\n",
       "    <tr>\n",
       "      <th>...</th>\n",
       "      <td>...</td>\n",
       "      <td>...</td>\n",
       "    </tr>\n",
       "    <tr>\n",
       "      <th>11285</th>\n",
       "      <td>1930.30</td>\n",
       "      <td>1755.38</td>\n",
       "    </tr>\n",
       "    <tr>\n",
       "      <th>11286</th>\n",
       "      <td>1944.05</td>\n",
       "      <td>1777.25</td>\n",
       "    </tr>\n",
       "    <tr>\n",
       "      <th>11287</th>\n",
       "      <td>1930.15</td>\n",
       "      <td>1767.62</td>\n",
       "    </tr>\n",
       "    <tr>\n",
       "      <th>11288</th>\n",
       "      <td>1932.40</td>\n",
       "      <td>1770.98</td>\n",
       "    </tr>\n",
       "    <tr>\n",
       "      <th>11289</th>\n",
       "      <td>1941.40</td>\n",
       "      <td>1785.44</td>\n",
       "    </tr>\n",
       "  </tbody>\n",
       "</table>\n",
       "<p>11290 rows × 2 columns</p>\n",
       "</div>"
      ],
      "text/plain": [
       "       US dollar (USD)  Euro (EUR)\n",
       "0               226.00      137.06\n",
       "1               226.80      137.29\n",
       "2               218.60      134.01\n",
       "3               223.15      136.79\n",
       "4               225.50      138.35\n",
       "...                ...         ...\n",
       "11285          1930.30     1755.38\n",
       "11286          1944.05     1777.25\n",
       "11287          1930.15     1767.62\n",
       "11288          1932.40     1770.98\n",
       "11289          1941.40     1785.44\n",
       "\n",
       "[11290 rows x 2 columns]"
      ]
     },
     "execution_count": 124,
     "metadata": {},
     "output_type": "execute_result"
    }
   ],
   "source": [
    "gold_usd=data[[\"US dollar (USD)\",\"Euro (EUR)\"]]\n",
    "gold_usd"
   ]
  },
  {
   "cell_type": "code",
   "execution_count": 125,
   "id": "d68e36df",
   "metadata": {
    "ExecuteTime": {
     "end_time": "2022-08-25T10:18:58.036809Z",
     "start_time": "2022-08-25T10:18:58.009084Z"
    }
   },
   "outputs": [
    {
     "data": {
      "text/html": [
       "<div>\n",
       "<style scoped>\n",
       "    .dataframe tbody tr th:only-of-type {\n",
       "        vertical-align: middle;\n",
       "    }\n",
       "\n",
       "    .dataframe tbody tr th {\n",
       "        vertical-align: top;\n",
       "    }\n",
       "\n",
       "    .dataframe thead th {\n",
       "        text-align: right;\n",
       "    }\n",
       "</style>\n",
       "<table border=\"1\" class=\"dataframe\">\n",
       "  <thead>\n",
       "    <tr style=\"text-align: right;\">\n",
       "      <th></th>\n",
       "      <th>US dollar (USD)</th>\n",
       "      <th>Euro (EUR)</th>\n",
       "      <th>USDchange</th>\n",
       "      <th>EUR change</th>\n",
       "    </tr>\n",
       "  </thead>\n",
       "  <tbody>\n",
       "    <tr>\n",
       "      <th>1</th>\n",
       "      <td>226.80</td>\n",
       "      <td>137.29</td>\n",
       "      <td>0.353982</td>\n",
       "      <td>0.167810</td>\n",
       "    </tr>\n",
       "    <tr>\n",
       "      <th>2</th>\n",
       "      <td>218.60</td>\n",
       "      <td>134.01</td>\n",
       "      <td>-3.615520</td>\n",
       "      <td>-2.389103</td>\n",
       "    </tr>\n",
       "    <tr>\n",
       "      <th>3</th>\n",
       "      <td>223.15</td>\n",
       "      <td>136.79</td>\n",
       "      <td>2.081427</td>\n",
       "      <td>2.074472</td>\n",
       "    </tr>\n",
       "    <tr>\n",
       "      <th>4</th>\n",
       "      <td>225.50</td>\n",
       "      <td>138.35</td>\n",
       "      <td>1.053103</td>\n",
       "      <td>1.140434</td>\n",
       "    </tr>\n",
       "    <tr>\n",
       "      <th>5</th>\n",
       "      <td>223.10</td>\n",
       "      <td>136.38</td>\n",
       "      <td>-1.064302</td>\n",
       "      <td>-1.423925</td>\n",
       "    </tr>\n",
       "  </tbody>\n",
       "</table>\n",
       "</div>"
      ],
      "text/plain": [
       "   US dollar (USD)  Euro (EUR)  USDchange  EUR change\n",
       "1           226.80      137.29   0.353982    0.167810\n",
       "2           218.60      134.01  -3.615520   -2.389103\n",
       "3           223.15      136.79   2.081427    2.074472\n",
       "4           225.50      138.35   1.053103    1.140434\n",
       "5           223.10      136.38  -1.064302   -1.423925"
      ]
     },
     "execution_count": 125,
     "metadata": {},
     "output_type": "execute_result"
    }
   ],
   "source": [
    "gold_usd[\"USDchange\"]=(gold_usd[\"US dollar (USD)\"].pct_change())*100\n",
    "gold_usd[\"EUR change\"]=(gold_usd[\"Euro (EUR)\"].pct_change())*100\n",
    "gold_usd=gold_usd.dropna()\n",
    "gold_usd.head()"
   ]
  },
  {
   "cell_type": "markdown",
   "id": "30d6e3c3",
   "metadata": {},
   "source": [
    "# Split data"
   ]
  },
  {
   "cell_type": "code",
   "execution_count": 126,
   "id": "10ee67d7",
   "metadata": {
    "ExecuteTime": {
     "end_time": "2022-08-25T10:18:59.660853Z",
     "start_time": "2022-08-25T10:18:59.640323Z"
    }
   },
   "outputs": [],
   "source": [
    "from sklearn.model_selection import train_test_split\n",
    "X=gold_usd.index.to_frame()\n",
    "y=gold_usd[\"US dollar (USD)\"]\n",
    "z=gold_usd[\"Euro (EUR)\"]\n",
    "X_train, X_test, y_train, y_test,Z_train, Z_test = train_test_split(\n",
    "     X, y,z, test_size=0.30)"
   ]
  },
  {
   "cell_type": "markdown",
   "id": "583df51a",
   "metadata": {},
   "source": [
    "# SVM Algorithm"
   ]
  },
  {
   "cell_type": "code",
   "execution_count": 127,
   "id": "a4c07939",
   "metadata": {
    "ExecuteTime": {
     "end_time": "2022-08-25T10:19:04.499342Z",
     "start_time": "2022-08-25T10:19:00.836411Z"
    }
   },
   "outputs": [
    {
     "data": {
      "text/plain": [
       "SVR(C=15, epsilon=0.05)"
      ]
     },
     "execution_count": 127,
     "metadata": {},
     "output_type": "execute_result"
    }
   ],
   "source": [
    "from sklearn.svm import SVR\n",
    "regressor = SVR(C=15,epsilon=.05,kernel=\"rbf\")\n",
    "regressor.fit(X_train, y_train)"
   ]
  },
  {
   "cell_type": "code",
   "execution_count": 128,
   "id": "6abe3534",
   "metadata": {
    "ExecuteTime": {
     "end_time": "2022-08-25T10:19:08.253754Z",
     "start_time": "2022-08-25T10:19:04.596321Z"
    }
   },
   "outputs": [
    {
     "data": {
      "text/plain": [
       "SVR(C=15, epsilon=0.05)"
      ]
     },
     "execution_count": 128,
     "metadata": {},
     "output_type": "execute_result"
    }
   ],
   "source": [
    "regressor1 = SVR(C=15,epsilon=.05,kernel=\"rbf\")\n",
    "regressor1.fit(X_train,Z_train)"
   ]
  },
  {
   "cell_type": "code",
   "execution_count": 129,
   "id": "e1493e90",
   "metadata": {
    "ExecuteTime": {
     "end_time": "2022-08-25T10:19:14.040404Z",
     "start_time": "2022-08-25T10:19:08.347605Z"
    }
   },
   "outputs": [
    {
     "data": {
      "text/plain": [
       "0.9023700124790843"
      ]
     },
     "execution_count": 129,
     "metadata": {},
     "output_type": "execute_result"
    }
   ],
   "source": [
    "regressor.score(X_train, y_train)"
   ]
  },
  {
   "cell_type": "code",
   "execution_count": 130,
   "id": "bf38d500",
   "metadata": {
    "ExecuteTime": {
     "end_time": "2022-08-25T10:19:20.042290Z",
     "start_time": "2022-08-25T10:19:14.134151Z"
    }
   },
   "outputs": [
    {
     "data": {
      "text/plain": [
       "0.9217842453514263"
      ]
     },
     "execution_count": 130,
     "metadata": {},
     "output_type": "execute_result"
    }
   ],
   "source": [
    "regressor1.score(X_train,Z_train)"
   ]
  },
  {
   "cell_type": "code",
   "execution_count": 131,
   "id": "4ea899ad",
   "metadata": {
    "ExecuteTime": {
     "end_time": "2022-08-25T10:19:28.293340Z",
     "start_time": "2022-08-25T10:19:20.136502Z"
    }
   },
   "outputs": [],
   "source": [
    "gold_usd[\"USD_Prediction_SVR\"]=regressor.predict(gold_usd.index.to_frame())"
   ]
  },
  {
   "cell_type": "code",
   "execution_count": 132,
   "id": "d4a67088",
   "metadata": {
    "ExecuteTime": {
     "end_time": "2022-08-25T10:19:36.216365Z",
     "start_time": "2022-08-25T10:19:28.390029Z"
    }
   },
   "outputs": [],
   "source": [
    "gold_usd[\"EUR_Prediction_SVR\"]=regressor1.predict(gold_usd.index.to_frame())"
   ]
  },
  {
   "cell_type": "code",
   "execution_count": 133,
   "id": "4934f2d7",
   "metadata": {
    "ExecuteTime": {
     "end_time": "2022-08-25T10:19:36.526625Z",
     "start_time": "2022-08-25T10:19:36.313638Z"
    }
   },
   "outputs": [
    {
     "data": {
      "text/plain": [
       "<matplotlib.legend.Legend at 0x1288f441f40>"
      ]
     },
     "execution_count": 133,
     "metadata": {},
     "output_type": "execute_result"
    },
    {
     "data": {
      "image/png": "[encoded data removed]",
      "text/plain": [
       "<Figure size 1440x720 with 1 Axes>"
      ]
     },
     "metadata": {
      "needs_background": "light"
     },
     "output_type": "display_data"
    }
   ],
   "source": [
    "plt.figure(figsize=(20,10))\n",
    "plt.xlabel(\"date\")\n",
    "plt.ylabel(\"Gold Price\")\n",
    "plt.plot(gold_usd[\"US dollar (USD)\"],label=\"Actual USD\")\n",
    "plt.plot(gold_usd[\"Euro (EUR)\"],label=\"Actual EUR\")\n",
    "plt.plot(gold_usd[\"USD_Prediction_SVR\"],label=\"prediction USD\")\n",
    "plt.plot(gold_usd[\"EUR_Prediction_SVR\"],label=\"prediction EUR\")\n",
    "\n",
    "\n",
    "plt.legend()"
   ]
  },
  {
   "cell_type": "code",
   "execution_count": 134,
   "id": "1b1f071f",
   "metadata": {
    "ExecuteTime": {
     "end_time": "2022-08-25T10:19:36.637647Z",
     "start_time": "2022-08-25T10:19:36.625794Z"
    }
   },
   "outputs": [
    {
     "data": {
      "text/plain": [
       "array([903.14161738])"
      ]
     },
     "execution_count": 134,
     "metadata": {},
     "output_type": "execute_result"
    }
   ],
   "source": [
    "today=np.datetime64(\"2022-08-06\",\"ns\")\n",
    "regressor.predict([[today]])   #USD"
   ]
  },
  {
   "cell_type": "code",
   "execution_count": 135,
   "id": "cea56d1f",
   "metadata": {
    "ExecuteTime": {
     "end_time": "2022-08-25T10:19:36.764070Z",
     "start_time": "2022-08-25T10:19:36.737910Z"
    }
   },
   "outputs": [
    {
     "data": {
      "text/plain": [
       "array([714.73283909])"
      ]
     },
     "execution_count": 135,
     "metadata": {},
     "output_type": "execute_result"
    }
   ],
   "source": [
    "today1=np.datetime64(\"2022-08-06\",\"ns\")\n",
    "regressor1.predict([[today1]])          #EUR"
   ]
  },
  {
   "cell_type": "markdown",
   "id": "3a785159",
   "metadata": {},
   "source": [
    "# Random forest"
   ]
  },
  {
   "cell_type": "code",
   "execution_count": 136,
   "id": "211136c0",
   "metadata": {
    "ExecuteTime": {
     "end_time": "2022-08-25T10:19:36.886764Z",
     "start_time": "2022-08-25T10:19:36.863844Z"
    }
   },
   "outputs": [
    {
     "data": {
      "text/plain": [
       "0.9994151478605736"
      ]
     },
     "execution_count": 136,
     "metadata": {},
     "output_type": "execute_result"
    }
   ],
   "source": [
    "from sklearn.ensemble import RandomForestRegressor\n",
    "model=RandomForestRegressor(n_estimators=1)\n",
    "model.fit(X_train,y_train)\n",
    "model.score(X_test,y_test)"
   ]
  },
  {
   "cell_type": "code",
   "execution_count": 137,
   "id": "46bb8c0e",
   "metadata": {
    "ExecuteTime": {
     "end_time": "2022-08-25T10:19:36.995822Z",
     "start_time": "2022-08-25T10:19:36.981160Z"
    }
   },
   "outputs": [],
   "source": [
    "gold_usd[\"USD_Prediction_RF\"]=model.predict(gold_usd.index.to_frame())"
   ]
  },
  {
   "cell_type": "code",
   "execution_count": 138,
   "id": "59f36d04",
   "metadata": {
    "ExecuteTime": {
     "end_time": "2022-08-25T10:19:37.120816Z",
     "start_time": "2022-08-25T10:19:37.091846Z"
    }
   },
   "outputs": [
    {
     "data": {
      "text/plain": [
       "0.9993916761172786"
      ]
     },
     "execution_count": 138,
     "metadata": {},
     "output_type": "execute_result"
    }
   ],
   "source": [
    "from sklearn.ensemble import RandomForestRegressor\n",
    "model1=RandomForestRegressor(n_estimators=1)\n",
    "model1.fit(X_train,Z_train)\n",
    "model1.score(X_test,Z_test)"
   ]
  },
  {
   "cell_type": "code",
   "execution_count": 139,
   "id": "425869b6",
   "metadata": {
    "ExecuteTime": {
     "end_time": "2022-08-25T10:19:37.229205Z",
     "start_time": "2022-08-25T10:19:37.215204Z"
    }
   },
   "outputs": [],
   "source": [
    "gold_usd[\"EUR_Prediction_RF\"]=model1.predict(gold_usd.index.to_frame())"
   ]
  },
  {
   "cell_type": "code",
   "execution_count": 140,
   "id": "610ca969",
   "metadata": {
    "ExecuteTime": {
     "end_time": "2022-08-25T10:19:37.542028Z",
     "start_time": "2022-08-25T10:19:37.324636Z"
    }
   },
   "outputs": [
    {
     "data": {
      "text/plain": [
       "<matplotlib.legend.Legend at 0x128912293a0>"
      ]
     },
     "execution_count": 140,
     "metadata": {},
     "output_type": "execute_result"
    },
    {
     "data": {
      "image/png": "[encoded data removed]",
      "text/plain": [
       "<Figure size 1440x720 with 1 Axes>"
      ]
     },
     "metadata": {
      "needs_background": "light"
     },
     "output_type": "display_data"
    }
   ],
   "source": [
    "plt.figure(figsize=(20,10))\n",
    "plt.xlabel(\"date\")\n",
    "plt.ylabel(\"Gold Price\")\n",
    "plt.plot(gold_usd.index,gold_usd[\"US dollar (USD)\"],label=\"Actual USD\")\n",
    "plt.plot(gold_usd.index,gold_usd[\"Euro (EUR)\"],label=\"Actual EUR\")\n",
    "plt.plot(gold_usd.index,gold_usd[\"USD_Prediction_RF\"],label=\"prediction USD\")\n",
    "plt.plot(gold_usd.index,gold_usd[\"EUR_Prediction_RF\"],label=\"prediction EUR\")\n",
    "\n",
    "\n",
    "plt.legend()"
   ]
  },
  {
   "cell_type": "code",
   "execution_count": 141,
   "id": "67d57749",
   "metadata": {
    "ExecuteTime": {
     "end_time": "2022-08-25T10:19:37.650059Z",
     "start_time": "2022-08-25T10:19:37.635824Z"
    }
   },
   "outputs": [
    {
     "data": {
      "text/plain": [
       "array([1910.])"
      ]
     },
     "execution_count": 141,
     "metadata": {},
     "output_type": "execute_result"
    }
   ],
   "source": [
    "today=np.datetime64(\"2022-08-06\",\"ns\")\n",
    "model.predict([[today]])"
   ]
  },
  {
   "cell_type": "code",
   "execution_count": 142,
   "id": "be64c1b9",
   "metadata": {
    "ExecuteTime": {
     "end_time": "2022-08-25T10:19:37.760613Z",
     "start_time": "2022-08-25T10:19:37.747185Z"
    }
   },
   "outputs": [
    {
     "data": {
      "text/plain": [
       "array([1785.44])"
      ]
     },
     "execution_count": 142,
     "metadata": {},
     "output_type": "execute_result"
    }
   ],
   "source": [
    "today1=np.datetime64(\"2022-08-06\",\"ns\")\n",
    "model1.predict([[today1]])"
   ]
  },
  {
   "cell_type": "markdown",
   "id": "5ac92c4b",
   "metadata": {},
   "source": [
    "# Linear regression"
   ]
  },
  {
   "cell_type": "code",
   "execution_count": 143,
   "id": "9b619a24",
   "metadata": {
    "ExecuteTime": {
     "end_time": "2022-08-25T10:19:37.880592Z",
     "start_time": "2022-08-25T10:19:37.868432Z"
    }
   },
   "outputs": [],
   "source": [
    "gold_usd['Time'] = np.arange(1,len(gold_usd.index)+1)\n",
    "W = gold_usd.loc[:, ['Time']]  # features\n",
    "e = gold_usd.loc[:, \"US dollar (USD)\"]\n",
    "f = gold_usd.loc[:, \"Euro (EUR)\"]"
   ]
  },
  {
   "cell_type": "code",
   "execution_count": 144,
   "id": "3938ed3b",
   "metadata": {
    "ExecuteTime": {
     "end_time": "2022-08-25T10:19:37.989925Z",
     "start_time": "2022-08-25T10:19:37.976000Z"
    }
   },
   "outputs": [
    {
     "data": {
      "text/plain": [
       "LinearRegression()"
      ]
     },
     "execution_count": 144,
     "metadata": {},
     "output_type": "execute_result"
    }
   ],
   "source": [
    "from sklearn.linear_model import LinearRegression\n",
    "model2=LinearRegression()\n",
    "model2.fit(W,e)"
   ]
  },
  {
   "cell_type": "code",
   "execution_count": 145,
   "id": "648e99ba",
   "metadata": {
    "ExecuteTime": {
     "end_time": "2022-08-25T10:19:38.098634Z",
     "start_time": "2022-08-25T10:19:38.085668Z"
    }
   },
   "outputs": [
    {
     "data": {
      "text/plain": [
       "0.6361526300808464"
      ]
     },
     "execution_count": 145,
     "metadata": {},
     "output_type": "execute_result"
    }
   ],
   "source": [
    "model2.score(W,e)"
   ]
  },
  {
   "cell_type": "code",
   "execution_count": 146,
   "id": "7007dda9",
   "metadata": {
    "ExecuteTime": {
     "end_time": "2022-08-25T10:19:38.223594Z",
     "start_time": "2022-08-25T10:19:38.195643Z"
    }
   },
   "outputs": [
    {
     "data": {
      "text/plain": [
       "LinearRegression()"
      ]
     },
     "execution_count": 146,
     "metadata": {},
     "output_type": "execute_result"
    }
   ],
   "source": [
    "model3=LinearRegression()\n",
    "model3.fit(W,f)"
   ]
  },
  {
   "cell_type": "code",
   "execution_count": 147,
   "id": "d9a5d98b",
   "metadata": {
    "ExecuteTime": {
     "end_time": "2022-08-25T10:19:38.346237Z",
     "start_time": "2022-08-25T10:19:38.332277Z"
    }
   },
   "outputs": [
    {
     "data": {
      "text/plain": [
       "0.6484265459944614"
      ]
     },
     "execution_count": 147,
     "metadata": {},
     "output_type": "execute_result"
    }
   ],
   "source": [
    "model3.score(W,f)"
   ]
  },
  {
   "cell_type": "code",
   "execution_count": 148,
   "id": "3d54428e",
   "metadata": {
    "ExecuteTime": {
     "end_time": "2022-08-25T10:19:38.676121Z",
     "start_time": "2022-08-25T10:19:38.478437Z"
    }
   },
   "outputs": [
    {
     "data": {
      "text/plain": [
       "<matplotlib.legend.Legend at 0x12891b70850>"
      ]
     },
     "execution_count": 148,
     "metadata": {},
     "output_type": "execute_result"
    },
    {
     "data": {
      "image/png": "[encoded data removed]",
      "text/plain": [
       "<Figure size 432x288 with 1 Axes>"
      ]
     },
     "metadata": {
      "needs_background": "light"
     },
     "output_type": "display_data"
    }
   ],
   "source": [
    "plt.plot(gold_usd.index,gold_usd[\"US dollar (USD)\"],label=\"Actual USD\")\n",
    "plt.plot(gold_usd.index,gold_usd[\"Euro (EUR)\"],label=\"Actual EUR\")\n",
    "plt.plot(gold_usd.index,model2.predict(W),label=\"prediction USD\")\n",
    "plt.plot(gold_usd.index,model3.predict(W),label=\"prediction EUR\")\n",
    "plt.legend()"
   ]
  },
  {
   "cell_type": "code",
   "execution_count": 149,
   "id": "fe28663c",
   "metadata": {
    "ExecuteTime": {
     "end_time": "2022-08-25T10:19:38.785667Z",
     "start_time": "2022-08-25T10:19:38.770912Z"
    }
   },
   "outputs": [],
   "source": [
    "gold_usd[\"USD_Prediction_LR\"]=model2.predict(gold_usd.index.to_frame())"
   ]
  },
  {
   "cell_type": "code",
   "execution_count": 150,
   "id": "23a84d11",
   "metadata": {
    "ExecuteTime": {
     "end_time": "2022-08-25T10:19:38.893695Z",
     "start_time": "2022-08-25T10:19:38.881412Z"
    }
   },
   "outputs": [],
   "source": [
    "gold_usd[\"EUR_Prediction_LR\"]=model3.predict(gold_usd.index.to_frame())"
   ]
  },
  {
   "cell_type": "code",
   "execution_count": 151,
   "id": "9a9f5eb1",
   "metadata": {
    "ExecuteTime": {
     "end_time": "2022-08-25T10:19:39.000999Z",
     "start_time": "2022-08-25T10:19:38.987000Z"
    }
   },
   "outputs": [
    {
     "data": {
      "text/html": [
       "<div>\n",
       "<style scoped>\n",
       "    .dataframe tbody tr th:only-of-type {\n",
       "        vertical-align: middle;\n",
       "    }\n",
       "\n",
       "    .dataframe tbody tr th {\n",
       "        vertical-align: top;\n",
       "    }\n",
       "\n",
       "    .dataframe thead th {\n",
       "        text-align: right;\n",
       "    }\n",
       "</style>\n",
       "<table border=\"1\" class=\"dataframe\">\n",
       "  <thead>\n",
       "    <tr style=\"text-align: right;\">\n",
       "      <th></th>\n",
       "      <th>US dollar (USD)</th>\n",
       "      <th>Euro (EUR)</th>\n",
       "      <th>USDchange</th>\n",
       "      <th>EUR change</th>\n",
       "      <th>USD_Prediction_SVR</th>\n",
       "      <th>EUR_Prediction_SVR</th>\n",
       "      <th>USD_Prediction_RF</th>\n",
       "      <th>EUR_Prediction_RF</th>\n",
       "      <th>Time</th>\n",
       "      <th>USD_Prediction_LR</th>\n",
       "      <th>EUR_Prediction_LR</th>\n",
       "    </tr>\n",
       "  </thead>\n",
       "  <tbody>\n",
       "    <tr>\n",
       "      <th>1</th>\n",
       "      <td>226.80</td>\n",
       "      <td>137.29</td>\n",
       "      <td>0.353982</td>\n",
       "      <td>0.167810</td>\n",
       "      <td>508.211597</td>\n",
       "      <td>323.046530</td>\n",
       "      <td>226.80</td>\n",
       "      <td>137.29</td>\n",
       "      <td>1</td>\n",
       "      <td>33.259787</td>\n",
       "      <td>31.508540</td>\n",
       "    </tr>\n",
       "    <tr>\n",
       "      <th>2</th>\n",
       "      <td>218.60</td>\n",
       "      <td>134.01</td>\n",
       "      <td>-3.615520</td>\n",
       "      <td>-2.389103</td>\n",
       "      <td>508.090694</td>\n",
       "      <td>323.151004</td>\n",
       "      <td>226.80</td>\n",
       "      <td>134.01</td>\n",
       "      <td>2</td>\n",
       "      <td>33.379872</td>\n",
       "      <td>31.607335</td>\n",
       "    </tr>\n",
       "    <tr>\n",
       "      <th>3</th>\n",
       "      <td>223.15</td>\n",
       "      <td>136.79</td>\n",
       "      <td>2.081427</td>\n",
       "      <td>2.074472</td>\n",
       "      <td>507.969798</td>\n",
       "      <td>323.255438</td>\n",
       "      <td>223.15</td>\n",
       "      <td>136.79</td>\n",
       "      <td>3</td>\n",
       "      <td>33.499957</td>\n",
       "      <td>31.706129</td>\n",
       "    </tr>\n",
       "    <tr>\n",
       "      <th>4</th>\n",
       "      <td>225.50</td>\n",
       "      <td>138.35</td>\n",
       "      <td>1.053103</td>\n",
       "      <td>1.140434</td>\n",
       "      <td>507.848910</td>\n",
       "      <td>323.359832</td>\n",
       "      <td>225.50</td>\n",
       "      <td>138.35</td>\n",
       "      <td>4</td>\n",
       "      <td>33.620041</td>\n",
       "      <td>31.804923</td>\n",
       "    </tr>\n",
       "    <tr>\n",
       "      <th>5</th>\n",
       "      <td>223.10</td>\n",
       "      <td>136.38</td>\n",
       "      <td>-1.064302</td>\n",
       "      <td>-1.423925</td>\n",
       "      <td>507.728029</td>\n",
       "      <td>323.464185</td>\n",
       "      <td>223.10</td>\n",
       "      <td>136.38</td>\n",
       "      <td>5</td>\n",
       "      <td>33.740126</td>\n",
       "      <td>31.903717</td>\n",
       "    </tr>\n",
       "  </tbody>\n",
       "</table>\n",
       "</div>"
      ],
      "text/plain": [
       "   US dollar (USD)  Euro (EUR)  USDchange  EUR change  USD_Prediction_SVR  \\\n",
       "1           226.80      137.29   0.353982    0.167810          508.211597   \n",
       "2           218.60      134.01  -3.615520   -2.389103          508.090694   \n",
       "3           223.15      136.79   2.081427    2.074472          507.969798   \n",
       "4           225.50      138.35   1.053103    1.140434          507.848910   \n",
       "5           223.10      136.38  -1.064302   -1.423925          507.728029   \n",
       "\n",
       "   EUR_Prediction_SVR  USD_Prediction_RF  EUR_Prediction_RF  Time  \\\n",
       "1          323.046530             226.80             137.29     1   \n",
       "2          323.151004             226.80             134.01     2   \n",
       "3          323.255438             223.15             136.79     3   \n",
       "4          323.359832             225.50             138.35     4   \n",
       "5          323.464185             223.10             136.38     5   \n",
       "\n",
       "   USD_Prediction_LR  EUR_Prediction_LR  \n",
       "1          33.259787          31.508540  \n",
       "2          33.379872          31.607335  \n",
       "3          33.499957          31.706129  \n",
       "4          33.620041          31.804923  \n",
       "5          33.740126          31.903717  "
      ]
     },
     "execution_count": 151,
     "metadata": {},
     "output_type": "execute_result"
    }
   ],
   "source": [
    "gold_usd.head()"
   ]
  },
  {
   "cell_type": "code",
   "execution_count": 154,
   "id": "ae2d40b4",
   "metadata": {
    "ExecuteTime": {
     "end_time": "2022-08-25T10:25:38.401823Z",
     "start_time": "2022-08-25T10:25:38.386757Z"
    }
   },
   "outputs": [
    {
     "data": {
      "text/plain": [
       "array([1398.98313595])"
      ]
     },
     "execution_count": 154,
     "metadata": {},
     "output_type": "execute_result"
    }
   ],
   "source": [
    "value=np.busday_count('1979-01-02', '2022-08-06')\n",
    "model2.predict([[value]])"
   ]
  },
  {
   "cell_type": "code",
   "execution_count": 155,
   "id": "9a438fed",
   "metadata": {
    "ExecuteTime": {
     "end_time": "2022-08-25T10:25:39.417300Z",
     "start_time": "2022-08-25T10:25:39.403348Z"
    }
   },
   "outputs": [
    {
     "data": {
      "text/plain": [
       "array([1155.09399956])"
      ]
     },
     "execution_count": 155,
     "metadata": {},
     "output_type": "execute_result"
    }
   ],
   "source": [
    "value1=np.busday_count('1979-01-02', '2022-08-06')\n",
    "model3.predict([[value1]])"
   ]
  },
  {
   "cell_type": "markdown",
   "id": "4c3d01a0",
   "metadata": {},
   "source": [
    "# Actual Gold Price Today (2022-08-06) is 1775 USD & 1742 EUR\n"
   ]
  },
  {
   "cell_type": "code",
   "execution_count": null,
   "id": "8930252d",
   "metadata": {},
   "outputs": [],
   "source": []
  }
 ],
 "metadata": {
  "hide_input": false,
  "kernelspec": {
   "display_name": "Python 3 (ipykernel)",
   "language": "python",
   "name": "python3"
  },
  "language_info": {
   "codemirror_mode": {
    "name": "ipython",
    "version": 3
   },
   "file_extension": ".py",
   "mimetype": "text/x-python",
   "name": "python",
   "nbconvert_exporter": "python",
   "pygments_lexer": "ipython3",
   "version": "3.9.7"
  },
  "latex_envs": {
   "LaTeX_envs_menu_present": true,
   "autoclose": false,
   "autocomplete": true,
   "bibliofile": "biblio.bib",
   "cite_by": "apalike",
   "current_citInitial": 1,
   "eqLabelWithNumbers": true,
   "eqNumInitial": 1,
   "hotkeys": {
    "equation": "Ctrl-E",
    "itemize": "Ctrl-I"
   },
   "labels_anchors": false,
   "latex_user_defs": false,
   "report_style_numbering": false,
   "user_envs_cfg": false
  },
  "nbTranslate": {
   "displayLangs": [
    "*"
   ],
   "hotkey": "alt-t",
   "langInMainMenu": true,
   "sourceLang": "en",
   "targetLang": "fr",
   "useGoogleTranslate": true
  },
  "toc": {
   "base_numbering": 1,
   "nav_menu": {},
   "number_sections": true,
   "sideBar": true,
   "skip_h1_title": false,
   "title_cell": "Table of Contents",
   "title_sidebar": "Contents",
   "toc_cell": false,
   "toc_position": {},
   "toc_section_display": true,
   "toc_window_display": false
  },
  "varInspector": {
   "cols": {
    "lenName": 16,
    "lenType": 16,
    "lenVar": 40
   },
   "kernels_config": {
    "python": {
     "delete_cmd_postfix": "",
     "delete_cmd_prefix": "del ",
     "library": "var_list.py",
     "varRefreshCmd": "print(var_dic_list())"
    },
    "r": {
     "delete_cmd_postfix": ") ",
     "delete_cmd_prefix": "rm(",
     "library": "var_list.r",
     "varRefreshCmd": "cat(var_dic_list()) "
    }
   },
   "types_to_exclude": [
    "module",
    "function",
    "builtin_function_or_method",
    "instance",
    "_Feature"
   ],
   "window_display": false
  }
 },
 "nbformat": 4,
 "nbformat_minor": 5
}
