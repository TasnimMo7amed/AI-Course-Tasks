{
 "cells": [
  {
   "cell_type": "code",
   "execution_count": 1,
   "id": "79557662",
   "metadata": {
    "ExecuteTime": {
     "end_time": "2022-03-31T09:11:49.025069Z",
     "start_time": "2022-03-31T09:11:49.000100Z"
    }
   },
   "outputs": [],
   "source": [
    "import TasnimLab"
   ]
  },
  {
   "cell_type": "code",
   "execution_count": 2,
   "id": "2273f9c2",
   "metadata": {
    "ExecuteTime": {
     "end_time": "2022-03-31T09:12:27.424985Z",
     "start_time": "2022-03-31T09:12:27.416002Z"
    }
   },
   "outputs": [
    {
     "data": {
      "text/plain": [
       "'piano'"
      ]
     },
     "execution_count": 2,
     "metadata": {},
     "output_type": "execute_result"
    }
   ],
   "source": [
    "TasnimLab.cleanword(\"pppppiaaaannnnoooooooo\")"
   ]
  },
  {
   "cell_type": "code",
   "execution_count": 3,
   "id": "7a129c4f",
   "metadata": {
    "ExecuteTime": {
     "end_time": "2022-03-31T09:13:01.533619Z",
     "start_time": "2022-03-31T09:13:01.521652Z"
    }
   },
   "outputs": [
    {
     "name": "stdout",
     "output_type": "stream",
     "text": [
      "Hello Tasnim M Karman\n"
     ]
    }
   ],
   "source": [
    "TasnimLab.Full_Name(\"Tasnim\",\"Mohamed\",\"Karman\")"
   ]
  },
  {
   "cell_type": "code",
   "execution_count": null,
   "id": "6a5a1d51",
   "metadata": {},
   "outputs": [],
   "source": []
  },
  {
   "cell_type": "code",
   "execution_count": 4,
   "id": "14763cc5",
   "metadata": {
    "ExecuteTime": {
     "end_time": "2022-03-31T09:14:15.469774Z",
     "start_time": "2022-03-31T09:14:15.458793Z"
    }
   },
   "outputs": [
    {
     "name": "stdout",
     "output_type": "stream",
     "text": [
      "Hello Tasnim your age is 24 you are from yenem you are An Engineer\n"
     ]
    }
   ],
   "source": [
    "TasnimLab.Personal_info(\"Tasnim\",24,\"yenem\",\"An Engineer\")"
   ]
  },
  {
   "cell_type": "code",
   "execution_count": 5,
   "id": "ef2f85fc",
   "metadata": {
    "ExecuteTime": {
     "end_time": "2022-03-31T09:16:18.443336Z",
     "start_time": "2022-03-31T09:16:18.431151Z"
    }
   },
   "outputs": [
    {
     "name": "stdout",
     "output_type": "stream",
     "text": [
      "Hello Tasnim,\n",
      " your skills are:\n",
      "-python\n",
      "-piano\n",
      "your skills with progress are:\n",
      "-solidwork=90%\n",
      "-EES=85%\n",
      "-Excel=75%\n"
     ]
    }
   ],
   "source": [
    "TasnimLab.Skills_progress(\"Tasnim\",\"python\",\"piano\",solidwork=\"90%\",EES=\"85%\",Excel='75%')"
   ]
  },
  {
   "cell_type": "code",
   "execution_count": 9,
   "id": "6aa3f93d",
   "metadata": {
    "ExecuteTime": {
     "end_time": "2022-03-31T09:28:21.436762Z",
     "start_time": "2022-03-31T09:24:35.613484Z"
    }
   },
   "outputs": [
    {
     "name": "stdout",
     "output_type": "stream",
     "text": [
      "add your website without https://tasnim.com\n",
      "website is added,3places left\n",
      "['http://tasnim.com']\n",
      "add your website without https://tasnim.edu\n",
      "website is added,2places left\n",
      "['http://tasnim.com', 'http://tasnim.edu']\n",
      "add your website without https://tasnim.org\n",
      "website is added,1places left\n",
      "['http://tasnim.com', 'http://tasnim.edu', 'http://tasnim.org']\n",
      "add your website without https://python.com\n",
      "website is added,0places left\n",
      "['http://tasnim.com', 'http://tasnim.edu', 'http://tasnim.org', 'http://python.com']\n",
      "BookMark is full you can not add any website\n",
      "printing the list of your Bookmarke\n",
      "http://python.com\n",
      "http://tasnim.com\n",
      "http://tasnim.edu\n",
      "http://tasnim.org\n"
     ]
    }
   ],
   "source": [
    "TasnimLab.BookMark(\"MyBM\")"
   ]
  },
  {
   "cell_type": "code",
   "execution_count": null,
   "id": "63d7b5e3",
   "metadata": {},
   "outputs": [],
   "source": []
  }
 ],
 "metadata": {
  "hide_input": false,
  "kernelspec": {
   "display_name": "Python 3 (ipykernel)",
   "language": "python",
   "name": "python3"
  },
  "language_info": {
   "codemirror_mode": {
    "name": "ipython",
    "version": 3
   },
   "file_extension": ".py",
   "mimetype": "text/x-python",
   "name": "python",
   "nbconvert_exporter": "python",
   "pygments_lexer": "ipython3",
   "version": "3.9.7"
  },
  "latex_envs": {
   "LaTeX_envs_menu_present": true,
   "autoclose": false,
   "autocomplete": true,
   "bibliofile": "biblio.bib",
   "cite_by": "apalike",
   "current_citInitial": 1,
   "eqLabelWithNumbers": true,
   "eqNumInitial": 1,
   "hotkeys": {
    "equation": "Ctrl-E",
    "itemize": "Ctrl-I"
   },
   "labels_anchors": false,
   "latex_user_defs": false,
   "report_style_numbering": false,
   "user_envs_cfg": false
  },
  "nbTranslate": {
   "displayLangs": [
    "*"
   ],
   "hotkey": "alt-t",
   "langInMainMenu": true,
   "sourceLang": "en",
   "targetLang": "fr",
   "useGoogleTranslate": true
  },
  "toc": {
   "base_numbering": 1,
   "nav_menu": {},
   "number_sections": true,
   "sideBar": true,
   "skip_h1_title": false,
   "title_cell": "Table of Contents",
   "title_sidebar": "Contents",
   "toc_cell": false,
   "toc_position": {},
   "toc_section_display": true,
   "toc_window_display": false
  },
  "varInspector": {
   "cols": {
    "lenName": 16,
    "lenType": 16,
    "lenVar": 40
   },
   "kernels_config": {
    "python": {
     "delete_cmd_postfix": "",
     "delete_cmd_prefix": "del ",
     "library": "var_list.py",
     "varRefreshCmd": "print(var_dic_list())"
    },
    "r": {
     "delete_cmd_postfix": ") ",
     "delete_cmd_prefix": "rm(",
     "library": "var_list.r",
     "varRefreshCmd": "cat(var_dic_list()) "
    }
   },
   "types_to_exclude": [
    "module",
    "function",
    "builtin_function_or_method",
    "instance",
    "_Feature"
   ],
   "window_display": false
  }
 },
 "nbformat": 4,
 "nbformat_minor": 5
}
