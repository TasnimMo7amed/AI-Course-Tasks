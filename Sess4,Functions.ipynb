{
 "cells": [
  {
   "cell_type": "code",
   "execution_count": 8,
   "id": "69e74af6",
   "metadata": {
    "ExecuteTime": {
     "end_time": "2022-03-24T15:43:03.431561Z",
     "start_time": "2022-03-24T15:43:03.425040Z"
    }
   },
   "outputs": [
    {
     "name": "stdout",
     "output_type": "stream",
     "text": [
      "Hi\n"
     ]
    }
   ],
   "source": [
    "#Ex1\n",
    "def printhi():\n",
    "    print(\"Hi\")\n",
    "printhi()"
   ]
  },
  {
   "cell_type": "code",
   "execution_count": 10,
   "id": "1893b6cf",
   "metadata": {
    "ExecuteTime": {
     "end_time": "2022-03-24T15:43:42.704014Z",
     "start_time": "2022-03-24T15:43:42.697044Z"
    }
   },
   "outputs": [
    {
     "name": "stdout",
     "output_type": "stream",
     "text": [
      "welcome Tasnim\n"
     ]
    }
   ],
   "source": [
    "#Ex2\n",
    "def welcomename(name):\n",
    "    print(\"welcome\",name)\n",
    "welcomename(\"Tasnim\")"
   ]
  },
  {
   "cell_type": "code",
   "execution_count": 1,
   "id": "050c18ef",
   "metadata": {
    "ExecuteTime": {
     "end_time": "2022-03-28T11:46:39.444665Z",
     "start_time": "2022-03-28T11:46:39.431689Z"
    }
   },
   "outputs": [
    {
     "name": "stdout",
     "output_type": "stream",
     "text": [
      "14\n"
     ]
    }
   ],
   "source": [
    "#Ex3\n",
    "def add(x,y):\n",
    "    print(x+y)\n",
    "add(5,9)"
   ]
  },
  {
   "cell_type": "code",
   "execution_count": 6,
   "id": "1caf06b8",
   "metadata": {
    "ExecuteTime": {
     "end_time": "2022-03-28T11:54:37.974523Z",
     "start_time": "2022-03-28T11:54:37.961489Z"
    }
   },
   "outputs": [
    {
     "data": {
      "text/plain": [
       "101"
      ]
     },
     "execution_count": 6,
     "metadata": {},
     "output_type": "execute_result"
    }
   ],
   "source": [
    "#Ex4\n",
    "l=[1,2,3,4,5,6,7,8,9,56]\n",
    "def arrsum(l):\n",
    "    arraysum=0\n",
    "    for i in l:\n",
    "        arraysum+=i\n",
    "    return arraysum\n",
    "arrsum(l)"
   ]
  },
  {
   "cell_type": "code",
   "execution_count": 12,
   "id": "6fd7ad16",
   "metadata": {
    "ExecuteTime": {
     "end_time": "2022-03-28T11:59:13.175904Z",
     "start_time": "2022-03-28T11:59:13.156775Z"
    }
   },
   "outputs": [
    {
     "data": {
      "text/plain": [
       "45"
      ]
     },
     "execution_count": 12,
     "metadata": {},
     "output_type": "execute_result"
    }
   ],
   "source": [
    "#Ex4\n",
    "l=[1,2,3,4,5,6,7,8,9,\"ALI\"]\n",
    "def arrsum(l):\n",
    "    arraysum=0\n",
    "    for i in l:\n",
    "        if type(i)!=str :\n",
    "            arraysum+=i\n",
    "    return arraysum\n",
    "arrsum(l)"
   ]
  },
  {
   "cell_type": "code",
   "execution_count": 15,
   "id": "8e1f9812",
   "metadata": {
    "ExecuteTime": {
     "end_time": "2022-03-28T12:02:31.509651Z",
     "start_time": "2022-03-28T12:02:31.501167Z"
    }
   },
   "outputs": [
    {
     "name": "stdout",
     "output_type": "stream",
     "text": [
      "yes\n",
      "no\n",
      "no\n"
     ]
    }
   ],
   "source": [
    "#Ex5\n",
    "def check(x,y):\n",
    "    if x>y:\n",
    "        print(\"yes\")\n",
    "    else:\n",
    "        print(\"no\")\n",
    "check(6,5)\n",
    "check(5,6)\n",
    "check(5,5)\n"
   ]
  },
  {
   "cell_type": "code",
   "execution_count": 16,
   "id": "8317b26d",
   "metadata": {
    "ExecuteTime": {
     "end_time": "2022-03-28T12:04:51.584611Z",
     "start_time": "2022-03-28T12:04:51.581593Z"
    }
   },
   "outputs": [
    {
     "name": "stdout",
     "output_type": "stream",
     "text": [
      "Ahmed\n"
     ]
    }
   ],
   "source": [
    "#Ex6\n",
    "def printAhmed():\n",
    "    print(\"Ahmed\")\n",
    "printAhmed()"
   ]
  },
  {
   "cell_type": "code",
   "execution_count": 18,
   "id": "a3a31ea3",
   "metadata": {
    "ExecuteTime": {
     "end_time": "2022-03-28T12:06:15.089467Z",
     "start_time": "2022-03-28T12:06:15.083448Z"
    }
   },
   "outputs": [
    {
     "data": {
      "text/plain": [
       "'Ahmed'"
      ]
     },
     "execution_count": 18,
     "metadata": {},
     "output_type": "execute_result"
    }
   ],
   "source": [
    "#Ex7\n",
    "def A():\n",
    "    return \"Ahmed\"\n",
    "A()"
   ]
  },
  {
   "cell_type": "code",
   "execution_count": 21,
   "id": "9d3c91c3",
   "metadata": {
    "ExecuteTime": {
     "end_time": "2022-03-28T12:10:31.413434Z",
     "start_time": "2022-03-28T12:10:31.402916Z"
    }
   },
   "outputs": [
    {
     "data": {
      "text/plain": [
       "300.0"
      ]
     },
     "execution_count": 21,
     "metadata": {},
     "output_type": "execute_result"
    }
   ],
   "source": [
    "#Ex8\n",
    "def calc_bounse(salary):\n",
    "    return salary/10\n",
    "calc_bounse(3000)"
   ]
  },
  {
   "cell_type": "code",
   "execution_count": 25,
   "id": "803812ce",
   "metadata": {
    "ExecuteTime": {
     "end_time": "2022-03-28T12:16:18.937350Z",
     "start_time": "2022-03-28T12:16:18.931366Z"
    }
   },
   "outputs": [
    {
     "name": "stdout",
     "output_type": "stream",
     "text": [
      "X\n"
     ]
    }
   ],
   "source": [
    "#Ex9\n",
    "def runfun(fun):\n",
    "    fun()\n",
    "def myfun():\n",
    "    print(\"X\")\n",
    "runfun(myfun)"
   ]
  },
  {
   "cell_type": "code",
   "execution_count": 33,
   "id": "0836c157",
   "metadata": {
    "ExecuteTime": {
     "end_time": "2022-03-28T12:28:49.120581Z",
     "start_time": "2022-03-28T12:28:21.841999Z"
    }
   },
   "outputs": [
    {
     "name": "stdout",
     "output_type": "stream",
     "text": [
      "Name\n",
      "tasnim\n",
      "age\n",
      "234\n",
      "0\n",
      "0\n",
      "{'Name': 'tasnim', 'age': '234'}\n"
     ]
    }
   ],
   "source": [
    "#Ex10\n",
    "mydict = dict()\n",
    "while True:\n",
    "    key = input()\n",
    "    value = input()\n",
    "    if key == \"0\" and value== \"0\":\n",
    "        break\n",
    "    else:\n",
    "        mydict[key] = value\n",
    "print(mydict)\n"
   ]
  },
  {
   "cell_type": "code",
   "execution_count": 47,
   "id": "4214b973",
   "metadata": {
    "ExecuteTime": {
     "end_time": "2022-03-28T12:40:36.176549Z",
     "start_time": "2022-03-28T12:40:02.217238Z"
    }
   },
   "outputs": [
    {
     "name": "stdout",
     "output_type": "stream",
     "text": [
      "first\n",
      "tasnim\n",
      "father\n",
      "moh\n",
      "last\n",
      "kar\n",
      "0\n",
      "0\n",
      "{'first': 'tasnim', 'father': 'moh', 'last': 'kar'}\n"
     ]
    }
   ],
   "source": [
    "#Ex11\n",
    "mydict = dict()\n",
    "def myd(mydict):\n",
    "    while True:\n",
    "        key = input()\n",
    "        value = input()\n",
    "        if key == \"0\" and value== \"0\":\n",
    "            break\n",
    "        else:\n",
    "            mydict[key] = value\n",
    "myd(mydict)\n",
    "print(mydict)"
   ]
  },
  {
   "cell_type": "code",
   "execution_count": 44,
   "id": "ad884099",
   "metadata": {
    "ExecuteTime": {
     "end_time": "2022-03-28T12:37:55.068560Z",
     "start_time": "2022-03-28T12:37:27.591457Z"
    }
   },
   "outputs": [
    {
     "name": "stdout",
     "output_type": "stream",
     "text": [
      "name\n",
      "tas\n",
      "father\n",
      "moh\n",
      "last\n",
      "kar\n",
      "0\n",
      "0\n"
     ]
    }
   ],
   "source": []
  },
  {
   "cell_type": "code",
   "execution_count": 63,
   "id": "27c8ef51",
   "metadata": {
    "ExecuteTime": {
     "end_time": "2022-03-28T12:52:28.625647Z",
     "start_time": "2022-03-28T12:52:28.609662Z"
    }
   },
   "outputs": [
    {
     "data": {
      "text/plain": [
       "'Ahmed'"
      ]
     },
     "execution_count": 63,
     "metadata": {},
     "output_type": "execute_result"
    }
   ],
   "source": [
    "#Ex12\n",
    "\n",
    "def bestplayers(l):\n",
    "    for i in l:\n",
    "        if i[0] == \"A\":\n",
    "            return i\n",
    "l=[\"Omar\",\"Salah\",\"Ahmed\"]\n",
    "bestplayer(l)"
   ]
  },
  {
   "cell_type": "code",
   "execution_count": 62,
   "id": "f92bb01a",
   "metadata": {
    "ExecuteTime": {
     "end_time": "2022-03-28T12:51:44.915849Z",
     "start_time": "2022-03-28T12:51:44.908393Z"
    }
   },
   "outputs": [
    {
     "data": {
      "text/plain": [
       "'Ahmed'"
      ]
     },
     "execution_count": 62,
     "metadata": {},
     "output_type": "execute_result"
    }
   ],
   "source": []
  },
  {
   "cell_type": "code",
   "execution_count": null,
   "id": "44be5560",
   "metadata": {},
   "outputs": [],
   "source": []
  }
 ],
 "metadata": {
  "hide_input": false,
  "kernelspec": {
   "display_name": "Python 3 (ipykernel)",
   "language": "python",
   "name": "python3"
  },
  "language_info": {
   "codemirror_mode": {
    "name": "ipython",
    "version": 3
   },
   "file_extension": ".py",
   "mimetype": "text/x-python",
   "name": "python",
   "nbconvert_exporter": "python",
   "pygments_lexer": "ipython3",
   "version": "3.9.7"
  },
  "latex_envs": {
   "LaTeX_envs_menu_present": true,
   "autoclose": false,
   "autocomplete": true,
   "bibliofile": "biblio.bib",
   "cite_by": "apalike",
   "current_citInitial": 1,
   "eqLabelWithNumbers": true,
   "eqNumInitial": 1,
   "hotkeys": {
    "equation": "Ctrl-E",
    "itemize": "Ctrl-I"
   },
   "labels_anchors": false,
   "latex_user_defs": false,
   "report_style_numbering": false,
   "user_envs_cfg": false
  },
  "nbTranslate": {
   "displayLangs": [
    "*"
   ],
   "hotkey": "alt-t",
   "langInMainMenu": true,
   "sourceLang": "en",
   "targetLang": "fr",
   "useGoogleTranslate": true
  },
  "toc": {
   "base_numbering": 1,
   "nav_menu": {},
   "number_sections": true,
   "sideBar": true,
   "skip_h1_title": false,
   "title_cell": "Table of Contents",
   "title_sidebar": "Contents",
   "toc_cell": false,
   "toc_position": {},
   "toc_section_display": true,
   "toc_window_display": false
  },
  "varInspector": {
   "cols": {
    "lenName": 16,
    "lenType": 16,
    "lenVar": 40
   },
   "kernels_config": {
    "python": {
     "delete_cmd_postfix": "",
     "delete_cmd_prefix": "del ",
     "library": "var_list.py",
     "varRefreshCmd": "print(var_dic_list())"
    },
    "r": {
     "delete_cmd_postfix": ") ",
     "delete_cmd_prefix": "rm(",
     "library": "var_list.r",
     "varRefreshCmd": "cat(var_dic_list()) "
    }
   },
   "types_to_exclude": [
    "module",
    "function",
    "builtin_function_or_method",
    "instance",
    "_Feature"
   ],
   "window_display": false
  }
 },
 "nbformat": 4,
 "nbformat_minor": 5
}
