{
 "cells": [
  {
   "cell_type": "code",
   "execution_count": 1,
   "id": "5c0bd0a0",
   "metadata": {
    "ExecuteTime": {
     "end_time": "2022-08-23T10:33:02.677310Z",
     "start_time": "2022-08-23T10:33:02.353545Z"
    }
   },
   "outputs": [],
   "source": [
    "import pandas as pd"
   ]
  },
  {
   "cell_type": "code",
   "execution_count": 2,
   "id": "c164bec8",
   "metadata": {
    "ExecuteTime": {
     "end_time": "2022-08-23T10:33:03.095715Z",
     "start_time": "2022-08-23T10:33:02.979503Z"
    },
    "scrolled": true
   },
   "outputs": [
    {
     "data": {
      "text/html": [
       "<div>\n",
       "<style scoped>\n",
       "    .dataframe tbody tr th:only-of-type {\n",
       "        vertical-align: middle;\n",
       "    }\n",
       "\n",
       "    .dataframe tbody tr th {\n",
       "        vertical-align: top;\n",
       "    }\n",
       "\n",
       "    .dataframe thead th {\n",
       "        text-align: right;\n",
       "    }\n",
       "</style>\n",
       "<table border=\"1\" class=\"dataframe\">\n",
       "  <thead>\n",
       "    <tr style=\"text-align: right;\">\n",
       "      <th></th>\n",
       "      <th>Manufacturer</th>\n",
       "      <th>Price</th>\n",
       "      <th>Levy</th>\n",
       "      <th>Unnamed: 3</th>\n",
       "      <th>Model</th>\n",
       "      <th>Prod. year</th>\n",
       "      <th>Category</th>\n",
       "      <th>Leather interior</th>\n",
       "      <th>Fuel type</th>\n",
       "      <th>Engine volume</th>\n",
       "      <th>Mileage</th>\n",
       "      <th>Cylinders</th>\n",
       "      <th>Gear box type</th>\n",
       "      <th>Drive wheels</th>\n",
       "      <th>Doors</th>\n",
       "      <th>Wheel</th>\n",
       "      <th>Color</th>\n",
       "      <th>Airbags</th>\n",
       "    </tr>\n",
       "  </thead>\n",
       "  <tbody>\n",
       "    <tr>\n",
       "      <th>0</th>\n",
       "      <td>ACURA</td>\n",
       "      <td>314</td>\n",
       "      <td>1399</td>\n",
       "      <td>NaN</td>\n",
       "      <td>TL</td>\n",
       "      <td>2010</td>\n",
       "      <td>Sedan</td>\n",
       "      <td>Yes</td>\n",
       "      <td>Petrol</td>\n",
       "      <td>3.5</td>\n",
       "      <td>162453km</td>\n",
       "      <td>6</td>\n",
       "      <td>Automatic</td>\n",
       "      <td>Front</td>\n",
       "      <td>4-May</td>\n",
       "      <td>Left wheel</td>\n",
       "      <td>Silver</td>\n",
       "      <td>12</td>\n",
       "    </tr>\n",
       "    <tr>\n",
       "      <th>1</th>\n",
       "      <td>ACURA</td>\n",
       "      <td>3450</td>\n",
       "      <td>900</td>\n",
       "      <td>NaN</td>\n",
       "      <td>TLX</td>\n",
       "      <td>2015</td>\n",
       "      <td>Sedan</td>\n",
       "      <td>Yes</td>\n",
       "      <td>Petrol</td>\n",
       "      <td>2.4</td>\n",
       "      <td>83099km</td>\n",
       "      <td>4</td>\n",
       "      <td>Automatic</td>\n",
       "      <td>Front</td>\n",
       "      <td>4-May</td>\n",
       "      <td>Left wheel</td>\n",
       "      <td>Black</td>\n",
       "      <td>12</td>\n",
       "    </tr>\n",
       "    <tr>\n",
       "      <th>2</th>\n",
       "      <td>ACURA</td>\n",
       "      <td>10349</td>\n",
       "      <td>1273</td>\n",
       "      <td>NaN</td>\n",
       "      <td>TLX</td>\n",
       "      <td>2015</td>\n",
       "      <td>Sedan</td>\n",
       "      <td>Yes</td>\n",
       "      <td>Petrol</td>\n",
       "      <td>3.5</td>\n",
       "      <td>70562km</td>\n",
       "      <td>6</td>\n",
       "      <td>Automatic</td>\n",
       "      <td>4x4</td>\n",
       "      <td>4-May</td>\n",
       "      <td>Left wheel</td>\n",
       "      <td>White</td>\n",
       "      <td>12</td>\n",
       "    </tr>\n",
       "    <tr>\n",
       "      <th>3</th>\n",
       "      <td>ACURA</td>\n",
       "      <td>282</td>\n",
       "      <td>1273</td>\n",
       "      <td>NaN</td>\n",
       "      <td>RDX</td>\n",
       "      <td>2015</td>\n",
       "      <td>Jeep</td>\n",
       "      <td>Yes</td>\n",
       "      <td>Petrol</td>\n",
       "      <td>3.5</td>\n",
       "      <td>0km</td>\n",
       "      <td>6</td>\n",
       "      <td>Automatic</td>\n",
       "      <td>4x4</td>\n",
       "      <td>4-May</td>\n",
       "      <td>Left wheel</td>\n",
       "      <td>Blue</td>\n",
       "      <td>12</td>\n",
       "    </tr>\n",
       "    <tr>\n",
       "      <th>4</th>\n",
       "      <td>ACURA</td>\n",
       "      <td>2979</td>\n",
       "      <td>986</td>\n",
       "      <td>NaN</td>\n",
       "      <td>TSX</td>\n",
       "      <td>2010</td>\n",
       "      <td>Sedan</td>\n",
       "      <td>Yes</td>\n",
       "      <td>Petrol</td>\n",
       "      <td>2.4</td>\n",
       "      <td>203061km</td>\n",
       "      <td>4</td>\n",
       "      <td>Automatic</td>\n",
       "      <td>Front</td>\n",
       "      <td>4-May</td>\n",
       "      <td>Left wheel</td>\n",
       "      <td>Blue</td>\n",
       "      <td>12</td>\n",
       "    </tr>\n",
       "    <tr>\n",
       "      <th>...</th>\n",
       "      <td>...</td>\n",
       "      <td>...</td>\n",
       "      <td>...</td>\n",
       "      <td>...</td>\n",
       "      <td>...</td>\n",
       "      <td>...</td>\n",
       "      <td>...</td>\n",
       "      <td>...</td>\n",
       "      <td>...</td>\n",
       "      <td>...</td>\n",
       "      <td>...</td>\n",
       "      <td>...</td>\n",
       "      <td>...</td>\n",
       "      <td>...</td>\n",
       "      <td>...</td>\n",
       "      <td>...</td>\n",
       "      <td>...</td>\n",
       "      <td>...</td>\n",
       "    </tr>\n",
       "    <tr>\n",
       "      <th>19230</th>\n",
       "      <td>VOLVO</td>\n",
       "      <td>2500</td>\n",
       "      <td>-</td>\n",
       "      <td>NaN</td>\n",
       "      <td>940</td>\n",
       "      <td>1993</td>\n",
       "      <td>Sedan</td>\n",
       "      <td>No</td>\n",
       "      <td>CNG</td>\n",
       "      <td>2.3</td>\n",
       "      <td>111111km</td>\n",
       "      <td>4</td>\n",
       "      <td>Manual</td>\n",
       "      <td>Rear</td>\n",
       "      <td>4-May</td>\n",
       "      <td>Left wheel</td>\n",
       "      <td>Green</td>\n",
       "      <td>0</td>\n",
       "    </tr>\n",
       "    <tr>\n",
       "      <th>19231</th>\n",
       "      <td>VOLVO</td>\n",
       "      <td>11604</td>\n",
       "      <td>-</td>\n",
       "      <td>NaN</td>\n",
       "      <td>XC90 2.5turbo</td>\n",
       "      <td>2006</td>\n",
       "      <td>Jeep</td>\n",
       "      <td>Yes</td>\n",
       "      <td>Petrol</td>\n",
       "      <td>2.5</td>\n",
       "      <td>170000km</td>\n",
       "      <td>6</td>\n",
       "      <td>Tiptronic</td>\n",
       "      <td>Front</td>\n",
       "      <td>4-May</td>\n",
       "      <td>Left wheel</td>\n",
       "      <td>Silver</td>\n",
       "      <td>12</td>\n",
       "    </tr>\n",
       "    <tr>\n",
       "      <th>19232</th>\n",
       "      <td>VOLVO</td>\n",
       "      <td>4500</td>\n",
       "      <td>-</td>\n",
       "      <td>NaN</td>\n",
       "      <td>S70</td>\n",
       "      <td>1998</td>\n",
       "      <td>Sedan</td>\n",
       "      <td>No</td>\n",
       "      <td>Petrol</td>\n",
       "      <td>2.4</td>\n",
       "      <td>0km</td>\n",
       "      <td>5</td>\n",
       "      <td>Automatic</td>\n",
       "      <td>Front</td>\n",
       "      <td>4-May</td>\n",
       "      <td>Left wheel</td>\n",
       "      <td>Red</td>\n",
       "      <td>4</td>\n",
       "    </tr>\n",
       "    <tr>\n",
       "      <th>19233</th>\n",
       "      <td>ZAZ</td>\n",
       "      <td>2000</td>\n",
       "      <td>-</td>\n",
       "      <td>NaN</td>\n",
       "      <td>969 968m</td>\n",
       "      <td>1989</td>\n",
       "      <td>Coupe</td>\n",
       "      <td>No</td>\n",
       "      <td>Petrol</td>\n",
       "      <td>0.8</td>\n",
       "      <td>201000km</td>\n",
       "      <td>3</td>\n",
       "      <td>Manual</td>\n",
       "      <td>Front</td>\n",
       "      <td>2-Mar</td>\n",
       "      <td>Left wheel</td>\n",
       "      <td>Blue</td>\n",
       "      <td>0</td>\n",
       "    </tr>\n",
       "    <tr>\n",
       "      <th>19234</th>\n",
       "      <td>ZAZ</td>\n",
       "      <td>5645</td>\n",
       "      <td>-</td>\n",
       "      <td>NaN</td>\n",
       "      <td>969 luaz</td>\n",
       "      <td>1990</td>\n",
       "      <td>Jeep</td>\n",
       "      <td>Yes</td>\n",
       "      <td>Petrol</td>\n",
       "      <td>0.9</td>\n",
       "      <td>64525km</td>\n",
       "      <td>4</td>\n",
       "      <td>Manual</td>\n",
       "      <td>4x4</td>\n",
       "      <td>2-Mar</td>\n",
       "      <td>Left wheel</td>\n",
       "      <td>Green</td>\n",
       "      <td>0</td>\n",
       "    </tr>\n",
       "  </tbody>\n",
       "</table>\n",
       "<p>19235 rows × 18 columns</p>\n",
       "</div>"
      ],
      "text/plain": [
       "      Manufacturer  Price  Levy  Unnamed: 3          Model  Prod. year  \\\n",
       "0            ACURA    314  1399         NaN             TL        2010   \n",
       "1            ACURA   3450   900         NaN            TLX        2015   \n",
       "2            ACURA  10349  1273         NaN            TLX        2015   \n",
       "3            ACURA    282  1273         NaN            RDX        2015   \n",
       "4            ACURA   2979   986         NaN            TSX        2010   \n",
       "...            ...    ...   ...         ...            ...         ...   \n",
       "19230        VOLVO   2500     -         NaN            940        1993   \n",
       "19231        VOLVO  11604     -         NaN  XC90 2.5turbo        2006   \n",
       "19232        VOLVO   4500     -         NaN            S70        1998   \n",
       "19233          ZAZ   2000     -         NaN       969 968m        1989   \n",
       "19234          ZAZ   5645     -         NaN       969 luaz        1990   \n",
       "\n",
       "      Category Leather interior Fuel type Engine volume   Mileage  Cylinders  \\\n",
       "0        Sedan              Yes    Petrol           3.5  162453km          6   \n",
       "1        Sedan              Yes    Petrol           2.4   83099km          4   \n",
       "2        Sedan              Yes    Petrol           3.5   70562km          6   \n",
       "3         Jeep              Yes    Petrol           3.5       0km          6   \n",
       "4        Sedan              Yes    Petrol           2.4  203061km          4   \n",
       "...        ...              ...       ...           ...       ...        ...   \n",
       "19230    Sedan               No       CNG           2.3  111111km          4   \n",
       "19231     Jeep              Yes    Petrol           2.5  170000km          6   \n",
       "19232    Sedan               No    Petrol           2.4       0km          5   \n",
       "19233    Coupe               No    Petrol           0.8  201000km          3   \n",
       "19234     Jeep              Yes    Petrol           0.9   64525km          4   \n",
       "\n",
       "      Gear box type Drive wheels  Doors       Wheel   Color  Airbags  \n",
       "0         Automatic        Front  4-May  Left wheel  Silver       12  \n",
       "1         Automatic        Front  4-May  Left wheel   Black       12  \n",
       "2         Automatic          4x4  4-May  Left wheel   White       12  \n",
       "3         Automatic          4x4  4-May  Left wheel    Blue       12  \n",
       "4         Automatic        Front  4-May  Left wheel    Blue       12  \n",
       "...             ...          ...    ...         ...     ...      ...  \n",
       "19230        Manual         Rear  4-May  Left wheel   Green        0  \n",
       "19231     Tiptronic        Front  4-May  Left wheel  Silver       12  \n",
       "19232     Automatic        Front  4-May  Left wheel     Red        4  \n",
       "19233        Manual        Front  2-Mar  Left wheel    Blue        0  \n",
       "19234        Manual          4x4  2-Mar  Left wheel   Green        0  \n",
       "\n",
       "[19235 rows x 18 columns]"
      ]
     },
     "execution_count": 2,
     "metadata": {},
     "output_type": "execute_result"
    }
   ],
   "source": [
    "df = pd.read_csv(\"D:/AI-Course/Py.Prac/car_price_prediction.csv\")\n",
    "df"
   ]
  },
  {
   "cell_type": "markdown",
   "id": "df6eedab",
   "metadata": {},
   "source": [
    "# Data Cleaning"
   ]
  },
  {
   "cell_type": "code",
   "execution_count": 3,
   "id": "13d5b2a9",
   "metadata": {
    "ExecuteTime": {
     "end_time": "2022-08-23T10:33:06.449719Z",
     "start_time": "2022-08-23T10:33:06.439262Z"
    }
   },
   "outputs": [],
   "source": [
    "df.rename(columns = {'Gear box type':'GearBoxType'}, inplace = True)"
   ]
  },
  {
   "cell_type": "code",
   "execution_count": 4,
   "id": "a868f30a",
   "metadata": {
    "ExecuteTime": {
     "end_time": "2022-08-23T10:33:07.121831Z",
     "start_time": "2022-08-23T10:33:07.107662Z"
    }
   },
   "outputs": [],
   "source": [
    "df.rename(columns = {'Fuel type':'FuelType'}, inplace = True)"
   ]
  },
  {
   "cell_type": "code",
   "execution_count": 5,
   "id": "e2c055fd",
   "metadata": {
    "ExecuteTime": {
     "end_time": "2022-08-23T10:33:07.730945Z",
     "start_time": "2022-08-23T10:33:07.714921Z"
    }
   },
   "outputs": [],
   "source": [
    "df.rename(columns = {'Drive wheels':'Drivewheels'}, inplace = True)"
   ]
  },
  {
   "cell_type": "code",
   "execution_count": 6,
   "id": "0d57143a",
   "metadata": {
    "ExecuteTime": {
     "end_time": "2022-08-23T10:33:08.371369Z",
     "start_time": "2022-08-23T10:33:08.356398Z"
    }
   },
   "outputs": [],
   "source": [
    "df.rename(columns = {'Leather interior':'Leatherinterior'}, inplace = True)"
   ]
  },
  {
   "cell_type": "code",
   "execution_count": 7,
   "id": "78350176",
   "metadata": {
    "ExecuteTime": {
     "end_time": "2022-08-23T10:33:09.298479Z",
     "start_time": "2022-08-23T10:33:09.285486Z"
    }
   },
   "outputs": [
    {
     "data": {
      "text/plain": [
       "array(['Automatic', 'Tiptronic', 'Manual', 'Variator'], dtype=object)"
      ]
     },
     "execution_count": 7,
     "metadata": {},
     "output_type": "execute_result"
    }
   ],
   "source": [
    "df['GearBoxType'].unique()"
   ]
  },
  {
   "cell_type": "code",
   "execution_count": 8,
   "id": "f23c771c",
   "metadata": {
    "ExecuteTime": {
     "end_time": "2022-08-23T10:33:09.940182Z",
     "start_time": "2022-08-23T10:33:09.924352Z"
    }
   },
   "outputs": [
    {
     "data": {
      "text/plain": [
       "0        1\n",
       "1        1\n",
       "2        1\n",
       "3        1\n",
       "4        1\n",
       "        ..\n",
       "19230    2\n",
       "19231    3\n",
       "19232    1\n",
       "19233    2\n",
       "19234    2\n",
       "Name: GearBoxType, Length: 19235, dtype: int64"
      ]
     },
     "execution_count": 8,
     "metadata": {},
     "output_type": "execute_result"
    }
   ],
   "source": [
    "df.GearBoxType = df.GearBoxType.map({'Automatic': 1, 'Manual': 2,'Tiptronic':3,'Variator':4})\n",
    "df.GearBoxType"
   ]
  },
  {
   "cell_type": "code",
   "execution_count": 9,
   "id": "b0e6548e",
   "metadata": {
    "ExecuteTime": {
     "end_time": "2022-08-23T10:33:10.553355Z",
     "start_time": "2022-08-23T10:33:10.541824Z"
    }
   },
   "outputs": [
    {
     "data": {
      "text/plain": [
       "array(['1399', '900', '1273', '986', '1113', '1473', '1053', '753',\n",
       "       '1234', '-', '1104', '639', '915', '917', '1286', '1017', '891',\n",
       "       '640', '707', '1292', '642', '1018', '1190', '1575', '919', '1481',\n",
       "       '1079', '1661', '836', '975', '1699', '1946', '1252', '328',\n",
       "       '1694', '3208', '2819', '2078', '1451', '1301', '1172', '1211',\n",
       "       '2177', '765', '1308', '481', '2195', '4508', '1304', '3292',\n",
       "       '1578', '1405', '2469', '431', '1885', '1680', '2606', '5908',\n",
       "       '1685', '173', '862', '2269', '1888', '1598', '1077', '3894',\n",
       "       '1736', '1529', '505', '1036', '3743', '1823', '1317', '2505',\n",
       "       '2467', '1369', '1681', '1436', '751', '749', '562', '1325',\n",
       "       '1297', '780', '1869', '738', '831', '650', '1807', '1083', '1307',\n",
       "       '1086', '779', '1091', '781', '769', '760', '473', '259', '475',\n",
       "       '1730', '1282', '777', '645', '1090', '761', '880', '531', '641',\n",
       "       '730', '565', '833', '489', '382', '474', '551', '690', '584',\n",
       "       '697', '1203', '729', '460', '876', '2410', '789', '790', '586',\n",
       "       '1288', '583', '1095', '363', '521', '627', '400', '1249', '694',\n",
       "       '687', '784', '530', '2578', '1187', '830', '426', '961', '617',\n",
       "       '585', '1016', '1285', '1080', '764', '364', '695', '294', '424',\n",
       "       '1515', '397', '890', '614', '1872', '686', '696', '1051', '362',\n",
       "       '810', '966', '419', '2711', '488', '827', '1553', '843', '1533',\n",
       "       '2073', '442', '2715', '638', '748', '644', '629', '731', '2216',\n",
       "       '418', '528', '965', '750', '878', '1408', '934', '612', '462',\n",
       "       '828', '702', '636', '1202', '345', '552', '1866', '1094', '928',\n",
       "       '420', '1901', '2476', '1760', '1968', '1324', '1047', '1599',\n",
       "       '922', '692', '2736', '1935', '1668', '2377', '2002', '2658',\n",
       "       '1855', '2705', '2913', '1482', '3015', '867', '1039', '1185',\n",
       "       '1156', '289', '333', '1998', '1677', '1024', '557', '1528', '949',\n",
       "       '502', '1714', '501', '1995', '1011', '1493', '1195', '595',\n",
       "       '1228', '1468', '1246', '1346', '1055', '3739', '722', '3329',\n",
       "       '1108', '3008', '994', '1620', '1342', '1058', '866', '1466',\n",
       "       '1341', '1996', '1426', '3273', '1141', '1296', '2084', '1505',\n",
       "       '1991', '1673', '879', '2562', '2874', '800', '1586', '2566',\n",
       "       '3184', '1347', '1678', '1675', '3965', '308', '1759', '1474',\n",
       "       '2080', '1327', '3156', '3268', '1948', '3910', '446', '1486',\n",
       "       '1111', '503', '447', '247', '574', '271', '1266', '1236', '490',\n",
       "       '924', '448', '649', '691', '609', '1268', '2265', '658', '2670',\n",
       "       '2266', '1974', '2209', '1413', '399', '742', '1552', '732',\n",
       "       '1701', '527', '1275', '1368', '1279', '4283', '279', '1820',\n",
       "       '1109', '1267', '1110', '1993', '3112', '2308', '2386', '893',\n",
       "       '1277', '930', '1511', '877', '770', '911', '1076', '1178', '971',\n",
       "       '1138', '5603', '441', '1375', '1537', '87', '1756', '663', '997',\n",
       "       '2188', '1174', '1514', '1176', '1099', '3141', '1621', '1205',\n",
       "       '988', '1750', '1503', '1723', '2690', '3989', '2337', '1641',\n",
       "       '1781', '1470', '1960', '2472', '3301', '970', '859', '955',\n",
       "       '3025', '864', '1671', '1171', '1361', '461', '1103', '723',\n",
       "       '2108', '706', '889', '425', '626', '741', '526', '421', '916',\n",
       "       '683', '402', '524', '1829', '623', '822', '637', '1345', '870',\n",
       "       '2067', '1850', '2455', '1811', '1646', '603', '353', '1363',\n",
       "       '1360', '2151', '394', '2056', '456', '2225', '1356', '607', '518',\n",
       "       '1664', '579', '3505', '1624', '517', '2364', '1817', '1502',\n",
       "       '2223', '1816', '2236', '1030', '1031', '2123', '1604', '11714',\n",
       "       '2148', '798', '1793', '1841', '666', '1848', '2858', '2971',\n",
       "       '2297', '1951', '1834', '1054', '1832', '5332', '1768', '1384',\n",
       "       '1975', '1525', '3057', '5877', '1917', '1516', '2004', '1391',\n",
       "       '668', '1572', '3518', '2156', '5679', '4057', '2570', '2418',\n",
       "       '1924', '1836', '2070', '3571', '1387', '1590', '11706', '4860',\n",
       "       '1719', '874', '682', '993', '875', '873', '1716', '7536', '841',\n",
       "       '5681', '494', '2866', '1197', '1488', '1032', '2421', '980',\n",
       "       '1148', '2908', '967', '1588', '115', '1659', '1662', '978',\n",
       "       '1522', '1357', '1438', '724', '1440', '1411', '1118', '1452',\n",
       "       '944', '799', '1107', '834', '1442', '1437', '1062', '1518',\n",
       "       '1272', '1441', '792', '1366', '3811', '1365', '1045', '1028',\n",
       "       '604', '2628', '1132', '746', '1705', '1708', '7058', '2082',\n",
       "       '4736', '2054', '681', '1194', '1323', '463', '2959', '2018',\n",
       "       '1845', '7063', '1539', '2278', '832', '5666', '175', '714',\n",
       "       '1163', '605', '2909', '3699', '1198', '556', '155', '1688', '167',\n",
       "       '676', '1064', '4741', '1531', '972', '2000'], dtype=object)"
      ]
     },
     "execution_count": 9,
     "metadata": {},
     "output_type": "execute_result"
    }
   ],
   "source": [
    "df['Levy'].unique()"
   ]
  },
  {
   "cell_type": "code",
   "execution_count": 10,
   "id": "e8071bc6",
   "metadata": {
    "ExecuteTime": {
     "end_time": "2022-08-23T10:33:11.385626Z",
     "start_time": "2022-08-23T10:33:11.364763Z"
    }
   },
   "outputs": [
    {
     "data": {
      "text/plain": [
       "array(['ACURA', 'ALFA ROMEO', 'ASTON MARTIN', 'AUDI', 'BENTLEY', 'BMW',\n",
       "       'BUICK', 'CADILLAC', 'CHEVROLET', 'CHRYSLER', 'CITROEN', 'DAEWOO',\n",
       "       'DAIHATSU', 'DODGE', 'FERRARI', 'FIAT', 'FORD', 'GAZ', 'GMC',\n",
       "       'GREATWALL', 'HAVAL', 'HONDA', 'HUMMER', 'HYUNDAI', 'INFINITI',\n",
       "       'ISUZU', 'JAGUAR', 'JEEP', 'KIA', 'LAMBORGHINI', 'LANCIA',\n",
       "       'LAND ROVER', 'LEXUS', 'LINCOLN', 'MASERATI', 'MAZDA',\n",
       "       'MERCEDES-BENZ', 'MERCURY', 'MINI', 'MITSUBISHI', 'MOSKVICH',\n",
       "       'NISSAN', 'OPEL', 'PEUGEOT', 'PONTIAC', 'PORSCHE', 'RENAULT',\n",
       "       'ROLLS-ROYCE', 'ROVER', 'SAAB', 'SATURN', 'SCION', 'SEAT', 'SKODA',\n",
       "       'SSANGYONG', 'SUBARU', 'SUZUKI', 'TESLA', 'TOYOTA', 'UAZ', 'VAZ',\n",
       "       'VOLKSWAGEN', 'VOLVO', 'ZAZ'], dtype=object)"
      ]
     },
     "execution_count": 10,
     "metadata": {},
     "output_type": "execute_result"
    }
   ],
   "source": [
    "df.Manufacturer.unique()"
   ]
  },
  {
   "cell_type": "code",
   "execution_count": 11,
   "id": "ee342a35",
   "metadata": {
    "ExecuteTime": {
     "end_time": "2022-08-23T10:33:12.105332Z",
     "start_time": "2022-08-23T10:33:12.080358Z"
    }
   },
   "outputs": [
    {
     "data": {
      "text/plain": [
       "0         1\n",
       "1         1\n",
       "2         1\n",
       "3         1\n",
       "4         1\n",
       "         ..\n",
       "19230    62\n",
       "19231    62\n",
       "19232    62\n",
       "19233    63\n",
       "19234    63\n",
       "Name: Manufacturer, Length: 19235, dtype: int64"
      ]
     },
     "execution_count": 11,
     "metadata": {},
     "output_type": "execute_result"
    }
   ],
   "source": [
    "df.Manufacturer=df.Manufacturer.map({'ACURA':1,'ALFA ROMEO':2,'ASTON MARTIN':3,'AUDI':4,'BENTLEY':4,'BMW':5,\n",
    "       'BUICK':6,'CADILLAC':7, 'CHEVROLET':8, 'CHRYSLER':9, 'CITROEN':10, 'DAEWOO':11,\n",
    "       'DAIHATSU':12, 'DODGE':13, 'FERRARI':14, 'FIAT':15, 'FORD':16, 'GAZ':17, 'GMC':18,\n",
    "       'GREATWALL':19, 'HAVAL':20, 'HONDA':21, 'HUMMER':22, 'HYUNDAI':23, 'INFINITI':24,\n",
    "       'ISUZU':25, 'JAGUAR':26, 'JEEP':27, 'KIA':28, 'LAMBORGHINI':29, 'LANCIA':30,\n",
    "       'LAND ROVER':31, 'LEXUS':32, 'LINCOLN':33, 'MASERATI':34, 'MAZDA':35,\n",
    "       'MERCEDES-BENZ':36, 'MERCURY':37, 'MINI':38, 'MITSUBISHI':39, 'MOSKVICH':40,\n",
    "       'NISSAN':41, 'OPEL':42, 'PEUGEOT':43, 'PONTIAC':44, 'PORSCHE':45, 'RENAULT':46,\n",
    "       'ROLLS-ROYCE':47, 'ROVER':48, 'SAAB':49, 'SATURN':50, 'SCION':51, 'SEAT':52, 'SKODA':53,\n",
    "       'SSANGYONG':54, 'SUBARU':55, 'SUZUKI':56, 'TESLA':57, 'TOYOTA':58, 'UAZ':59, 'VAZ':60,\n",
    "       'VOLKSWAGEN':61, 'VOLVO':62, 'ZAZ':63})\n",
    "df.Manufacturer"
   ]
  },
  {
   "cell_type": "code",
   "execution_count": 12,
   "id": "91aabc8f",
   "metadata": {
    "ExecuteTime": {
     "end_time": "2022-08-23T10:33:13.045412Z",
     "start_time": "2022-08-23T10:33:13.024934Z"
    }
   },
   "outputs": [
    {
     "data": {
      "text/plain": [
       "array(['Sedan', 'Jeep', 'Coupe', 'Hatchback', 'Universal', 'Cabriolet',\n",
       "       'Limousine', 'Goods wagon', 'Minivan', 'Pickup', 'Microbus'],\n",
       "      dtype=object)"
      ]
     },
     "execution_count": 12,
     "metadata": {},
     "output_type": "execute_result"
    }
   ],
   "source": [
    "df['Category'].unique()"
   ]
  },
  {
   "cell_type": "code",
   "execution_count": 13,
   "id": "8d94693c",
   "metadata": {
    "ExecuteTime": {
     "end_time": "2022-08-23T10:33:13.850141Z",
     "start_time": "2022-08-23T10:33:13.831338Z"
    }
   },
   "outputs": [
    {
     "data": {
      "text/plain": [
       "0        1\n",
       "1        1\n",
       "2        1\n",
       "3        2\n",
       "4        1\n",
       "        ..\n",
       "19230    1\n",
       "19231    2\n",
       "19232    1\n",
       "19233    5\n",
       "19234    2\n",
       "Name: Category, Length: 19235, dtype: int64"
      ]
     },
     "execution_count": 13,
     "metadata": {},
     "output_type": "execute_result"
    }
   ],
   "source": [
    "df.Category = df.Category.map({'Sedan':1,'Jeep':2,'Hatchback':3,'Minivan':4,'Coupe':5,'Universal':6,'Microbus':7,'Goods wagon':8,'Pickup':9,'Cabriolet':10,'Limousine':11})\n",
    "df.Category"
   ]
  },
  {
   "cell_type": "code",
   "execution_count": 14,
   "id": "73d37099",
   "metadata": {
    "ExecuteTime": {
     "end_time": "2022-08-23T10:33:14.625115Z",
     "start_time": "2022-08-23T10:33:14.611117Z"
    },
    "scrolled": true
   },
   "outputs": [
    {
     "data": {
      "text/plain": [
       "array(['Petrol', 'Hybrid', 'Diesel', 'CNG', 'LPG', 'Plug-in Hybrid',\n",
       "       'Hydrogen'], dtype=object)"
      ]
     },
     "execution_count": 14,
     "metadata": {},
     "output_type": "execute_result"
    }
   ],
   "source": [
    "df['FuelType'].unique()"
   ]
  },
  {
   "cell_type": "code",
   "execution_count": 15,
   "id": "82440007",
   "metadata": {
    "ExecuteTime": {
     "end_time": "2022-08-23T10:33:15.419507Z",
     "start_time": "2022-08-23T10:33:15.399434Z"
    }
   },
   "outputs": [
    {
     "data": {
      "text/plain": [
       "0        1\n",
       "1        1\n",
       "2        1\n",
       "3        1\n",
       "4        1\n",
       "        ..\n",
       "19230    5\n",
       "19231    1\n",
       "19232    1\n",
       "19233    1\n",
       "19234    1\n",
       "Name: FuelType, Length: 19235, dtype: int64"
      ]
     },
     "execution_count": 15,
     "metadata": {},
     "output_type": "execute_result"
    }
   ],
   "source": [
    "df.FuelType = df.FuelType.map({'Petrol':1,'Diesel':2,'Hybrid':3,'LPG':4,'CNG':5,'Plug-in Hybrid':6,'Hydrogen':7})\n",
    "df.FuelType"
   ]
  },
  {
   "cell_type": "code",
   "execution_count": 16,
   "id": "4f8228a5",
   "metadata": {
    "ExecuteTime": {
     "end_time": "2022-08-23T10:33:16.071255Z",
     "start_time": "2022-08-23T10:33:16.055969Z"
    }
   },
   "outputs": [
    {
     "data": {
      "text/plain": [
       "array(['Front', '4x4', 'Rear'], dtype=object)"
      ]
     },
     "execution_count": 16,
     "metadata": {},
     "output_type": "execute_result"
    }
   ],
   "source": [
    "df['Drivewheels'].unique()"
   ]
  },
  {
   "cell_type": "code",
   "execution_count": 17,
   "id": "89351456",
   "metadata": {
    "ExecuteTime": {
     "end_time": "2022-08-23T10:33:16.978209Z",
     "start_time": "2022-08-23T10:33:16.958235Z"
    }
   },
   "outputs": [
    {
     "data": {
      "text/plain": [
       "0        1\n",
       "1        1\n",
       "2        2\n",
       "3        2\n",
       "4        1\n",
       "        ..\n",
       "19230    3\n",
       "19231    1\n",
       "19232    1\n",
       "19233    1\n",
       "19234    2\n",
       "Name: Drivewheels, Length: 19235, dtype: int64"
      ]
     },
     "execution_count": 17,
     "metadata": {},
     "output_type": "execute_result"
    }
   ],
   "source": [
    "df.Drivewheels = df.Drivewheels.map({'Front':1,'4x4':2,'Rear':3})\n",
    "df.Drivewheels"
   ]
  },
  {
   "cell_type": "code",
   "execution_count": 18,
   "id": "9340c39c",
   "metadata": {
    "ExecuteTime": {
     "end_time": "2022-08-23T10:33:17.783077Z",
     "start_time": "2022-08-23T10:33:17.764894Z"
    }
   },
   "outputs": [
    {
     "data": {
      "text/plain": [
       "array(['4-May', '2-Mar', '>5'], dtype=object)"
      ]
     },
     "execution_count": 18,
     "metadata": {},
     "output_type": "execute_result"
    }
   ],
   "source": [
    "df['Doors'].unique()"
   ]
  },
  {
   "cell_type": "code",
   "execution_count": 19,
   "id": "4da2f5db",
   "metadata": {
    "ExecuteTime": {
     "end_time": "2022-08-23T10:33:18.622819Z",
     "start_time": "2022-08-23T10:33:18.613842Z"
    }
   },
   "outputs": [
    {
     "data": {
      "text/plain": [
       "0        1\n",
       "1        1\n",
       "2        1\n",
       "3        1\n",
       "4        1\n",
       "        ..\n",
       "19230    1\n",
       "19231    1\n",
       "19232    1\n",
       "19233    2\n",
       "19234    2\n",
       "Name: Doors, Length: 19235, dtype: int64"
      ]
     },
     "execution_count": 19,
     "metadata": {},
     "output_type": "execute_result"
    }
   ],
   "source": [
    "df.Doors = df.Doors.map({'4-May':1,'2-Mar':2,'>5':3})\n",
    "df.Doors"
   ]
  },
  {
   "cell_type": "code",
   "execution_count": 20,
   "id": "f9598193",
   "metadata": {
    "ExecuteTime": {
     "end_time": "2022-08-23T10:33:19.341613Z",
     "start_time": "2022-08-23T10:33:19.326607Z"
    }
   },
   "outputs": [
    {
     "data": {
      "text/plain": [
       "array(['Left wheel', 'Right-hand drive'], dtype=object)"
      ]
     },
     "execution_count": 20,
     "metadata": {},
     "output_type": "execute_result"
    }
   ],
   "source": [
    "df['Wheel'].unique()"
   ]
  },
  {
   "cell_type": "code",
   "execution_count": 21,
   "id": "3d27b722",
   "metadata": {
    "ExecuteTime": {
     "end_time": "2022-08-23T10:33:20.023538Z",
     "start_time": "2022-08-23T10:33:20.003071Z"
    }
   },
   "outputs": [
    {
     "data": {
      "text/plain": [
       "0        1\n",
       "1        1\n",
       "2        1\n",
       "3        1\n",
       "4        1\n",
       "        ..\n",
       "19230    1\n",
       "19231    1\n",
       "19232    1\n",
       "19233    1\n",
       "19234    1\n",
       "Name: Wheel, Length: 19235, dtype: int64"
      ]
     },
     "execution_count": 21,
     "metadata": {},
     "output_type": "execute_result"
    }
   ],
   "source": [
    "df.Wheel = df.Wheel.map({'Left wheel':1,'Right-hand drive':2})\n",
    "df.Wheel"
   ]
  },
  {
   "cell_type": "code",
   "execution_count": 22,
   "id": "1e032855",
   "metadata": {
    "ExecuteTime": {
     "end_time": "2022-08-23T10:33:20.708157Z",
     "start_time": "2022-08-23T10:33:20.699648Z"
    }
   },
   "outputs": [
    {
     "data": {
      "text/plain": [
       "array(['Silver', 'Black', 'White', 'Blue', 'Grey', 'Brown', 'Golden',\n",
       "       'Red', 'Beige', 'Pink', 'Green', 'Carnelian red', 'Orange',\n",
       "       'Sky blue', 'Purple', 'Yellow'], dtype=object)"
      ]
     },
     "execution_count": 22,
     "metadata": {},
     "output_type": "execute_result"
    }
   ],
   "source": [
    "df['Color'].unique()"
   ]
  },
  {
   "cell_type": "code",
   "execution_count": 23,
   "id": "96f463a3",
   "metadata": {
    "ExecuteTime": {
     "end_time": "2022-08-23T10:33:21.750356Z",
     "start_time": "2022-08-23T10:33:21.733387Z"
    }
   },
   "outputs": [
    {
     "data": {
      "text/plain": [
       "0        3\n",
       "1        1\n",
       "2        2\n",
       "3        5\n",
       "4        5\n",
       "        ..\n",
       "19230    7\n",
       "19231    3\n",
       "19232    6\n",
       "19233    5\n",
       "19234    7\n",
       "Name: Color, Length: 19235, dtype: int64"
      ]
     },
     "execution_count": 23,
     "metadata": {},
     "output_type": "execute_result"
    }
   ],
   "source": [
    "df.Color = df.Color.map({'Black':1,'White':2,'Silver':3,'Grey':4,'Blue':5,'Red':6,'Green':7,'Orange':8,'Brown':9,'Carnelian red':10,'Golden':11,'Beige':12,'Sky blue':13,'Yellow':14,'Purple':15,'Pink':16})\n",
    "df.Color"
   ]
  },
  {
   "cell_type": "code",
   "execution_count": 24,
   "id": "b54bd235",
   "metadata": {
    "ExecuteTime": {
     "end_time": "2022-08-23T10:33:22.576677Z",
     "start_time": "2022-08-23T10:33:22.565124Z"
    }
   },
   "outputs": [
    {
     "data": {
      "text/plain": [
       "array([12, 10,  4,  8,  0,  7,  6,  2, 11,  1,  3,  5,  9, 16, 15, 14, 13],\n",
       "      dtype=int64)"
      ]
     },
     "execution_count": 24,
     "metadata": {},
     "output_type": "execute_result"
    }
   ],
   "source": [
    "df['Airbags'].unique()"
   ]
  },
  {
   "cell_type": "code",
   "execution_count": 25,
   "id": "560b3206",
   "metadata": {
    "ExecuteTime": {
     "end_time": "2022-08-23T10:33:23.396364Z",
     "start_time": "2022-08-23T10:33:23.383367Z"
    }
   },
   "outputs": [
    {
     "data": {
      "text/plain": [
       "array([2010, 2015, 2012, 2014, 2011, 2001, 2005, 2013, 2007, 2018, 2016,\n",
       "       2002, 2017, 2004, 2009, 2006, 1998, 2008, 1999, 2003, 1995, 1997,\n",
       "       2000, 1988, 1996, 1989, 1993, 1992, 1994, 2019, 1947, 1990, 2020,\n",
       "       1973, 1991, 1986, 1965, 1977, 1984, 1953, 1964, 1985, 1943, 1939,\n",
       "       1987, 1978, 1976, 1982, 1957, 1968, 1983, 1974, 1981, 1980],\n",
       "      dtype=int64)"
      ]
     },
     "execution_count": 25,
     "metadata": {},
     "output_type": "execute_result"
    }
   ],
   "source": [
    "df['Prod. year'].unique()"
   ]
  },
  {
   "cell_type": "code",
   "execution_count": 26,
   "id": "d58eb081",
   "metadata": {
    "ExecuteTime": {
     "end_time": "2022-08-23T10:33:24.205475Z",
     "start_time": "2022-08-23T10:33:24.195754Z"
    }
   },
   "outputs": [
    {
     "data": {
      "text/plain": [
       "array(['Yes', 'No'], dtype=object)"
      ]
     },
     "execution_count": 26,
     "metadata": {},
     "output_type": "execute_result"
    }
   ],
   "source": [
    "df['Leatherinterior'].unique()"
   ]
  },
  {
   "cell_type": "code",
   "execution_count": 27,
   "id": "98271b62",
   "metadata": {
    "ExecuteTime": {
     "end_time": "2022-08-23T10:33:24.996135Z",
     "start_time": "2022-08-23T10:33:24.985889Z"
    }
   },
   "outputs": [
    {
     "data": {
      "text/plain": [
       "0        1\n",
       "1        1\n",
       "2        1\n",
       "3        1\n",
       "4        1\n",
       "        ..\n",
       "19230    0\n",
       "19231    1\n",
       "19232    0\n",
       "19233    0\n",
       "19234    1\n",
       "Name: Leatherinterior, Length: 19235, dtype: int64"
      ]
     },
     "execution_count": 27,
     "metadata": {},
     "output_type": "execute_result"
    }
   ],
   "source": [
    "df.Leatherinterior = df.Leatherinterior.map({'No':0,'Yes':1})\n",
    "df.Leatherinterior"
   ]
  },
  {
   "cell_type": "code",
   "execution_count": 28,
   "id": "8fe3b27f",
   "metadata": {
    "ExecuteTime": {
     "end_time": "2022-08-23T10:33:25.714289Z",
     "start_time": "2022-08-23T10:33:25.696338Z"
    }
   },
   "outputs": [
    {
     "data": {
      "text/html": [
       "<div>\n",
       "<style scoped>\n",
       "    .dataframe tbody tr th:only-of-type {\n",
       "        vertical-align: middle;\n",
       "    }\n",
       "\n",
       "    .dataframe tbody tr th {\n",
       "        vertical-align: top;\n",
       "    }\n",
       "\n",
       "    .dataframe thead th {\n",
       "        text-align: right;\n",
       "    }\n",
       "</style>\n",
       "<table border=\"1\" class=\"dataframe\">\n",
       "  <thead>\n",
       "    <tr style=\"text-align: right;\">\n",
       "      <th></th>\n",
       "      <th>Manufacturer</th>\n",
       "      <th>Price</th>\n",
       "      <th>Levy</th>\n",
       "      <th>Unnamed: 3</th>\n",
       "      <th>Model</th>\n",
       "      <th>Prod. year</th>\n",
       "      <th>Category</th>\n",
       "      <th>Leatherinterior</th>\n",
       "      <th>FuelType</th>\n",
       "      <th>Engine volume</th>\n",
       "      <th>Mileage</th>\n",
       "      <th>Cylinders</th>\n",
       "      <th>GearBoxType</th>\n",
       "      <th>Drivewheels</th>\n",
       "      <th>Doors</th>\n",
       "      <th>Wheel</th>\n",
       "      <th>Color</th>\n",
       "      <th>Airbags</th>\n",
       "    </tr>\n",
       "  </thead>\n",
       "  <tbody>\n",
       "    <tr>\n",
       "      <th>0</th>\n",
       "      <td>1</td>\n",
       "      <td>314</td>\n",
       "      <td>1399</td>\n",
       "      <td>NaN</td>\n",
       "      <td>TL</td>\n",
       "      <td>2010</td>\n",
       "      <td>1</td>\n",
       "      <td>1</td>\n",
       "      <td>1</td>\n",
       "      <td>3.5</td>\n",
       "      <td>162453km</td>\n",
       "      <td>6</td>\n",
       "      <td>1</td>\n",
       "      <td>1</td>\n",
       "      <td>1</td>\n",
       "      <td>1</td>\n",
       "      <td>3</td>\n",
       "      <td>12</td>\n",
       "    </tr>\n",
       "    <tr>\n",
       "      <th>1</th>\n",
       "      <td>1</td>\n",
       "      <td>3450</td>\n",
       "      <td>900</td>\n",
       "      <td>NaN</td>\n",
       "      <td>TLX</td>\n",
       "      <td>2015</td>\n",
       "      <td>1</td>\n",
       "      <td>1</td>\n",
       "      <td>1</td>\n",
       "      <td>2.4</td>\n",
       "      <td>83099km</td>\n",
       "      <td>4</td>\n",
       "      <td>1</td>\n",
       "      <td>1</td>\n",
       "      <td>1</td>\n",
       "      <td>1</td>\n",
       "      <td>1</td>\n",
       "      <td>12</td>\n",
       "    </tr>\n",
       "    <tr>\n",
       "      <th>2</th>\n",
       "      <td>1</td>\n",
       "      <td>10349</td>\n",
       "      <td>1273</td>\n",
       "      <td>NaN</td>\n",
       "      <td>TLX</td>\n",
       "      <td>2015</td>\n",
       "      <td>1</td>\n",
       "      <td>1</td>\n",
       "      <td>1</td>\n",
       "      <td>3.5</td>\n",
       "      <td>70562km</td>\n",
       "      <td>6</td>\n",
       "      <td>1</td>\n",
       "      <td>2</td>\n",
       "      <td>1</td>\n",
       "      <td>1</td>\n",
       "      <td>2</td>\n",
       "      <td>12</td>\n",
       "    </tr>\n",
       "    <tr>\n",
       "      <th>3</th>\n",
       "      <td>1</td>\n",
       "      <td>282</td>\n",
       "      <td>1273</td>\n",
       "      <td>NaN</td>\n",
       "      <td>RDX</td>\n",
       "      <td>2015</td>\n",
       "      <td>2</td>\n",
       "      <td>1</td>\n",
       "      <td>1</td>\n",
       "      <td>3.5</td>\n",
       "      <td>0km</td>\n",
       "      <td>6</td>\n",
       "      <td>1</td>\n",
       "      <td>2</td>\n",
       "      <td>1</td>\n",
       "      <td>1</td>\n",
       "      <td>5</td>\n",
       "      <td>12</td>\n",
       "    </tr>\n",
       "    <tr>\n",
       "      <th>4</th>\n",
       "      <td>1</td>\n",
       "      <td>2979</td>\n",
       "      <td>986</td>\n",
       "      <td>NaN</td>\n",
       "      <td>TSX</td>\n",
       "      <td>2010</td>\n",
       "      <td>1</td>\n",
       "      <td>1</td>\n",
       "      <td>1</td>\n",
       "      <td>2.4</td>\n",
       "      <td>203061km</td>\n",
       "      <td>4</td>\n",
       "      <td>1</td>\n",
       "      <td>1</td>\n",
       "      <td>1</td>\n",
       "      <td>1</td>\n",
       "      <td>5</td>\n",
       "      <td>12</td>\n",
       "    </tr>\n",
       "    <tr>\n",
       "      <th>...</th>\n",
       "      <td>...</td>\n",
       "      <td>...</td>\n",
       "      <td>...</td>\n",
       "      <td>...</td>\n",
       "      <td>...</td>\n",
       "      <td>...</td>\n",
       "      <td>...</td>\n",
       "      <td>...</td>\n",
       "      <td>...</td>\n",
       "      <td>...</td>\n",
       "      <td>...</td>\n",
       "      <td>...</td>\n",
       "      <td>...</td>\n",
       "      <td>...</td>\n",
       "      <td>...</td>\n",
       "      <td>...</td>\n",
       "      <td>...</td>\n",
       "      <td>...</td>\n",
       "    </tr>\n",
       "    <tr>\n",
       "      <th>19230</th>\n",
       "      <td>62</td>\n",
       "      <td>2500</td>\n",
       "      <td>-</td>\n",
       "      <td>NaN</td>\n",
       "      <td>940</td>\n",
       "      <td>1993</td>\n",
       "      <td>1</td>\n",
       "      <td>0</td>\n",
       "      <td>5</td>\n",
       "      <td>2.3</td>\n",
       "      <td>111111km</td>\n",
       "      <td>4</td>\n",
       "      <td>2</td>\n",
       "      <td>3</td>\n",
       "      <td>1</td>\n",
       "      <td>1</td>\n",
       "      <td>7</td>\n",
       "      <td>0</td>\n",
       "    </tr>\n",
       "    <tr>\n",
       "      <th>19231</th>\n",
       "      <td>62</td>\n",
       "      <td>11604</td>\n",
       "      <td>-</td>\n",
       "      <td>NaN</td>\n",
       "      <td>XC90 2.5turbo</td>\n",
       "      <td>2006</td>\n",
       "      <td>2</td>\n",
       "      <td>1</td>\n",
       "      <td>1</td>\n",
       "      <td>2.5</td>\n",
       "      <td>170000km</td>\n",
       "      <td>6</td>\n",
       "      <td>3</td>\n",
       "      <td>1</td>\n",
       "      <td>1</td>\n",
       "      <td>1</td>\n",
       "      <td>3</td>\n",
       "      <td>12</td>\n",
       "    </tr>\n",
       "    <tr>\n",
       "      <th>19232</th>\n",
       "      <td>62</td>\n",
       "      <td>4500</td>\n",
       "      <td>-</td>\n",
       "      <td>NaN</td>\n",
       "      <td>S70</td>\n",
       "      <td>1998</td>\n",
       "      <td>1</td>\n",
       "      <td>0</td>\n",
       "      <td>1</td>\n",
       "      <td>2.4</td>\n",
       "      <td>0km</td>\n",
       "      <td>5</td>\n",
       "      <td>1</td>\n",
       "      <td>1</td>\n",
       "      <td>1</td>\n",
       "      <td>1</td>\n",
       "      <td>6</td>\n",
       "      <td>4</td>\n",
       "    </tr>\n",
       "    <tr>\n",
       "      <th>19233</th>\n",
       "      <td>63</td>\n",
       "      <td>2000</td>\n",
       "      <td>-</td>\n",
       "      <td>NaN</td>\n",
       "      <td>969 968m</td>\n",
       "      <td>1989</td>\n",
       "      <td>5</td>\n",
       "      <td>0</td>\n",
       "      <td>1</td>\n",
       "      <td>0.8</td>\n",
       "      <td>201000km</td>\n",
       "      <td>3</td>\n",
       "      <td>2</td>\n",
       "      <td>1</td>\n",
       "      <td>2</td>\n",
       "      <td>1</td>\n",
       "      <td>5</td>\n",
       "      <td>0</td>\n",
       "    </tr>\n",
       "    <tr>\n",
       "      <th>19234</th>\n",
       "      <td>63</td>\n",
       "      <td>5645</td>\n",
       "      <td>-</td>\n",
       "      <td>NaN</td>\n",
       "      <td>969 luaz</td>\n",
       "      <td>1990</td>\n",
       "      <td>2</td>\n",
       "      <td>1</td>\n",
       "      <td>1</td>\n",
       "      <td>0.9</td>\n",
       "      <td>64525km</td>\n",
       "      <td>4</td>\n",
       "      <td>2</td>\n",
       "      <td>2</td>\n",
       "      <td>2</td>\n",
       "      <td>1</td>\n",
       "      <td>7</td>\n",
       "      <td>0</td>\n",
       "    </tr>\n",
       "  </tbody>\n",
       "</table>\n",
       "<p>19235 rows × 18 columns</p>\n",
       "</div>"
      ],
      "text/plain": [
       "       Manufacturer  Price  Levy  Unnamed: 3          Model  Prod. year  \\\n",
       "0                 1    314  1399         NaN             TL        2010   \n",
       "1                 1   3450   900         NaN            TLX        2015   \n",
       "2                 1  10349  1273         NaN            TLX        2015   \n",
       "3                 1    282  1273         NaN            RDX        2015   \n",
       "4                 1   2979   986         NaN            TSX        2010   \n",
       "...             ...    ...   ...         ...            ...         ...   \n",
       "19230            62   2500     -         NaN            940        1993   \n",
       "19231            62  11604     -         NaN  XC90 2.5turbo        2006   \n",
       "19232            62   4500     -         NaN            S70        1998   \n",
       "19233            63   2000     -         NaN       969 968m        1989   \n",
       "19234            63   5645     -         NaN       969 luaz        1990   \n",
       "\n",
       "       Category  Leatherinterior  FuelType Engine volume   Mileage  Cylinders  \\\n",
       "0             1                1         1           3.5  162453km          6   \n",
       "1             1                1         1           2.4   83099km          4   \n",
       "2             1                1         1           3.5   70562km          6   \n",
       "3             2                1         1           3.5       0km          6   \n",
       "4             1                1         1           2.4  203061km          4   \n",
       "...         ...              ...       ...           ...       ...        ...   \n",
       "19230         1                0         5           2.3  111111km          4   \n",
       "19231         2                1         1           2.5  170000km          6   \n",
       "19232         1                0         1           2.4       0km          5   \n",
       "19233         5                0         1           0.8  201000km          3   \n",
       "19234         2                1         1           0.9   64525km          4   \n",
       "\n",
       "       GearBoxType  Drivewheels  Doors  Wheel  Color  Airbags  \n",
       "0                1            1      1      1      3       12  \n",
       "1                1            1      1      1      1       12  \n",
       "2                1            2      1      1      2       12  \n",
       "3                1            2      1      1      5       12  \n",
       "4                1            1      1      1      5       12  \n",
       "...            ...          ...    ...    ...    ...      ...  \n",
       "19230            2            3      1      1      7        0  \n",
       "19231            3            1      1      1      3       12  \n",
       "19232            1            1      1      1      6        4  \n",
       "19233            2            1      2      1      5        0  \n",
       "19234            2            2      2      1      7        0  \n",
       "\n",
       "[19235 rows x 18 columns]"
      ]
     },
     "execution_count": 28,
     "metadata": {},
     "output_type": "execute_result"
    }
   ],
   "source": [
    "df"
   ]
  },
  {
   "cell_type": "code",
   "execution_count": 29,
   "id": "723c1d32",
   "metadata": {
    "ExecuteTime": {
     "end_time": "2022-08-23T10:33:26.493325Z",
     "start_time": "2022-08-23T10:33:26.478781Z"
    }
   },
   "outputs": [
    {
     "data": {
      "text/plain": [
       "Index(['Manufacturer', 'Price', 'Levy', 'Unnamed: 3', 'Model', 'Prod. year',\n",
       "       'Category', 'Leatherinterior', 'FuelType', 'Engine volume', 'Mileage',\n",
       "       'Cylinders', 'GearBoxType', 'Drivewheels', 'Doors', 'Wheel', 'Color',\n",
       "       'Airbags'],\n",
       "      dtype='object')"
      ]
     },
     "execution_count": 29,
     "metadata": {},
     "output_type": "execute_result"
    }
   ],
   "source": [
    "df.columns"
   ]
  },
  {
   "cell_type": "code",
   "execution_count": 30,
   "id": "e0e77822",
   "metadata": {
    "ExecuteTime": {
     "end_time": "2022-08-23T10:33:27.243075Z",
     "start_time": "2022-08-23T10:33:27.218400Z"
    }
   },
   "outputs": [],
   "source": [
    "df['Mileage']=df['Mileage'].str.replace('km','')"
   ]
  },
  {
   "cell_type": "code",
   "execution_count": 31,
   "id": "d8abd45f",
   "metadata": {
    "ExecuteTime": {
     "end_time": "2022-08-23T10:33:28.052751Z",
     "start_time": "2022-08-23T10:33:28.019248Z"
    }
   },
   "outputs": [],
   "source": [
    "df['Engine volume']=df['Engine volume'].str.replace('Turbo','')"
   ]
  },
  {
   "cell_type": "code",
   "execution_count": 32,
   "id": "ffc40b7e",
   "metadata": {
    "ExecuteTime": {
     "end_time": "2022-08-23T10:33:28.631172Z",
     "start_time": "2022-08-23T10:33:28.622319Z"
    }
   },
   "outputs": [],
   "source": [
    "df['Engine volume']=df['Engine volume'].astype(float)"
   ]
  },
  {
   "cell_type": "code",
   "execution_count": 33,
   "id": "2e6aff87",
   "metadata": {
    "ExecuteTime": {
     "end_time": "2022-08-23T10:33:29.296550Z",
     "start_time": "2022-08-23T10:33:29.275475Z"
    }
   },
   "outputs": [],
   "source": [
    "df['Mileage']=df['Mileage'].astype(int)"
   ]
  },
  {
   "cell_type": "code",
   "execution_count": 34,
   "id": "c2b9b33d",
   "metadata": {
    "ExecuteTime": {
     "end_time": "2022-08-23T10:33:29.873318Z",
     "start_time": "2022-08-23T10:33:29.866337Z"
    }
   },
   "outputs": [
    {
     "data": {
      "text/plain": [
       "Manufacturer         int64\n",
       "Price                int64\n",
       "Levy                object\n",
       "Unnamed: 3         float64\n",
       "Model               object\n",
       "Prod. year           int64\n",
       "Category             int64\n",
       "Leatherinterior      int64\n",
       "FuelType             int64\n",
       "Engine volume      float64\n",
       "Mileage              int32\n",
       "Cylinders            int64\n",
       "GearBoxType          int64\n",
       "Drivewheels          int64\n",
       "Doors                int64\n",
       "Wheel                int64\n",
       "Color                int64\n",
       "Airbags              int64\n",
       "dtype: object"
      ]
     },
     "execution_count": 34,
     "metadata": {},
     "output_type": "execute_result"
    }
   ],
   "source": [
    "df.dtypes"
   ]
  },
  {
   "cell_type": "code",
   "execution_count": 35,
   "id": "ea43d4d6",
   "metadata": {
    "ExecuteTime": {
     "end_time": "2022-08-23T10:33:30.900932Z",
     "start_time": "2022-08-23T10:33:30.879989Z"
    }
   },
   "outputs": [
    {
     "data": {
      "text/html": [
       "<div>\n",
       "<style scoped>\n",
       "    .dataframe tbody tr th:only-of-type {\n",
       "        vertical-align: middle;\n",
       "    }\n",
       "\n",
       "    .dataframe tbody tr th {\n",
       "        vertical-align: top;\n",
       "    }\n",
       "\n",
       "    .dataframe thead th {\n",
       "        text-align: right;\n",
       "    }\n",
       "</style>\n",
       "<table border=\"1\" class=\"dataframe\">\n",
       "  <thead>\n",
       "    <tr style=\"text-align: right;\">\n",
       "      <th></th>\n",
       "      <th>Manufacturer</th>\n",
       "      <th>Price</th>\n",
       "      <th>Prod. year</th>\n",
       "      <th>Category</th>\n",
       "      <th>Leatherinterior</th>\n",
       "      <th>FuelType</th>\n",
       "      <th>Engine volume</th>\n",
       "      <th>Mileage</th>\n",
       "      <th>Cylinders</th>\n",
       "      <th>GearBoxType</th>\n",
       "      <th>Drivewheels</th>\n",
       "      <th>Doors</th>\n",
       "      <th>Wheel</th>\n",
       "      <th>Color</th>\n",
       "      <th>Airbags</th>\n",
       "    </tr>\n",
       "  </thead>\n",
       "  <tbody>\n",
       "    <tr>\n",
       "      <th>0</th>\n",
       "      <td>1</td>\n",
       "      <td>314</td>\n",
       "      <td>2010</td>\n",
       "      <td>1</td>\n",
       "      <td>1</td>\n",
       "      <td>1</td>\n",
       "      <td>3.5</td>\n",
       "      <td>162453</td>\n",
       "      <td>6</td>\n",
       "      <td>1</td>\n",
       "      <td>1</td>\n",
       "      <td>1</td>\n",
       "      <td>1</td>\n",
       "      <td>3</td>\n",
       "      <td>12</td>\n",
       "    </tr>\n",
       "    <tr>\n",
       "      <th>1</th>\n",
       "      <td>1</td>\n",
       "      <td>3450</td>\n",
       "      <td>2015</td>\n",
       "      <td>1</td>\n",
       "      <td>1</td>\n",
       "      <td>1</td>\n",
       "      <td>2.4</td>\n",
       "      <td>83099</td>\n",
       "      <td>4</td>\n",
       "      <td>1</td>\n",
       "      <td>1</td>\n",
       "      <td>1</td>\n",
       "      <td>1</td>\n",
       "      <td>1</td>\n",
       "      <td>12</td>\n",
       "    </tr>\n",
       "    <tr>\n",
       "      <th>2</th>\n",
       "      <td>1</td>\n",
       "      <td>10349</td>\n",
       "      <td>2015</td>\n",
       "      <td>1</td>\n",
       "      <td>1</td>\n",
       "      <td>1</td>\n",
       "      <td>3.5</td>\n",
       "      <td>70562</td>\n",
       "      <td>6</td>\n",
       "      <td>1</td>\n",
       "      <td>2</td>\n",
       "      <td>1</td>\n",
       "      <td>1</td>\n",
       "      <td>2</td>\n",
       "      <td>12</td>\n",
       "    </tr>\n",
       "    <tr>\n",
       "      <th>3</th>\n",
       "      <td>1</td>\n",
       "      <td>282</td>\n",
       "      <td>2015</td>\n",
       "      <td>2</td>\n",
       "      <td>1</td>\n",
       "      <td>1</td>\n",
       "      <td>3.5</td>\n",
       "      <td>0</td>\n",
       "      <td>6</td>\n",
       "      <td>1</td>\n",
       "      <td>2</td>\n",
       "      <td>1</td>\n",
       "      <td>1</td>\n",
       "      <td>5</td>\n",
       "      <td>12</td>\n",
       "    </tr>\n",
       "    <tr>\n",
       "      <th>4</th>\n",
       "      <td>1</td>\n",
       "      <td>2979</td>\n",
       "      <td>2010</td>\n",
       "      <td>1</td>\n",
       "      <td>1</td>\n",
       "      <td>1</td>\n",
       "      <td>2.4</td>\n",
       "      <td>203061</td>\n",
       "      <td>4</td>\n",
       "      <td>1</td>\n",
       "      <td>1</td>\n",
       "      <td>1</td>\n",
       "      <td>1</td>\n",
       "      <td>5</td>\n",
       "      <td>12</td>\n",
       "    </tr>\n",
       "    <tr>\n",
       "      <th>...</th>\n",
       "      <td>...</td>\n",
       "      <td>...</td>\n",
       "      <td>...</td>\n",
       "      <td>...</td>\n",
       "      <td>...</td>\n",
       "      <td>...</td>\n",
       "      <td>...</td>\n",
       "      <td>...</td>\n",
       "      <td>...</td>\n",
       "      <td>...</td>\n",
       "      <td>...</td>\n",
       "      <td>...</td>\n",
       "      <td>...</td>\n",
       "      <td>...</td>\n",
       "      <td>...</td>\n",
       "    </tr>\n",
       "    <tr>\n",
       "      <th>19230</th>\n",
       "      <td>62</td>\n",
       "      <td>2500</td>\n",
       "      <td>1993</td>\n",
       "      <td>1</td>\n",
       "      <td>0</td>\n",
       "      <td>5</td>\n",
       "      <td>2.3</td>\n",
       "      <td>111111</td>\n",
       "      <td>4</td>\n",
       "      <td>2</td>\n",
       "      <td>3</td>\n",
       "      <td>1</td>\n",
       "      <td>1</td>\n",
       "      <td>7</td>\n",
       "      <td>0</td>\n",
       "    </tr>\n",
       "    <tr>\n",
       "      <th>19231</th>\n",
       "      <td>62</td>\n",
       "      <td>11604</td>\n",
       "      <td>2006</td>\n",
       "      <td>2</td>\n",
       "      <td>1</td>\n",
       "      <td>1</td>\n",
       "      <td>2.5</td>\n",
       "      <td>170000</td>\n",
       "      <td>6</td>\n",
       "      <td>3</td>\n",
       "      <td>1</td>\n",
       "      <td>1</td>\n",
       "      <td>1</td>\n",
       "      <td>3</td>\n",
       "      <td>12</td>\n",
       "    </tr>\n",
       "    <tr>\n",
       "      <th>19232</th>\n",
       "      <td>62</td>\n",
       "      <td>4500</td>\n",
       "      <td>1998</td>\n",
       "      <td>1</td>\n",
       "      <td>0</td>\n",
       "      <td>1</td>\n",
       "      <td>2.4</td>\n",
       "      <td>0</td>\n",
       "      <td>5</td>\n",
       "      <td>1</td>\n",
       "      <td>1</td>\n",
       "      <td>1</td>\n",
       "      <td>1</td>\n",
       "      <td>6</td>\n",
       "      <td>4</td>\n",
       "    </tr>\n",
       "    <tr>\n",
       "      <th>19233</th>\n",
       "      <td>63</td>\n",
       "      <td>2000</td>\n",
       "      <td>1989</td>\n",
       "      <td>5</td>\n",
       "      <td>0</td>\n",
       "      <td>1</td>\n",
       "      <td>0.8</td>\n",
       "      <td>201000</td>\n",
       "      <td>3</td>\n",
       "      <td>2</td>\n",
       "      <td>1</td>\n",
       "      <td>2</td>\n",
       "      <td>1</td>\n",
       "      <td>5</td>\n",
       "      <td>0</td>\n",
       "    </tr>\n",
       "    <tr>\n",
       "      <th>19234</th>\n",
       "      <td>63</td>\n",
       "      <td>5645</td>\n",
       "      <td>1990</td>\n",
       "      <td>2</td>\n",
       "      <td>1</td>\n",
       "      <td>1</td>\n",
       "      <td>0.9</td>\n",
       "      <td>64525</td>\n",
       "      <td>4</td>\n",
       "      <td>2</td>\n",
       "      <td>2</td>\n",
       "      <td>2</td>\n",
       "      <td>1</td>\n",
       "      <td>7</td>\n",
       "      <td>0</td>\n",
       "    </tr>\n",
       "  </tbody>\n",
       "</table>\n",
       "<p>19235 rows × 15 columns</p>\n",
       "</div>"
      ],
      "text/plain": [
       "       Manufacturer  Price  Prod. year  Category  Leatherinterior  FuelType  \\\n",
       "0                 1    314        2010         1                1         1   \n",
       "1                 1   3450        2015         1                1         1   \n",
       "2                 1  10349        2015         1                1         1   \n",
       "3                 1    282        2015         2                1         1   \n",
       "4                 1   2979        2010         1                1         1   \n",
       "...             ...    ...         ...       ...              ...       ...   \n",
       "19230            62   2500        1993         1                0         5   \n",
       "19231            62  11604        2006         2                1         1   \n",
       "19232            62   4500        1998         1                0         1   \n",
       "19233            63   2000        1989         5                0         1   \n",
       "19234            63   5645        1990         2                1         1   \n",
       "\n",
       "       Engine volume  Mileage  Cylinders  GearBoxType  Drivewheels  Doors  \\\n",
       "0                3.5   162453          6            1            1      1   \n",
       "1                2.4    83099          4            1            1      1   \n",
       "2                3.5    70562          6            1            2      1   \n",
       "3                3.5        0          6            1            2      1   \n",
       "4                2.4   203061          4            1            1      1   \n",
       "...              ...      ...        ...          ...          ...    ...   \n",
       "19230            2.3   111111          4            2            3      1   \n",
       "19231            2.5   170000          6            3            1      1   \n",
       "19232            2.4        0          5            1            1      1   \n",
       "19233            0.8   201000          3            2            1      2   \n",
       "19234            0.9    64525          4            2            2      2   \n",
       "\n",
       "       Wheel  Color  Airbags  \n",
       "0          1      3       12  \n",
       "1          1      1       12  \n",
       "2          1      2       12  \n",
       "3          1      5       12  \n",
       "4          1      5       12  \n",
       "...      ...    ...      ...  \n",
       "19230      1      7        0  \n",
       "19231      1      3       12  \n",
       "19232      1      6        4  \n",
       "19233      1      5        0  \n",
       "19234      1      7        0  \n",
       "\n",
       "[19235 rows x 15 columns]"
      ]
     },
     "execution_count": 35,
     "metadata": {},
     "output_type": "execute_result"
    }
   ],
   "source": [
    "ddf=df.drop(['Levy', 'Unnamed: 3', 'Model'],axis='columns')\n",
    "ddf"
   ]
  },
  {
   "cell_type": "code",
   "execution_count": 36,
   "id": "d9d0c851",
   "metadata": {
    "ExecuteTime": {
     "end_time": "2022-08-23T10:33:31.680306Z",
     "start_time": "2022-08-23T10:33:31.669338Z"
    }
   },
   "outputs": [
    {
     "data": {
      "text/plain": [
       "Manufacturer         int64\n",
       "Price                int64\n",
       "Prod. year           int64\n",
       "Category             int64\n",
       "Leatherinterior      int64\n",
       "FuelType             int64\n",
       "Engine volume      float64\n",
       "Mileage              int32\n",
       "Cylinders            int64\n",
       "GearBoxType          int64\n",
       "Drivewheels          int64\n",
       "Doors                int64\n",
       "Wheel                int64\n",
       "Color                int64\n",
       "Airbags              int64\n",
       "dtype: object"
      ]
     },
     "execution_count": 36,
     "metadata": {},
     "output_type": "execute_result"
    }
   ],
   "source": [
    "ddf.dtypes"
   ]
  },
  {
   "cell_type": "code",
   "execution_count": 37,
   "id": "aea2397e",
   "metadata": {
    "ExecuteTime": {
     "end_time": "2022-08-23T10:33:32.465351Z",
     "start_time": "2022-08-23T10:33:32.441443Z"
    }
   },
   "outputs": [
    {
     "data": {
      "text/html": [
       "<div>\n",
       "<style scoped>\n",
       "    .dataframe tbody tr th:only-of-type {\n",
       "        vertical-align: middle;\n",
       "    }\n",
       "\n",
       "    .dataframe tbody tr th {\n",
       "        vertical-align: top;\n",
       "    }\n",
       "\n",
       "    .dataframe thead th {\n",
       "        text-align: right;\n",
       "    }\n",
       "</style>\n",
       "<table border=\"1\" class=\"dataframe\">\n",
       "  <thead>\n",
       "    <tr style=\"text-align: right;\">\n",
       "      <th></th>\n",
       "      <th>Manufacturer</th>\n",
       "      <th>Price</th>\n",
       "      <th>Prod. year</th>\n",
       "      <th>Category</th>\n",
       "      <th>Leatherinterior</th>\n",
       "      <th>FuelType</th>\n",
       "      <th>Engine volume</th>\n",
       "      <th>Mileage</th>\n",
       "      <th>Cylinders</th>\n",
       "      <th>GearBoxType</th>\n",
       "      <th>Drivewheels</th>\n",
       "      <th>Doors</th>\n",
       "      <th>Wheel</th>\n",
       "      <th>Color</th>\n",
       "      <th>Airbags</th>\n",
       "    </tr>\n",
       "  </thead>\n",
       "  <tbody>\n",
       "    <tr>\n",
       "      <th>0</th>\n",
       "      <td>1</td>\n",
       "      <td>314</td>\n",
       "      <td>2010</td>\n",
       "      <td>1</td>\n",
       "      <td>1</td>\n",
       "      <td>1</td>\n",
       "      <td>3.5</td>\n",
       "      <td>162453</td>\n",
       "      <td>6</td>\n",
       "      <td>1</td>\n",
       "      <td>1</td>\n",
       "      <td>1</td>\n",
       "      <td>1</td>\n",
       "      <td>3</td>\n",
       "      <td>12</td>\n",
       "    </tr>\n",
       "    <tr>\n",
       "      <th>1</th>\n",
       "      <td>1</td>\n",
       "      <td>3450</td>\n",
       "      <td>2015</td>\n",
       "      <td>1</td>\n",
       "      <td>1</td>\n",
       "      <td>1</td>\n",
       "      <td>2.4</td>\n",
       "      <td>83099</td>\n",
       "      <td>4</td>\n",
       "      <td>1</td>\n",
       "      <td>1</td>\n",
       "      <td>1</td>\n",
       "      <td>1</td>\n",
       "      <td>1</td>\n",
       "      <td>12</td>\n",
       "    </tr>\n",
       "    <tr>\n",
       "      <th>2</th>\n",
       "      <td>1</td>\n",
       "      <td>10349</td>\n",
       "      <td>2015</td>\n",
       "      <td>1</td>\n",
       "      <td>1</td>\n",
       "      <td>1</td>\n",
       "      <td>3.5</td>\n",
       "      <td>70562</td>\n",
       "      <td>6</td>\n",
       "      <td>1</td>\n",
       "      <td>2</td>\n",
       "      <td>1</td>\n",
       "      <td>1</td>\n",
       "      <td>2</td>\n",
       "      <td>12</td>\n",
       "    </tr>\n",
       "    <tr>\n",
       "      <th>3</th>\n",
       "      <td>1</td>\n",
       "      <td>282</td>\n",
       "      <td>2015</td>\n",
       "      <td>2</td>\n",
       "      <td>1</td>\n",
       "      <td>1</td>\n",
       "      <td>3.5</td>\n",
       "      <td>0</td>\n",
       "      <td>6</td>\n",
       "      <td>1</td>\n",
       "      <td>2</td>\n",
       "      <td>1</td>\n",
       "      <td>1</td>\n",
       "      <td>5</td>\n",
       "      <td>12</td>\n",
       "    </tr>\n",
       "    <tr>\n",
       "      <th>4</th>\n",
       "      <td>1</td>\n",
       "      <td>2979</td>\n",
       "      <td>2010</td>\n",
       "      <td>1</td>\n",
       "      <td>1</td>\n",
       "      <td>1</td>\n",
       "      <td>2.4</td>\n",
       "      <td>203061</td>\n",
       "      <td>4</td>\n",
       "      <td>1</td>\n",
       "      <td>1</td>\n",
       "      <td>1</td>\n",
       "      <td>1</td>\n",
       "      <td>5</td>\n",
       "      <td>12</td>\n",
       "    </tr>\n",
       "    <tr>\n",
       "      <th>...</th>\n",
       "      <td>...</td>\n",
       "      <td>...</td>\n",
       "      <td>...</td>\n",
       "      <td>...</td>\n",
       "      <td>...</td>\n",
       "      <td>...</td>\n",
       "      <td>...</td>\n",
       "      <td>...</td>\n",
       "      <td>...</td>\n",
       "      <td>...</td>\n",
       "      <td>...</td>\n",
       "      <td>...</td>\n",
       "      <td>...</td>\n",
       "      <td>...</td>\n",
       "      <td>...</td>\n",
       "    </tr>\n",
       "    <tr>\n",
       "      <th>19230</th>\n",
       "      <td>62</td>\n",
       "      <td>2500</td>\n",
       "      <td>1993</td>\n",
       "      <td>1</td>\n",
       "      <td>0</td>\n",
       "      <td>5</td>\n",
       "      <td>2.3</td>\n",
       "      <td>111111</td>\n",
       "      <td>4</td>\n",
       "      <td>2</td>\n",
       "      <td>3</td>\n",
       "      <td>1</td>\n",
       "      <td>1</td>\n",
       "      <td>7</td>\n",
       "      <td>0</td>\n",
       "    </tr>\n",
       "    <tr>\n",
       "      <th>19231</th>\n",
       "      <td>62</td>\n",
       "      <td>11604</td>\n",
       "      <td>2006</td>\n",
       "      <td>2</td>\n",
       "      <td>1</td>\n",
       "      <td>1</td>\n",
       "      <td>2.5</td>\n",
       "      <td>170000</td>\n",
       "      <td>6</td>\n",
       "      <td>3</td>\n",
       "      <td>1</td>\n",
       "      <td>1</td>\n",
       "      <td>1</td>\n",
       "      <td>3</td>\n",
       "      <td>12</td>\n",
       "    </tr>\n",
       "    <tr>\n",
       "      <th>19232</th>\n",
       "      <td>62</td>\n",
       "      <td>4500</td>\n",
       "      <td>1998</td>\n",
       "      <td>1</td>\n",
       "      <td>0</td>\n",
       "      <td>1</td>\n",
       "      <td>2.4</td>\n",
       "      <td>0</td>\n",
       "      <td>5</td>\n",
       "      <td>1</td>\n",
       "      <td>1</td>\n",
       "      <td>1</td>\n",
       "      <td>1</td>\n",
       "      <td>6</td>\n",
       "      <td>4</td>\n",
       "    </tr>\n",
       "    <tr>\n",
       "      <th>19233</th>\n",
       "      <td>63</td>\n",
       "      <td>2000</td>\n",
       "      <td>1989</td>\n",
       "      <td>5</td>\n",
       "      <td>0</td>\n",
       "      <td>1</td>\n",
       "      <td>0.8</td>\n",
       "      <td>201000</td>\n",
       "      <td>3</td>\n",
       "      <td>2</td>\n",
       "      <td>1</td>\n",
       "      <td>2</td>\n",
       "      <td>1</td>\n",
       "      <td>5</td>\n",
       "      <td>0</td>\n",
       "    </tr>\n",
       "    <tr>\n",
       "      <th>19234</th>\n",
       "      <td>63</td>\n",
       "      <td>5645</td>\n",
       "      <td>1990</td>\n",
       "      <td>2</td>\n",
       "      <td>1</td>\n",
       "      <td>1</td>\n",
       "      <td>0.9</td>\n",
       "      <td>64525</td>\n",
       "      <td>4</td>\n",
       "      <td>2</td>\n",
       "      <td>2</td>\n",
       "      <td>2</td>\n",
       "      <td>1</td>\n",
       "      <td>7</td>\n",
       "      <td>0</td>\n",
       "    </tr>\n",
       "  </tbody>\n",
       "</table>\n",
       "<p>19235 rows × 15 columns</p>\n",
       "</div>"
      ],
      "text/plain": [
       "       Manufacturer  Price  Prod. year  Category  Leatherinterior  FuelType  \\\n",
       "0                 1    314        2010         1                1         1   \n",
       "1                 1   3450        2015         1                1         1   \n",
       "2                 1  10349        2015         1                1         1   \n",
       "3                 1    282        2015         2                1         1   \n",
       "4                 1   2979        2010         1                1         1   \n",
       "...             ...    ...         ...       ...              ...       ...   \n",
       "19230            62   2500        1993         1                0         5   \n",
       "19231            62  11604        2006         2                1         1   \n",
       "19232            62   4500        1998         1                0         1   \n",
       "19233            63   2000        1989         5                0         1   \n",
       "19234            63   5645        1990         2                1         1   \n",
       "\n",
       "       Engine volume  Mileage  Cylinders  GearBoxType  Drivewheels  Doors  \\\n",
       "0                3.5   162453          6            1            1      1   \n",
       "1                2.4    83099          4            1            1      1   \n",
       "2                3.5    70562          6            1            2      1   \n",
       "3                3.5        0          6            1            2      1   \n",
       "4                2.4   203061          4            1            1      1   \n",
       "...              ...      ...        ...          ...          ...    ...   \n",
       "19230            2.3   111111          4            2            3      1   \n",
       "19231            2.5   170000          6            3            1      1   \n",
       "19232            2.4        0          5            1            1      1   \n",
       "19233            0.8   201000          3            2            1      2   \n",
       "19234            0.9    64525          4            2            2      2   \n",
       "\n",
       "       Wheel  Color  Airbags  \n",
       "0          1      3       12  \n",
       "1          1      1       12  \n",
       "2          1      2       12  \n",
       "3          1      5       12  \n",
       "4          1      5       12  \n",
       "...      ...    ...      ...  \n",
       "19230      1      7        0  \n",
       "19231      1      3       12  \n",
       "19232      1      6        4  \n",
       "19233      1      5        0  \n",
       "19234      1      7        0  \n",
       "\n",
       "[19235 rows x 15 columns]"
      ]
     },
     "execution_count": 37,
     "metadata": {},
     "output_type": "execute_result"
    }
   ],
   "source": [
    "dffinal = ddf.fillna(0)\n",
    "dffinal"
   ]
  },
  {
   "cell_type": "code",
   "execution_count": 38,
   "id": "9b305f51",
   "metadata": {
    "ExecuteTime": {
     "end_time": "2022-08-23T10:33:33.272795Z",
     "start_time": "2022-08-23T10:33:33.255332Z"
    }
   },
   "outputs": [
    {
     "data": {
      "text/html": [
       "<div>\n",
       "<style scoped>\n",
       "    .dataframe tbody tr th:only-of-type {\n",
       "        vertical-align: middle;\n",
       "    }\n",
       "\n",
       "    .dataframe tbody tr th {\n",
       "        vertical-align: top;\n",
       "    }\n",
       "\n",
       "    .dataframe thead th {\n",
       "        text-align: right;\n",
       "    }\n",
       "</style>\n",
       "<table border=\"1\" class=\"dataframe\">\n",
       "  <thead>\n",
       "    <tr style=\"text-align: right;\">\n",
       "      <th></th>\n",
       "      <th>Manufacturer</th>\n",
       "      <th>Prod. year</th>\n",
       "      <th>Category</th>\n",
       "      <th>Leatherinterior</th>\n",
       "      <th>FuelType</th>\n",
       "      <th>Engine volume</th>\n",
       "      <th>Mileage</th>\n",
       "      <th>Cylinders</th>\n",
       "      <th>GearBoxType</th>\n",
       "      <th>Drivewheels</th>\n",
       "      <th>Doors</th>\n",
       "      <th>Wheel</th>\n",
       "      <th>Color</th>\n",
       "      <th>Airbags</th>\n",
       "    </tr>\n",
       "  </thead>\n",
       "  <tbody>\n",
       "    <tr>\n",
       "      <th>0</th>\n",
       "      <td>1</td>\n",
       "      <td>2010</td>\n",
       "      <td>1</td>\n",
       "      <td>1</td>\n",
       "      <td>1</td>\n",
       "      <td>3.5</td>\n",
       "      <td>162453</td>\n",
       "      <td>6</td>\n",
       "      <td>1</td>\n",
       "      <td>1</td>\n",
       "      <td>1</td>\n",
       "      <td>1</td>\n",
       "      <td>3</td>\n",
       "      <td>12</td>\n",
       "    </tr>\n",
       "    <tr>\n",
       "      <th>1</th>\n",
       "      <td>1</td>\n",
       "      <td>2015</td>\n",
       "      <td>1</td>\n",
       "      <td>1</td>\n",
       "      <td>1</td>\n",
       "      <td>2.4</td>\n",
       "      <td>83099</td>\n",
       "      <td>4</td>\n",
       "      <td>1</td>\n",
       "      <td>1</td>\n",
       "      <td>1</td>\n",
       "      <td>1</td>\n",
       "      <td>1</td>\n",
       "      <td>12</td>\n",
       "    </tr>\n",
       "    <tr>\n",
       "      <th>2</th>\n",
       "      <td>1</td>\n",
       "      <td>2015</td>\n",
       "      <td>1</td>\n",
       "      <td>1</td>\n",
       "      <td>1</td>\n",
       "      <td>3.5</td>\n",
       "      <td>70562</td>\n",
       "      <td>6</td>\n",
       "      <td>1</td>\n",
       "      <td>2</td>\n",
       "      <td>1</td>\n",
       "      <td>1</td>\n",
       "      <td>2</td>\n",
       "      <td>12</td>\n",
       "    </tr>\n",
       "    <tr>\n",
       "      <th>3</th>\n",
       "      <td>1</td>\n",
       "      <td>2015</td>\n",
       "      <td>2</td>\n",
       "      <td>1</td>\n",
       "      <td>1</td>\n",
       "      <td>3.5</td>\n",
       "      <td>0</td>\n",
       "      <td>6</td>\n",
       "      <td>1</td>\n",
       "      <td>2</td>\n",
       "      <td>1</td>\n",
       "      <td>1</td>\n",
       "      <td>5</td>\n",
       "      <td>12</td>\n",
       "    </tr>\n",
       "    <tr>\n",
       "      <th>4</th>\n",
       "      <td>1</td>\n",
       "      <td>2010</td>\n",
       "      <td>1</td>\n",
       "      <td>1</td>\n",
       "      <td>1</td>\n",
       "      <td>2.4</td>\n",
       "      <td>203061</td>\n",
       "      <td>4</td>\n",
       "      <td>1</td>\n",
       "      <td>1</td>\n",
       "      <td>1</td>\n",
       "      <td>1</td>\n",
       "      <td>5</td>\n",
       "      <td>12</td>\n",
       "    </tr>\n",
       "    <tr>\n",
       "      <th>...</th>\n",
       "      <td>...</td>\n",
       "      <td>...</td>\n",
       "      <td>...</td>\n",
       "      <td>...</td>\n",
       "      <td>...</td>\n",
       "      <td>...</td>\n",
       "      <td>...</td>\n",
       "      <td>...</td>\n",
       "      <td>...</td>\n",
       "      <td>...</td>\n",
       "      <td>...</td>\n",
       "      <td>...</td>\n",
       "      <td>...</td>\n",
       "      <td>...</td>\n",
       "    </tr>\n",
       "    <tr>\n",
       "      <th>19230</th>\n",
       "      <td>62</td>\n",
       "      <td>1993</td>\n",
       "      <td>1</td>\n",
       "      <td>0</td>\n",
       "      <td>5</td>\n",
       "      <td>2.3</td>\n",
       "      <td>111111</td>\n",
       "      <td>4</td>\n",
       "      <td>2</td>\n",
       "      <td>3</td>\n",
       "      <td>1</td>\n",
       "      <td>1</td>\n",
       "      <td>7</td>\n",
       "      <td>0</td>\n",
       "    </tr>\n",
       "    <tr>\n",
       "      <th>19231</th>\n",
       "      <td>62</td>\n",
       "      <td>2006</td>\n",
       "      <td>2</td>\n",
       "      <td>1</td>\n",
       "      <td>1</td>\n",
       "      <td>2.5</td>\n",
       "      <td>170000</td>\n",
       "      <td>6</td>\n",
       "      <td>3</td>\n",
       "      <td>1</td>\n",
       "      <td>1</td>\n",
       "      <td>1</td>\n",
       "      <td>3</td>\n",
       "      <td>12</td>\n",
       "    </tr>\n",
       "    <tr>\n",
       "      <th>19232</th>\n",
       "      <td>62</td>\n",
       "      <td>1998</td>\n",
       "      <td>1</td>\n",
       "      <td>0</td>\n",
       "      <td>1</td>\n",
       "      <td>2.4</td>\n",
       "      <td>0</td>\n",
       "      <td>5</td>\n",
       "      <td>1</td>\n",
       "      <td>1</td>\n",
       "      <td>1</td>\n",
       "      <td>1</td>\n",
       "      <td>6</td>\n",
       "      <td>4</td>\n",
       "    </tr>\n",
       "    <tr>\n",
       "      <th>19233</th>\n",
       "      <td>63</td>\n",
       "      <td>1989</td>\n",
       "      <td>5</td>\n",
       "      <td>0</td>\n",
       "      <td>1</td>\n",
       "      <td>0.8</td>\n",
       "      <td>201000</td>\n",
       "      <td>3</td>\n",
       "      <td>2</td>\n",
       "      <td>1</td>\n",
       "      <td>2</td>\n",
       "      <td>1</td>\n",
       "      <td>5</td>\n",
       "      <td>0</td>\n",
       "    </tr>\n",
       "    <tr>\n",
       "      <th>19234</th>\n",
       "      <td>63</td>\n",
       "      <td>1990</td>\n",
       "      <td>2</td>\n",
       "      <td>1</td>\n",
       "      <td>1</td>\n",
       "      <td>0.9</td>\n",
       "      <td>64525</td>\n",
       "      <td>4</td>\n",
       "      <td>2</td>\n",
       "      <td>2</td>\n",
       "      <td>2</td>\n",
       "      <td>1</td>\n",
       "      <td>7</td>\n",
       "      <td>0</td>\n",
       "    </tr>\n",
       "  </tbody>\n",
       "</table>\n",
       "<p>19235 rows × 14 columns</p>\n",
       "</div>"
      ],
      "text/plain": [
       "       Manufacturer  Prod. year  Category  Leatherinterior  FuelType  \\\n",
       "0                 1        2010         1                1         1   \n",
       "1                 1        2015         1                1         1   \n",
       "2                 1        2015         1                1         1   \n",
       "3                 1        2015         2                1         1   \n",
       "4                 1        2010         1                1         1   \n",
       "...             ...         ...       ...              ...       ...   \n",
       "19230            62        1993         1                0         5   \n",
       "19231            62        2006         2                1         1   \n",
       "19232            62        1998         1                0         1   \n",
       "19233            63        1989         5                0         1   \n",
       "19234            63        1990         2                1         1   \n",
       "\n",
       "       Engine volume  Mileage  Cylinders  GearBoxType  Drivewheels  Doors  \\\n",
       "0                3.5   162453          6            1            1      1   \n",
       "1                2.4    83099          4            1            1      1   \n",
       "2                3.5    70562          6            1            2      1   \n",
       "3                3.5        0          6            1            2      1   \n",
       "4                2.4   203061          4            1            1      1   \n",
       "...              ...      ...        ...          ...          ...    ...   \n",
       "19230            2.3   111111          4            2            3      1   \n",
       "19231            2.5   170000          6            3            1      1   \n",
       "19232            2.4        0          5            1            1      1   \n",
       "19233            0.8   201000          3            2            1      2   \n",
       "19234            0.9    64525          4            2            2      2   \n",
       "\n",
       "       Wheel  Color  Airbags  \n",
       "0          1      3       12  \n",
       "1          1      1       12  \n",
       "2          1      2       12  \n",
       "3          1      5       12  \n",
       "4          1      5       12  \n",
       "...      ...    ...      ...  \n",
       "19230      1      7        0  \n",
       "19231      1      3       12  \n",
       "19232      1      6        4  \n",
       "19233      1      5        0  \n",
       "19234      1      7        0  \n",
       "\n",
       "[19235 rows x 14 columns]"
      ]
     },
     "execution_count": 38,
     "metadata": {},
     "output_type": "execute_result"
    }
   ],
   "source": [
    "X = dffinal.drop('Price',axis='columns')\n",
    "X"
   ]
  },
  {
   "cell_type": "code",
   "execution_count": 39,
   "id": "63fb21a2",
   "metadata": {
    "ExecuteTime": {
     "end_time": "2022-08-23T10:33:34.163081Z",
     "start_time": "2022-08-23T10:33:34.145574Z"
    }
   },
   "outputs": [
    {
     "data": {
      "text/plain": [
       "0          314\n",
       "1         3450\n",
       "2        10349\n",
       "3          282\n",
       "4         2979\n",
       "         ...  \n",
       "19230     2500\n",
       "19231    11604\n",
       "19232     4500\n",
       "19233     2000\n",
       "19234     5645\n",
       "Name: Price, Length: 19235, dtype: int64"
      ]
     },
     "execution_count": 39,
     "metadata": {},
     "output_type": "execute_result"
    }
   ],
   "source": [
    "y =dffinal['Price']\n",
    "y"
   ]
  },
  {
   "cell_type": "markdown",
   "id": "d0ff9f50",
   "metadata": {},
   "source": [
    "# ML Models Creating"
   ]
  },
  {
   "cell_type": "markdown",
   "id": "64490be8",
   "metadata": {},
   "source": [
    "## Linear regression"
   ]
  },
  {
   "cell_type": "code",
   "execution_count": 40,
   "id": "1c991d27",
   "metadata": {
    "ExecuteTime": {
     "end_time": "2022-08-23T10:33:37.926384Z",
     "start_time": "2022-08-23T10:33:37.379612Z"
    }
   },
   "outputs": [],
   "source": [
    "from sklearn.linear_model import LinearRegression\n",
    "model = LinearRegression()"
   ]
  },
  {
   "cell_type": "code",
   "execution_count": 41,
   "id": "f477d99e",
   "metadata": {
    "ExecuteTime": {
     "end_time": "2022-08-23T10:33:39.213353Z",
     "start_time": "2022-08-23T10:33:39.181423Z"
    }
   },
   "outputs": [
    {
     "data": {
      "text/plain": [
       "LinearRegression()"
      ]
     },
     "execution_count": 41,
     "metadata": {},
     "output_type": "execute_result"
    }
   ],
   "source": [
    "model.fit(X,y)"
   ]
  },
  {
   "cell_type": "code",
   "execution_count": 42,
   "id": "2d2de142",
   "metadata": {
    "ExecuteTime": {
     "end_time": "2022-08-23T10:33:40.829200Z",
     "start_time": "2022-08-23T10:33:40.810294Z"
    }
   },
   "outputs": [
    {
     "data": {
      "text/plain": [
       "0.0030616805212592135"
      ]
     },
     "execution_count": 42,
     "metadata": {},
     "output_type": "execute_result"
    }
   ],
   "source": [
    "model.score(X,y)"
   ]
  },
  {
   "cell_type": "code",
   "execution_count": 43,
   "id": "b149526a",
   "metadata": {
    "ExecuteTime": {
     "end_time": "2022-08-23T10:33:42.083707Z",
     "start_time": "2022-08-23T10:33:41.779804Z"
    }
   },
   "outputs": [
    {
     "ename": "NameError",
     "evalue": "name 'dff' is not defined",
     "output_type": "error",
     "traceback": [
      "\u001b[1;31m---------------------------------------------------------------------------\u001b[0m",
      "\u001b[1;31mNameError\u001b[0m                                 Traceback (most recent call last)",
      "\u001b[1;32m~\\AppData\\Local\\Temp/ipykernel_18520/3358845350.py\u001b[0m in \u001b[0;36m<module>\u001b[1;34m\u001b[0m\n\u001b[1;32m----> 1\u001b[1;33m \u001b[0mdff\u001b[0m\u001b[1;33m.\u001b[0m\u001b[0mhead\u001b[0m\u001b[1;33m(\u001b[0m\u001b[1;36m5\u001b[0m\u001b[1;33m)\u001b[0m\u001b[1;33m\u001b[0m\u001b[1;33m\u001b[0m\u001b[0m\n\u001b[0m",
      "\u001b[1;31mNameError\u001b[0m: name 'dff' is not defined"
     ]
    }
   ],
   "source": [
    "dff.head(5)"
   ]
  },
  {
   "cell_type": "code",
   "execution_count": 521,
   "id": "06993da8",
   "metadata": {
    "ExecuteTime": {
     "end_time": "2022-08-18T12:16:13.233976Z",
     "start_time": "2022-08-18T12:16:13.222010Z"
    }
   },
   "outputs": [
    {
     "data": {
      "text/plain": [
       "array([11022.74247581])"
      ]
     },
     "execution_count": 521,
     "metadata": {},
     "output_type": "execute_result"
    }
   ],
   "source": [
    "model.predict([[1,2015,1,1,1,2.4,83099,4,1,1,1,1,1,12]]) \n",
    "\n",
    "#'Manufacturer','Prod. year', 'Category', 'Leatherinterior','FuelType', 'Engine volume', 'Mileage', 'Cylinders', 'GearBoxType','Drivewheels', 'Doors', 'Wheel', 'Color', 'Airbags'"
   ]
  },
  {
   "cell_type": "markdown",
   "id": "b990606f",
   "metadata": {},
   "source": [
    "## Split data"
   ]
  },
  {
   "cell_type": "code",
   "execution_count": 44,
   "id": "3137849d",
   "metadata": {
    "ExecuteTime": {
     "end_time": "2022-08-23T10:33:43.299423Z",
     "start_time": "2022-08-23T10:33:43.281448Z"
    }
   },
   "outputs": [],
   "source": [
    "from sklearn.model_selection import train_test_split"
   ]
  },
  {
   "cell_type": "code",
   "execution_count": 45,
   "id": "75d9059d",
   "metadata": {
    "ExecuteTime": {
     "end_time": "2022-08-23T10:33:45.364663Z",
     "start_time": "2022-08-23T10:33:45.354615Z"
    }
   },
   "outputs": [
    {
     "data": {
      "text/plain": [
       "((15388, 14), (3847, 14), (15388,), (3847,))"
      ]
     },
     "execution_count": 45,
     "metadata": {},
     "output_type": "execute_result"
    }
   ],
   "source": [
    "X_train,X_test,y_train,y_test=train_test_split(X,y,test_size=0.2,random_state=42)\n",
    "X_train.shape,X_test.shape,y_train.shape,y_test.shape"
   ]
  },
  {
   "cell_type": "code",
   "execution_count": 46,
   "id": "bc55b77f",
   "metadata": {
    "ExecuteTime": {
     "end_time": "2022-08-23T10:33:46.460283Z",
     "start_time": "2022-08-23T10:33:46.436441Z"
    }
   },
   "outputs": [
    {
     "data": {
      "text/html": [
       "<div>\n",
       "<style scoped>\n",
       "    .dataframe tbody tr th:only-of-type {\n",
       "        vertical-align: middle;\n",
       "    }\n",
       "\n",
       "    .dataframe tbody tr th {\n",
       "        vertical-align: top;\n",
       "    }\n",
       "\n",
       "    .dataframe thead th {\n",
       "        text-align: right;\n",
       "    }\n",
       "</style>\n",
       "<table border=\"1\" class=\"dataframe\">\n",
       "  <thead>\n",
       "    <tr style=\"text-align: right;\">\n",
       "      <th></th>\n",
       "      <th>Manufacturer</th>\n",
       "      <th>Prod. year</th>\n",
       "      <th>Category</th>\n",
       "      <th>Leatherinterior</th>\n",
       "      <th>FuelType</th>\n",
       "      <th>Engine volume</th>\n",
       "      <th>Mileage</th>\n",
       "      <th>Cylinders</th>\n",
       "      <th>GearBoxType</th>\n",
       "      <th>Drivewheels</th>\n",
       "      <th>Doors</th>\n",
       "      <th>Wheel</th>\n",
       "      <th>Color</th>\n",
       "      <th>Airbags</th>\n",
       "    </tr>\n",
       "  </thead>\n",
       "  <tbody>\n",
       "    <tr>\n",
       "      <th>9276</th>\n",
       "      <td>31</td>\n",
       "      <td>2013</td>\n",
       "      <td>2</td>\n",
       "      <td>1</td>\n",
       "      <td>2</td>\n",
       "      <td>3.0</td>\n",
       "      <td>135000</td>\n",
       "      <td>6</td>\n",
       "      <td>3</td>\n",
       "      <td>2</td>\n",
       "      <td>1</td>\n",
       "      <td>1</td>\n",
       "      <td>5</td>\n",
       "      <td>12</td>\n",
       "    </tr>\n",
       "    <tr>\n",
       "      <th>7808</th>\n",
       "      <td>23</td>\n",
       "      <td>2014</td>\n",
       "      <td>1</td>\n",
       "      <td>0</td>\n",
       "      <td>1</td>\n",
       "      <td>1.8</td>\n",
       "      <td>102000</td>\n",
       "      <td>4</td>\n",
       "      <td>1</td>\n",
       "      <td>1</td>\n",
       "      <td>1</td>\n",
       "      <td>1</td>\n",
       "      <td>5</td>\n",
       "      <td>12</td>\n",
       "    </tr>\n",
       "    <tr>\n",
       "      <th>16766</th>\n",
       "      <td>58</td>\n",
       "      <td>2014</td>\n",
       "      <td>1</td>\n",
       "      <td>0</td>\n",
       "      <td>1</td>\n",
       "      <td>1.8</td>\n",
       "      <td>187200</td>\n",
       "      <td>4</td>\n",
       "      <td>1</td>\n",
       "      <td>1</td>\n",
       "      <td>1</td>\n",
       "      <td>1</td>\n",
       "      <td>5</td>\n",
       "      <td>8</td>\n",
       "    </tr>\n",
       "    <tr>\n",
       "      <th>7285</th>\n",
       "      <td>23</td>\n",
       "      <td>2014</td>\n",
       "      <td>2</td>\n",
       "      <td>1</td>\n",
       "      <td>2</td>\n",
       "      <td>2.0</td>\n",
       "      <td>31169</td>\n",
       "      <td>4</td>\n",
       "      <td>1</td>\n",
       "      <td>1</td>\n",
       "      <td>1</td>\n",
       "      <td>1</td>\n",
       "      <td>2</td>\n",
       "      <td>4</td>\n",
       "    </tr>\n",
       "    <tr>\n",
       "      <th>15712</th>\n",
       "      <td>58</td>\n",
       "      <td>2011</td>\n",
       "      <td>3</td>\n",
       "      <td>1</td>\n",
       "      <td>3</td>\n",
       "      <td>1.8</td>\n",
       "      <td>200200</td>\n",
       "      <td>4</td>\n",
       "      <td>1</td>\n",
       "      <td>1</td>\n",
       "      <td>1</td>\n",
       "      <td>1</td>\n",
       "      <td>3</td>\n",
       "      <td>12</td>\n",
       "    </tr>\n",
       "    <tr>\n",
       "      <th>...</th>\n",
       "      <td>...</td>\n",
       "      <td>...</td>\n",
       "      <td>...</td>\n",
       "      <td>...</td>\n",
       "      <td>...</td>\n",
       "      <td>...</td>\n",
       "      <td>...</td>\n",
       "      <td>...</td>\n",
       "      <td>...</td>\n",
       "      <td>...</td>\n",
       "      <td>...</td>\n",
       "      <td>...</td>\n",
       "      <td>...</td>\n",
       "      <td>...</td>\n",
       "    </tr>\n",
       "    <tr>\n",
       "      <th>11284</th>\n",
       "      <td>36</td>\n",
       "      <td>1999</td>\n",
       "      <td>1</td>\n",
       "      <td>1</td>\n",
       "      <td>5</td>\n",
       "      <td>2.3</td>\n",
       "      <td>300000</td>\n",
       "      <td>4</td>\n",
       "      <td>1</td>\n",
       "      <td>3</td>\n",
       "      <td>1</td>\n",
       "      <td>1</td>\n",
       "      <td>3</td>\n",
       "      <td>4</td>\n",
       "    </tr>\n",
       "    <tr>\n",
       "      <th>11964</th>\n",
       "      <td>36</td>\n",
       "      <td>2014</td>\n",
       "      <td>1</td>\n",
       "      <td>1</td>\n",
       "      <td>2</td>\n",
       "      <td>3.5</td>\n",
       "      <td>219030</td>\n",
       "      <td>6</td>\n",
       "      <td>1</td>\n",
       "      <td>2</td>\n",
       "      <td>1</td>\n",
       "      <td>1</td>\n",
       "      <td>1</td>\n",
       "      <td>12</td>\n",
       "    </tr>\n",
       "    <tr>\n",
       "      <th>5390</th>\n",
       "      <td>23</td>\n",
       "      <td>2011</td>\n",
       "      <td>2</td>\n",
       "      <td>1</td>\n",
       "      <td>2</td>\n",
       "      <td>2.0</td>\n",
       "      <td>191836</td>\n",
       "      <td>4</td>\n",
       "      <td>1</td>\n",
       "      <td>1</td>\n",
       "      <td>1</td>\n",
       "      <td>1</td>\n",
       "      <td>3</td>\n",
       "      <td>4</td>\n",
       "    </tr>\n",
       "    <tr>\n",
       "      <th>860</th>\n",
       "      <td>5</td>\n",
       "      <td>2014</td>\n",
       "      <td>2</td>\n",
       "      <td>1</td>\n",
       "      <td>2</td>\n",
       "      <td>3.0</td>\n",
       "      <td>0</td>\n",
       "      <td>6</td>\n",
       "      <td>1</td>\n",
       "      <td>2</td>\n",
       "      <td>1</td>\n",
       "      <td>1</td>\n",
       "      <td>1</td>\n",
       "      <td>0</td>\n",
       "    </tr>\n",
       "    <tr>\n",
       "      <th>15795</th>\n",
       "      <td>58</td>\n",
       "      <td>2018</td>\n",
       "      <td>3</td>\n",
       "      <td>1</td>\n",
       "      <td>1</td>\n",
       "      <td>1.5</td>\n",
       "      <td>2000</td>\n",
       "      <td>4</td>\n",
       "      <td>1</td>\n",
       "      <td>1</td>\n",
       "      <td>1</td>\n",
       "      <td>1</td>\n",
       "      <td>5</td>\n",
       "      <td>4</td>\n",
       "    </tr>\n",
       "  </tbody>\n",
       "</table>\n",
       "<p>15388 rows × 14 columns</p>\n",
       "</div>"
      ],
      "text/plain": [
       "       Manufacturer  Prod. year  Category  Leatherinterior  FuelType  \\\n",
       "9276             31        2013         2                1         2   \n",
       "7808             23        2014         1                0         1   \n",
       "16766            58        2014         1                0         1   \n",
       "7285             23        2014         2                1         2   \n",
       "15712            58        2011         3                1         3   \n",
       "...             ...         ...       ...              ...       ...   \n",
       "11284            36        1999         1                1         5   \n",
       "11964            36        2014         1                1         2   \n",
       "5390             23        2011         2                1         2   \n",
       "860               5        2014         2                1         2   \n",
       "15795            58        2018         3                1         1   \n",
       "\n",
       "       Engine volume  Mileage  Cylinders  GearBoxType  Drivewheels  Doors  \\\n",
       "9276             3.0   135000          6            3            2      1   \n",
       "7808             1.8   102000          4            1            1      1   \n",
       "16766            1.8   187200          4            1            1      1   \n",
       "7285             2.0    31169          4            1            1      1   \n",
       "15712            1.8   200200          4            1            1      1   \n",
       "...              ...      ...        ...          ...          ...    ...   \n",
       "11284            2.3   300000          4            1            3      1   \n",
       "11964            3.5   219030          6            1            2      1   \n",
       "5390             2.0   191836          4            1            1      1   \n",
       "860              3.0        0          6            1            2      1   \n",
       "15795            1.5     2000          4            1            1      1   \n",
       "\n",
       "       Wheel  Color  Airbags  \n",
       "9276       1      5       12  \n",
       "7808       1      5       12  \n",
       "16766      1      5        8  \n",
       "7285       1      2        4  \n",
       "15712      1      3       12  \n",
       "...      ...    ...      ...  \n",
       "11284      1      3        4  \n",
       "11964      1      1       12  \n",
       "5390       1      3        4  \n",
       "860        1      1        0  \n",
       "15795      1      5        4  \n",
       "\n",
       "[15388 rows x 14 columns]"
      ]
     },
     "execution_count": 46,
     "metadata": {},
     "output_type": "execute_result"
    }
   ],
   "source": [
    "X_train"
   ]
  },
  {
   "cell_type": "code",
   "execution_count": 47,
   "id": "4a6345e4",
   "metadata": {
    "ExecuteTime": {
     "end_time": "2022-08-23T10:33:47.631597Z",
     "start_time": "2022-08-23T10:33:47.614615Z"
    }
   },
   "outputs": [
    {
     "data": {
      "text/html": [
       "<div>\n",
       "<style scoped>\n",
       "    .dataframe tbody tr th:only-of-type {\n",
       "        vertical-align: middle;\n",
       "    }\n",
       "\n",
       "    .dataframe tbody tr th {\n",
       "        vertical-align: top;\n",
       "    }\n",
       "\n",
       "    .dataframe thead th {\n",
       "        text-align: right;\n",
       "    }\n",
       "</style>\n",
       "<table border=\"1\" class=\"dataframe\">\n",
       "  <thead>\n",
       "    <tr style=\"text-align: right;\">\n",
       "      <th></th>\n",
       "      <th>Manufacturer</th>\n",
       "      <th>Prod. year</th>\n",
       "      <th>Category</th>\n",
       "      <th>Leatherinterior</th>\n",
       "      <th>FuelType</th>\n",
       "      <th>Engine volume</th>\n",
       "      <th>Mileage</th>\n",
       "      <th>Cylinders</th>\n",
       "      <th>GearBoxType</th>\n",
       "      <th>Drivewheels</th>\n",
       "      <th>Doors</th>\n",
       "      <th>Wheel</th>\n",
       "      <th>Color</th>\n",
       "      <th>Airbags</th>\n",
       "    </tr>\n",
       "  </thead>\n",
       "  <tbody>\n",
       "    <tr>\n",
       "      <th>736</th>\n",
       "      <td>5</td>\n",
       "      <td>2004</td>\n",
       "      <td>1</td>\n",
       "      <td>0</td>\n",
       "      <td>1</td>\n",
       "      <td>1.9</td>\n",
       "      <td>81000</td>\n",
       "      <td>4</td>\n",
       "      <td>3</td>\n",
       "      <td>3</td>\n",
       "      <td>1</td>\n",
       "      <td>2</td>\n",
       "      <td>5</td>\n",
       "      <td>6</td>\n",
       "    </tr>\n",
       "    <tr>\n",
       "      <th>8674</th>\n",
       "      <td>26</td>\n",
       "      <td>2007</td>\n",
       "      <td>1</td>\n",
       "      <td>1</td>\n",
       "      <td>1</td>\n",
       "      <td>2.5</td>\n",
       "      <td>160000</td>\n",
       "      <td>6</td>\n",
       "      <td>3</td>\n",
       "      <td>2</td>\n",
       "      <td>1</td>\n",
       "      <td>2</td>\n",
       "      <td>10</td>\n",
       "      <td>5</td>\n",
       "    </tr>\n",
       "    <tr>\n",
       "      <th>5971</th>\n",
       "      <td>23</td>\n",
       "      <td>2012</td>\n",
       "      <td>1</td>\n",
       "      <td>1</td>\n",
       "      <td>1</td>\n",
       "      <td>1.8</td>\n",
       "      <td>182400</td>\n",
       "      <td>4</td>\n",
       "      <td>2</td>\n",
       "      <td>1</td>\n",
       "      <td>1</td>\n",
       "      <td>1</td>\n",
       "      <td>4</td>\n",
       "      <td>8</td>\n",
       "    </tr>\n",
       "    <tr>\n",
       "      <th>1957</th>\n",
       "      <td>8</td>\n",
       "      <td>2015</td>\n",
       "      <td>2</td>\n",
       "      <td>1</td>\n",
       "      <td>4</td>\n",
       "      <td>2.0</td>\n",
       "      <td>109497</td>\n",
       "      <td>4</td>\n",
       "      <td>1</td>\n",
       "      <td>1</td>\n",
       "      <td>1</td>\n",
       "      <td>1</td>\n",
       "      <td>2</td>\n",
       "      <td>4</td>\n",
       "    </tr>\n",
       "    <tr>\n",
       "      <th>11075</th>\n",
       "      <td>36</td>\n",
       "      <td>2008</td>\n",
       "      <td>1</td>\n",
       "      <td>1</td>\n",
       "      <td>2</td>\n",
       "      <td>3.0</td>\n",
       "      <td>175614</td>\n",
       "      <td>6</td>\n",
       "      <td>1</td>\n",
       "      <td>3</td>\n",
       "      <td>1</td>\n",
       "      <td>1</td>\n",
       "      <td>1</td>\n",
       "      <td>12</td>\n",
       "    </tr>\n",
       "    <tr>\n",
       "      <th>...</th>\n",
       "      <td>...</td>\n",
       "      <td>...</td>\n",
       "      <td>...</td>\n",
       "      <td>...</td>\n",
       "      <td>...</td>\n",
       "      <td>...</td>\n",
       "      <td>...</td>\n",
       "      <td>...</td>\n",
       "      <td>...</td>\n",
       "      <td>...</td>\n",
       "      <td>...</td>\n",
       "      <td>...</td>\n",
       "      <td>...</td>\n",
       "      <td>...</td>\n",
       "    </tr>\n",
       "    <tr>\n",
       "      <th>12756</th>\n",
       "      <td>39</td>\n",
       "      <td>2000</td>\n",
       "      <td>2</td>\n",
       "      <td>0</td>\n",
       "      <td>1</td>\n",
       "      <td>1.8</td>\n",
       "      <td>0</td>\n",
       "      <td>6</td>\n",
       "      <td>1</td>\n",
       "      <td>2</td>\n",
       "      <td>1</td>\n",
       "      <td>1</td>\n",
       "      <td>2</td>\n",
       "      <td>2</td>\n",
       "    </tr>\n",
       "    <tr>\n",
       "      <th>12026</th>\n",
       "      <td>36</td>\n",
       "      <td>2011</td>\n",
       "      <td>2</td>\n",
       "      <td>1</td>\n",
       "      <td>1</td>\n",
       "      <td>4.6</td>\n",
       "      <td>88000</td>\n",
       "      <td>8</td>\n",
       "      <td>1</td>\n",
       "      <td>2</td>\n",
       "      <td>1</td>\n",
       "      <td>1</td>\n",
       "      <td>1</td>\n",
       "      <td>10</td>\n",
       "    </tr>\n",
       "    <tr>\n",
       "      <th>17891</th>\n",
       "      <td>58</td>\n",
       "      <td>2004</td>\n",
       "      <td>2</td>\n",
       "      <td>0</td>\n",
       "      <td>4</td>\n",
       "      <td>4.7</td>\n",
       "      <td>204000</td>\n",
       "      <td>8</td>\n",
       "      <td>1</td>\n",
       "      <td>2</td>\n",
       "      <td>1</td>\n",
       "      <td>1</td>\n",
       "      <td>1</td>\n",
       "      <td>4</td>\n",
       "    </tr>\n",
       "    <tr>\n",
       "      <th>5339</th>\n",
       "      <td>23</td>\n",
       "      <td>2014</td>\n",
       "      <td>1</td>\n",
       "      <td>1</td>\n",
       "      <td>4</td>\n",
       "      <td>20.0</td>\n",
       "      <td>333686</td>\n",
       "      <td>4</td>\n",
       "      <td>1</td>\n",
       "      <td>1</td>\n",
       "      <td>1</td>\n",
       "      <td>1</td>\n",
       "      <td>3</td>\n",
       "      <td>4</td>\n",
       "    </tr>\n",
       "    <tr>\n",
       "      <th>11859</th>\n",
       "      <td>36</td>\n",
       "      <td>2017</td>\n",
       "      <td>1</td>\n",
       "      <td>1</td>\n",
       "      <td>1</td>\n",
       "      <td>2.0</td>\n",
       "      <td>70880</td>\n",
       "      <td>4</td>\n",
       "      <td>1</td>\n",
       "      <td>3</td>\n",
       "      <td>1</td>\n",
       "      <td>1</td>\n",
       "      <td>3</td>\n",
       "      <td>12</td>\n",
       "    </tr>\n",
       "  </tbody>\n",
       "</table>\n",
       "<p>3847 rows × 14 columns</p>\n",
       "</div>"
      ],
      "text/plain": [
       "       Manufacturer  Prod. year  Category  Leatherinterior  FuelType  \\\n",
       "736               5        2004         1                0         1   \n",
       "8674             26        2007         1                1         1   \n",
       "5971             23        2012         1                1         1   \n",
       "1957              8        2015         2                1         4   \n",
       "11075            36        2008         1                1         2   \n",
       "...             ...         ...       ...              ...       ...   \n",
       "12756            39        2000         2                0         1   \n",
       "12026            36        2011         2                1         1   \n",
       "17891            58        2004         2                0         4   \n",
       "5339             23        2014         1                1         4   \n",
       "11859            36        2017         1                1         1   \n",
       "\n",
       "       Engine volume  Mileage  Cylinders  GearBoxType  Drivewheels  Doors  \\\n",
       "736              1.9    81000          4            3            3      1   \n",
       "8674             2.5   160000          6            3            2      1   \n",
       "5971             1.8   182400          4            2            1      1   \n",
       "1957             2.0   109497          4            1            1      1   \n",
       "11075            3.0   175614          6            1            3      1   \n",
       "...              ...      ...        ...          ...          ...    ...   \n",
       "12756            1.8        0          6            1            2      1   \n",
       "12026            4.6    88000          8            1            2      1   \n",
       "17891            4.7   204000          8            1            2      1   \n",
       "5339            20.0   333686          4            1            1      1   \n",
       "11859            2.0    70880          4            1            3      1   \n",
       "\n",
       "       Wheel  Color  Airbags  \n",
       "736        2      5        6  \n",
       "8674       2     10        5  \n",
       "5971       1      4        8  \n",
       "1957       1      2        4  \n",
       "11075      1      1       12  \n",
       "...      ...    ...      ...  \n",
       "12756      1      2        2  \n",
       "12026      1      1       10  \n",
       "17891      1      1        4  \n",
       "5339       1      3        4  \n",
       "11859      1      3       12  \n",
       "\n",
       "[3847 rows x 14 columns]"
      ]
     },
     "execution_count": 47,
     "metadata": {},
     "output_type": "execute_result"
    }
   ],
   "source": [
    "X_test"
   ]
  },
  {
   "cell_type": "code",
   "execution_count": 48,
   "id": "8c90ea6e",
   "metadata": {
    "ExecuteTime": {
     "end_time": "2022-08-23T10:33:49.484205Z",
     "start_time": "2022-08-23T10:33:49.475719Z"
    }
   },
   "outputs": [
    {
     "data": {
      "text/plain": [
       "9276     62722\n",
       "7808      9408\n",
       "16766    18033\n",
       "7285     23505\n",
       "15712     2979\n",
       "         ...  \n",
       "11284     7840\n",
       "11964    29793\n",
       "5390     23138\n",
       "860       7213\n",
       "15795    42538\n",
       "Name: Price, Length: 15388, dtype: int64"
      ]
     },
     "execution_count": 48,
     "metadata": {},
     "output_type": "execute_result"
    }
   ],
   "source": [
    "y_train"
   ]
  },
  {
   "cell_type": "code",
   "execution_count": 49,
   "id": "9fac59a5",
   "metadata": {
    "ExecuteTime": {
     "end_time": "2022-08-23T10:33:50.755388Z",
     "start_time": "2022-08-23T10:33:50.749407Z"
    }
   },
   "outputs": [
    {
     "data": {
      "text/plain": [
       "736       9408\n",
       "8674     11000\n",
       "5971     16621\n",
       "1957     24283\n",
       "11075     2430\n",
       "         ...  \n",
       "12756     6272\n",
       "12026    37633\n",
       "17891    31361\n",
       "5339     10036\n",
       "11859    16621\n",
       "Name: Price, Length: 3847, dtype: int64"
      ]
     },
     "execution_count": 49,
     "metadata": {},
     "output_type": "execute_result"
    }
   ],
   "source": [
    "y_test"
   ]
  },
  {
   "cell_type": "code",
   "execution_count": 50,
   "id": "20ba4ec3",
   "metadata": {
    "ExecuteTime": {
     "end_time": "2022-08-23T10:33:51.709981Z",
     "start_time": "2022-08-23T10:33:51.698437Z"
    }
   },
   "outputs": [
    {
     "data": {
      "text/plain": [
       "0.0030616805212592135"
      ]
     },
     "execution_count": 50,
     "metadata": {},
     "output_type": "execute_result"
    }
   ],
   "source": [
    "model.score(X,y)"
   ]
  },
  {
   "cell_type": "markdown",
   "id": "d445b1ed",
   "metadata": {},
   "source": [
    "## SVM Algorithm"
   ]
  },
  {
   "cell_type": "code",
   "execution_count": 51,
   "id": "3ae25352",
   "metadata": {
    "ExecuteTime": {
     "end_time": "2022-08-23T10:34:05.826133Z",
     "start_time": "2022-08-23T10:33:52.804438Z"
    }
   },
   "outputs": [
    {
     "data": {
      "text/plain": [
       "SVR(C=15, epsilon=0.05)"
      ]
     },
     "execution_count": 51,
     "metadata": {},
     "output_type": "execute_result"
    }
   ],
   "source": [
    "from sklearn.svm import SVR\n",
    "SV = SVR(C=15,epsilon=.05,kernel=\"rbf\")\n",
    "SV.fit(X_train, y_train)"
   ]
  },
  {
   "cell_type": "code",
   "execution_count": 52,
   "id": "a31a2eb5",
   "metadata": {
    "ExecuteTime": {
     "end_time": "2022-08-23T10:34:37.987600Z",
     "start_time": "2022-08-23T10:34:05.871997Z"
    }
   },
   "outputs": [
    {
     "name": "stdout",
     "output_type": "stream",
     "text": [
      "Training score: -0.0007269105226173078\n",
      "Testing score: -0.035190664374453284\n"
     ]
    }
   ],
   "source": [
    "print(\"Training score:\",SV.score(X_train,y_train))\n",
    "print(\"Testing score:\",SV.score(X_test,y_test))"
   ]
  },
  {
   "cell_type": "markdown",
   "id": "e80384a0",
   "metadata": {},
   "source": [
    "## Logistic Regression"
   ]
  },
  {
   "cell_type": "code",
   "execution_count": 53,
   "id": "04b6f899",
   "metadata": {
    "ExecuteTime": {
     "end_time": "2022-08-23T10:34:38.050422Z",
     "start_time": "2022-08-23T10:34:38.035294Z"
    },
    "run_control": {
     "marked": true
    }
   },
   "outputs": [],
   "source": [
    "from sklearn.linear_model import LogisticRegression\n",
    "model1 = LogisticRegression()"
   ]
  },
  {
   "cell_type": "code",
   "execution_count": 54,
   "id": "44d59b94",
   "metadata": {
    "ExecuteTime": {
     "end_time": "2022-08-23T10:38:45.134209Z",
     "start_time": "2022-08-23T10:34:38.100648Z"
    }
   },
   "outputs": [
    {
     "name": "stderr",
     "output_type": "stream",
     "text": [
      "C:\\Users\\MBR\\anaconda3\\lib\\site-packages\\sklearn\\linear_model\\_logistic.py:763: ConvergenceWarning: lbfgs failed to converge (status=1):\n",
      "STOP: TOTAL NO. of ITERATIONS REACHED LIMIT.\n",
      "\n",
      "Increase the number of iterations (max_iter) or scale the data as shown in:\n",
      "    https://scikit-learn.org/stable/modules/preprocessing.html\n",
      "Please also refer to the documentation for alternative solver options:\n",
      "    https://scikit-learn.org/stable/modules/linear_model.html#logistic-regression\n",
      "  n_iter_i = _check_optimize_result(\n"
     ]
    },
    {
     "data": {
      "text/plain": [
       "LogisticRegression()"
      ]
     },
     "execution_count": 54,
     "metadata": {},
     "output_type": "execute_result"
    }
   ],
   "source": [
    "model1.fit(X_train, y_train)"
   ]
  },
  {
   "cell_type": "code",
   "execution_count": 503,
   "id": "dd5defc2",
   "metadata": {
    "ExecuteTime": {
     "end_time": "2022-08-18T12:12:03.732181Z",
     "start_time": "2022-08-18T12:12:03.711325Z"
    }
   },
   "outputs": [
    {
     "data": {
      "text/plain": [
       "array([6272], dtype=int64)"
      ]
     },
     "execution_count": 503,
     "metadata": {},
     "output_type": "execute_result"
    }
   ],
   "source": [
    "model1.predict([[1,2015,1,1,1,2.4,83099,4,1,1,1,1,1,12]])"
   ]
  },
  {
   "cell_type": "code",
   "execution_count": 522,
   "id": "daa5d9f9",
   "metadata": {
    "ExecuteTime": {
     "end_time": "2022-08-18T12:18:56.719468Z",
     "start_time": "2022-08-18T12:18:56.383343Z"
    }
   },
   "outputs": [
    {
     "name": "stdout",
     "output_type": "stream",
     "text": [
      "Training score: 0.007733298674291656\n",
      "Testing score: 0.00857811281518066\n"
     ]
    }
   ],
   "source": [
    "print(\"Training score:\",model1.score(X_train,y_train))\n",
    "print(\"Testing score:\",model1.score(X_test,y_test))"
   ]
  },
  {
   "cell_type": "markdown",
   "id": "76ce610e",
   "metadata": {},
   "source": [
    "## Decision Tree"
   ]
  },
  {
   "cell_type": "code",
   "execution_count": 525,
   "id": "2c23ed9b",
   "metadata": {
    "ExecuteTime": {
     "end_time": "2022-08-18T12:21:02.695106Z",
     "start_time": "2022-08-18T12:21:02.691116Z"
    }
   },
   "outputs": [],
   "source": [
    "from sklearn.tree import DecisionTreeRegressor"
   ]
  },
  {
   "cell_type": "code",
   "execution_count": 534,
   "id": "cd5c9532",
   "metadata": {
    "ExecuteTime": {
     "end_time": "2022-08-18T12:23:17.938252Z",
     "start_time": "2022-08-18T12:23:17.923292Z"
    }
   },
   "outputs": [],
   "source": [
    "DT=DecisionTreeRegressor()"
   ]
  },
  {
   "cell_type": "code",
   "execution_count": 535,
   "id": "df688789",
   "metadata": {
    "ExecuteTime": {
     "end_time": "2022-08-18T12:23:33.912362Z",
     "start_time": "2022-08-18T12:23:33.830171Z"
    }
   },
   "outputs": [
    {
     "data": {
      "text/plain": [
       "DecisionTreeRegressor()"
      ]
     },
     "execution_count": 535,
     "metadata": {},
     "output_type": "execute_result"
    }
   ],
   "source": [
    "DT.fit(X_train,y_train)"
   ]
  },
  {
   "cell_type": "code",
   "execution_count": 528,
   "id": "a2a51bf5",
   "metadata": {
    "ExecuteTime": {
     "end_time": "2022-08-18T12:21:10.117482Z",
     "start_time": "2022-08-18T12:21:10.107961Z"
    }
   },
   "outputs": [
    {
     "data": {
      "text/plain": [
       "array([3450.])"
      ]
     },
     "execution_count": 528,
     "metadata": {},
     "output_type": "execute_result"
    }
   ],
   "source": [
    "DT.predict([[1,2015,1,1,1,2.4,83099,4,1,1,1,1,1,12]])"
   ]
  },
  {
   "cell_type": "code",
   "execution_count": 536,
   "id": "89e4b393",
   "metadata": {
    "ExecuteTime": {
     "end_time": "2022-08-18T12:23:41.969326Z",
     "start_time": "2022-08-18T12:23:41.947705Z"
    }
   },
   "outputs": [
    {
     "name": "stdout",
     "output_type": "stream",
     "text": [
      "Training score: 0.9999245938388909\n",
      "Testing score: 0.4571507387407332\n"
     ]
    }
   ],
   "source": [
    "print(\"Training score:\",DT.score(X_train,y_train))\n",
    "print(\"Testing score:\",DT.score(X_test,y_test))"
   ]
  },
  {
   "cell_type": "markdown",
   "id": "219aff9a",
   "metadata": {},
   "source": [
    "## Random Forest Algorithm"
   ]
  },
  {
   "cell_type": "code",
   "execution_count": 464,
   "id": "78187396",
   "metadata": {
    "ExecuteTime": {
     "end_time": "2022-08-18T11:47:47.405106Z",
     "start_time": "2022-08-18T11:47:47.394653Z"
    }
   },
   "outputs": [],
   "source": [
    "from sklearn.ensemble import RandomForestRegressor\n",
    "RF=RandomForestRegressor(n_estimators=1)"
   ]
  },
  {
   "cell_type": "code",
   "execution_count": 465,
   "id": "0c1cd7f4",
   "metadata": {
    "ExecuteTime": {
     "end_time": "2022-08-18T11:47:50.064972Z",
     "start_time": "2022-08-18T11:47:50.000354Z"
    }
   },
   "outputs": [
    {
     "data": {
      "text/plain": [
       "RandomForestRegressor(n_estimators=1)"
      ]
     },
     "execution_count": 465,
     "metadata": {},
     "output_type": "execute_result"
    }
   ],
   "source": [
    "RF.fit(X_train,y_train)"
   ]
  },
  {
   "cell_type": "code",
   "execution_count": 467,
   "id": "df44d1ff",
   "metadata": {
    "ExecuteTime": {
     "end_time": "2022-08-18T11:47:57.345965Z",
     "start_time": "2022-08-18T11:47:57.328477Z"
    }
   },
   "outputs": [
    {
     "data": {
      "text/plain": [
       "0.46491337317814274"
      ]
     },
     "execution_count": 467,
     "metadata": {},
     "output_type": "execute_result"
    }
   ],
   "source": [
    "RF.score(X_test,y_test)"
   ]
  },
  {
   "cell_type": "code",
   "execution_count": 468,
   "id": "5f7282f9",
   "metadata": {
    "ExecuteTime": {
     "end_time": "2022-08-18T11:47:59.274359Z",
     "start_time": "2022-08-18T11:47:59.256486Z"
    }
   },
   "outputs": [
    {
     "data": {
      "text/plain": [
       "array([3450.])"
      ]
     },
     "execution_count": 468,
     "metadata": {},
     "output_type": "execute_result"
    }
   ],
   "source": [
    "RF.predict([[1,2015,1,1,1,2.4,83099,4,1,1,1,1,1,12]])"
   ]
  },
  {
   "cell_type": "code",
   "execution_count": 469,
   "id": "60da098a",
   "metadata": {
    "ExecuteTime": {
     "end_time": "2022-08-18T11:48:03.335177Z",
     "start_time": "2022-08-18T11:48:03.306237Z"
    }
   },
   "outputs": [
    {
     "name": "stdout",
     "output_type": "stream",
     "text": [
      "Training Score: 0.99836787134038\n",
      "Testing Score: 0.46491337317814274\n"
     ]
    }
   ],
   "source": [
    "print(\"Training Score:\",RF.score(X_train,y_train))\n",
    "print(\"Testing Score:\",RF.score(X_test,y_test))"
   ]
  },
  {
   "cell_type": "markdown",
   "id": "13e64efd",
   "metadata": {},
   "source": [
    "## Gradient Boosting Algorithm"
   ]
  },
  {
   "cell_type": "code",
   "execution_count": 483,
   "id": "2f5abb30",
   "metadata": {
    "ExecuteTime": {
     "end_time": "2022-08-18T11:59:13.110780Z",
     "start_time": "2022-08-18T11:59:13.097816Z"
    }
   },
   "outputs": [],
   "source": [
    "from sklearn.ensemble import GradientBoostingRegressor"
   ]
  },
  {
   "cell_type": "code",
   "execution_count": 484,
   "id": "f0d747ee",
   "metadata": {
    "ExecuteTime": {
     "end_time": "2022-08-18T11:59:18.438530Z",
     "start_time": "2022-08-18T11:59:17.254915Z"
    }
   },
   "outputs": [
    {
     "data": {
      "text/plain": [
       "GradientBoostingRegressor()"
      ]
     },
     "execution_count": 484,
     "metadata": {},
     "output_type": "execute_result"
    }
   ],
   "source": [
    "GB=GradientBoostingRegressor()\n",
    "GB.fit(X_train,y_train)"
   ]
  },
  {
   "cell_type": "code",
   "execution_count": 476,
   "id": "b623a777",
   "metadata": {
    "ExecuteTime": {
     "end_time": "2022-08-18T11:56:07.276741Z",
     "start_time": "2022-08-18T11:56:07.261262Z"
    }
   },
   "outputs": [
    {
     "data": {
      "text/plain": [
       "array([13102.36878611])"
      ]
     },
     "execution_count": 476,
     "metadata": {},
     "output_type": "execute_result"
    }
   ],
   "source": [
    "GB.predict([[1,2015,1,1,1,2.4,83099,4,1,1,1,1,1,12]])"
   ]
  },
  {
   "cell_type": "code",
   "execution_count": 477,
   "id": "a3cd8933",
   "metadata": {
    "ExecuteTime": {
     "end_time": "2022-08-18T11:56:18.998370Z",
     "start_time": "2022-08-18T11:56:18.953492Z"
    }
   },
   "outputs": [
    {
     "name": "stdout",
     "output_type": "stream",
     "text": [
      "Training score: 0.8592912043029093\n",
      "Testing score: -35.01962409657118\n"
     ]
    }
   ],
   "source": [
    "print(\"Training score:\",GB.score(X_train,y_train))\n",
    "print(\"Testing score:\",GB.score(X_test,y_test))"
   ]
  },
  {
   "cell_type": "markdown",
   "id": "cf0f68f7",
   "metadata": {},
   "source": [
    "## Extreme Gradient Boosting"
   ]
  },
  {
   "cell_type": "code",
   "execution_count": 485,
   "id": "a96f27b7",
   "metadata": {
    "ExecuteTime": {
     "end_time": "2022-08-18T11:59:32.654308Z",
     "start_time": "2022-08-18T11:59:32.639314Z"
    }
   },
   "outputs": [],
   "source": [
    "import xgboost\n",
    "from xgboost import XGBRegressor"
   ]
  },
  {
   "cell_type": "code",
   "execution_count": 486,
   "id": "1e91a376",
   "metadata": {
    "ExecuteTime": {
     "end_time": "2022-08-18T11:59:35.173825Z",
     "start_time": "2022-08-18T11:59:34.366379Z"
    }
   },
   "outputs": [
    {
     "data": {
      "text/plain": [
       "XGBRegressor(base_score=0.5, booster='gbtree', callbacks=None,\n",
       "             colsample_bylevel=1, colsample_bynode=1, colsample_bytree=1,\n",
       "             early_stopping_rounds=None, enable_categorical=False,\n",
       "             eval_metric=None, gamma=0, gpu_id=-1, grow_policy='depthwise',\n",
       "             importance_type=None, interaction_constraints='',\n",
       "             learning_rate=0.300000012, max_bin=256, max_cat_to_onehot=4,\n",
       "             max_delta_step=0, max_depth=6, max_leaves=0, min_child_weight=1,\n",
       "             missing=nan, monotone_constraints='()', n_estimators=100, n_jobs=0,\n",
       "             num_parallel_tree=1, predictor='auto', random_state=0, reg_alpha=0,\n",
       "             reg_lambda=1, ...)"
      ]
     },
     "execution_count": 486,
     "metadata": {},
     "output_type": "execute_result"
    }
   ],
   "source": [
    "XGB=XGBRegressor()\n",
    "XGB.fit(X_train,y_train)"
   ]
  },
  {
   "cell_type": "code",
   "execution_count": 499,
   "id": "5e603043",
   "metadata": {
    "ExecuteTime": {
     "end_time": "2022-08-18T12:04:35.709172Z",
     "start_time": "2022-08-18T12:04:35.672763Z"
    }
   },
   "outputs": [
    {
     "name": "stdout",
     "output_type": "stream",
     "text": [
      "Training test: 0.9991520151123461\n",
      "Testing Test: 0.6013243891997053\n"
     ]
    }
   ],
   "source": [
    "print(\"Training test:\",XGB.score(X_train,y_train))\n",
    "print(\"Testing Test:\",XGB.score(X_test,y_test))"
   ]
  },
  {
   "cell_type": "markdown",
   "id": "b9a4b19a",
   "metadata": {},
   "source": [
    "# We Can get that the best models are:\n",
    "\n",
    "**1-Random forest algorithm**\n",
    "\n",
    "**2-Decision Tree**"
   ]
  }
 ],
 "metadata": {
  "hide_input": false,
  "kernelspec": {
   "display_name": "Python 3 (ipykernel)",
   "language": "python",
   "name": "python3"
  },
  "language_info": {
   "codemirror_mode": {
    "name": "ipython",
    "version": 3
   },
   "file_extension": ".py",
   "mimetype": "text/x-python",
   "name": "python",
   "nbconvert_exporter": "python",
   "pygments_lexer": "ipython3",
   "version": "3.9.7"
  },
  "latex_envs": {
   "LaTeX_envs_menu_present": true,
   "autoclose": false,
   "autocomplete": true,
   "bibliofile": "biblio.bib",
   "cite_by": "apalike",
   "current_citInitial": 1,
   "eqLabelWithNumbers": true,
   "eqNumInitial": 1,
   "hotkeys": {
    "equation": "Ctrl-E",
    "itemize": "Ctrl-I"
   },
   "labels_anchors": false,
   "latex_user_defs": false,
   "report_style_numbering": false,
   "user_envs_cfg": false
  },
  "nbTranslate": {
   "displayLangs": [
    "*"
   ],
   "hotkey": "alt-t",
   "langInMainMenu": true,
   "sourceLang": "en",
   "targetLang": "fr",
   "useGoogleTranslate": true
  },
  "toc": {
   "base_numbering": 1,
   "nav_menu": {},
   "number_sections": true,
   "sideBar": true,
   "skip_h1_title": false,
   "title_cell": "Table of Contents",
   "title_sidebar": "Contents",
   "toc_cell": false,
   "toc_position": {},
   "toc_section_display": true,
   "toc_window_display": false
  },
  "varInspector": {
   "cols": {
    "lenName": 16,
    "lenType": 16,
    "lenVar": 40
   },
   "kernels_config": {
    "python": {
     "delete_cmd_postfix": "",
     "delete_cmd_prefix": "del ",
     "library": "var_list.py",
     "varRefreshCmd": "print(var_dic_list())"
    },
    "r": {
     "delete_cmd_postfix": ") ",
     "delete_cmd_prefix": "rm(",
     "library": "var_list.r",
     "varRefreshCmd": "cat(var_dic_list()) "
    }
   },
   "types_to_exclude": [
    "module",
    "function",
    "builtin_function_or_method",
    "instance",
    "_Feature"
   ],
   "window_display": false
  }
 },
 "nbformat": 4,
 "nbformat_minor": 5
}
