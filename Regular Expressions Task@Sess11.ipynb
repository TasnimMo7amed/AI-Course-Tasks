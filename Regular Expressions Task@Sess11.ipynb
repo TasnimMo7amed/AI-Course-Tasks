{
 "cells": [
  {
   "cell_type": "code",
   "execution_count": 29,
   "id": "3ca29116",
   "metadata": {
    "ExecuteTime": {
     "end_time": "2022-05-15T11:04:53.969069Z",
     "start_time": "2022-05-15T11:04:53.583276Z"
    }
   },
   "outputs": [],
   "source": [
    "import re #Regular Expressions"
   ]
  },
  {
   "cell_type": "code",
   "execution_count": 73,
   "id": "639d0f8e",
   "metadata": {
    "ExecuteTime": {
     "end_time": "2022-05-15T12:53:06.708580Z",
     "start_time": "2022-05-15T12:53:06.689222Z"
    }
   },
   "outputs": [
    {
     "data": {
      "text/plain": [
       "'Ahmed , Mohamed , Omar ,Sara ,Ahmed@Hotmail.com,Mohamed78@gmail.com, Omar_T@gmail.edu, Sara.Moh56@CHR.net,00200101234567 , 00200111234567 , 00200121234567 , 00200151234567 '"
      ]
     },
     "execution_count": 73,
     "metadata": {},
     "output_type": "execute_result"
    }
   ],
   "source": [
    "DataSet=\"Ahmed , Mohamed , Omar ,Sara ,Ahmed@Hotmail.com,Mohamed78@gmail.com, Omar_T@gmail.edu, Sara.Moh56@CHR.net,00200101234567 , 00200111234567 , 00200121234567 , 00200151234567 \"\n",
    "DataSet"
   ]
  },
  {
   "cell_type": "code",
   "execution_count": 76,
   "id": "9faece40",
   "metadata": {
    "ExecuteTime": {
     "end_time": "2022-05-15T12:56:40.042385Z",
     "start_time": "2022-05-15T12:56:40.031869Z"
    }
   },
   "outputs": [
    {
     "name": "stdout",
     "output_type": "stream",
     "text": [
      "['00200101234567', '00200111234567', '00200121234567', '00200151234567']\n",
      "['Ahmed@Hotmail.com', 'Mohamed78@gmail.com', 'Omar_T@gmail.edu', 'Sara.Moh56@CHR.net']\n",
      "['Ahmed ', 'Mohamed ', 'Omar ', 'Sara ']\n"
     ]
    }
   ],
   "source": [
    "PhoneList=[]\n",
    "EmailList=[]\n",
    "NameList=[]\n",
    "PhonePattern= re.compile(r'00200\\d{9}')\n",
    "PhoneNumber = PhonePattern.finditer(DataSet)\n",
    "EmailPattern= re.compile(r'[a-zA-Z0-9_.+-]+@[a-zA-Z0-9-]+\\.[a-zA-Z0-9-.]{2,}')\n",
    "Emails = EmailPattern.finditer(DataSet)\n",
    "NamePattern= re.compile('[A-Za-z]{4,25}\\s')\n",
    "Names = NamePattern.finditer(DataSet)\n",
    "for i in PhoneNumber:\n",
    "    PhoneList.append(i.group())\n",
    "for i in Emails:\n",
    "    EmailList.append(i.group())\n",
    "for i in Names:\n",
    "    NameList.append(i.group())\n",
    "print(PhoneList)\n",
    "print(EmailList)\n",
    "print(NameList)\n"
   ]
  },
  {
   "cell_type": "code",
   "execution_count": null,
   "id": "e984e704",
   "metadata": {},
   "outputs": [],
   "source": []
  }
 ],
 "metadata": {
  "hide_input": false,
  "kernelspec": {
   "display_name": "Python 3 (ipykernel)",
   "language": "python",
   "name": "python3"
  },
  "language_info": {
   "codemirror_mode": {
    "name": "ipython",
    "version": 3
   },
   "file_extension": ".py",
   "mimetype": "text/x-python",
   "name": "python",
   "nbconvert_exporter": "python",
   "pygments_lexer": "ipython3",
   "version": "3.9.7"
  },
  "latex_envs": {
   "LaTeX_envs_menu_present": true,
   "autoclose": false,
   "autocomplete": true,
   "bibliofile": "biblio.bib",
   "cite_by": "apalike",
   "current_citInitial": 1,
   "eqLabelWithNumbers": true,
   "eqNumInitial": 1,
   "hotkeys": {
    "equation": "Ctrl-E",
    "itemize": "Ctrl-I"
   },
   "labels_anchors": false,
   "latex_user_defs": false,
   "report_style_numbering": false,
   "user_envs_cfg": false
  },
  "nbTranslate": {
   "displayLangs": [
    "*"
   ],
   "hotkey": "alt-t",
   "langInMainMenu": true,
   "sourceLang": "en",
   "targetLang": "fr",
   "useGoogleTranslate": true
  },
  "toc": {
   "base_numbering": 1,
   "nav_menu": {},
   "number_sections": true,
   "sideBar": true,
   "skip_h1_title": false,
   "title_cell": "Table of Contents",
   "title_sidebar": "Contents",
   "toc_cell": false,
   "toc_position": {},
   "toc_section_display": true,
   "toc_window_display": false
  },
  "varInspector": {
   "cols": {
    "lenName": 16,
    "lenType": 16,
    "lenVar": 40
   },
   "kernels_config": {
    "python": {
     "delete_cmd_postfix": "",
     "delete_cmd_prefix": "del ",
     "library": "var_list.py",
     "varRefreshCmd": "print(var_dic_list())"
    },
    "r": {
     "delete_cmd_postfix": ") ",
     "delete_cmd_prefix": "rm(",
     "library": "var_list.r",
     "varRefreshCmd": "cat(var_dic_list()) "
    }
   },
   "types_to_exclude": [
    "module",
    "function",
    "builtin_function_or_method",
    "instance",
    "_Feature"
   ],
   "window_display": false
  }
 },
 "nbformat": 4,
 "nbformat_minor": 5
}
